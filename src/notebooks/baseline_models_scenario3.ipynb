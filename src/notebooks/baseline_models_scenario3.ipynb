{
 "cells": [
  {
   "cell_type": "code",
   "execution_count": 1,
   "metadata": {},
   "outputs": [],
   "source": [
    "import glob\n",
    "import re\n",
    "import json\n",
    "import itertools\n",
    "import pandas as pd\n",
    "from pathlib import Path\n",
    "\n",
    "\n",
    "from concurrent.futures import ProcessPoolExecutor, as_completed, ThreadPoolExecutor\n",
    "import joblib\n",
    "from joblib import Parallel, delayed, parallel_backend\n",
    "import multiprocessing\n",
    "from multiprocessing import Value\n",
    "from tqdm.auto import tqdm\n",
    "import itertools\n",
    "\n",
    "\n",
    "from sklearn.linear_model import LinearRegression\n",
    "from sklearn.svm import SVR\n",
    "from sklearn.ensemble import RandomForestRegressor\n",
    "from xgboost import XGBRegressor\n",
    "import numpy as np\n",
    "from sklearn.metrics import mean_squared_error\n",
    "from sklearn.model_selection import GridSearchCV\n",
    "import joblib\n",
    "from sklearn.model_selection import TimeSeriesSplit\n",
    "\n",
    "# all the functions from helpers.py\n",
    "from helpers_scenario3 import *"
   ]
  },
  {
   "cell_type": "code",
   "execution_count": 2,
   "metadata": {},
   "outputs": [],
   "source": [
    "scenario_folder = \"../data/preprocessed/cleaned_and_prepro_improved/scenario_3/\"\n",
    "fold = 0\n",
    "\n",
    "phys_folder, ann_folder = create_folder_structure(scenario_folder, fold)\n",
    "\n",
    "annotations_folder = '../data/raw/scenario_3/fold_0/train/annotations/'\n",
    "physiology_folder = \"../data/preprocessed/cleaned_and_prepro_improved/scenario_3/fold_0/train/physiology/\" \n",
    "zipped_files = zip_csv_files(annotations_folder, physiology_folder)\n",
    "\n",
    "subjects, videos = get_subs_vids('../data/preprocessed/cleaned_and_prepro_improved/scenario_3/fold_0/train/physiology')\n",
    "\n",
    "cat_dict = {1: [16, 20], 2: [0, 3], 3: [10, 22], 4: [4, 21]}\n",
    "\n",
    "splits = split_categories_videos_train_test(videos, categories = [2,3,4],cat_dict = cat_dict,splits =3)"
   ]
  },
  {
   "cell_type": "code",
   "execution_count": 3,
   "metadata": {},
   "outputs": [],
   "source": [
    "num_cpu_cores = multiprocessing.cpu_count()\n",
    "\n",
    "# Define aggregate metric combinations\n",
    "aggregate_combinations = [\n",
    "    # ['enlarged'],\n",
    "    # ['mean'],\n",
    "    # ['std'],\n",
    "    # ['max'],\n",
    "    # ['min'],\n",
    "    # ['mean', 'std'],\n",
    "    # ['mean', 'max'],\n",
    "    # ['mean', 'min'],\n",
    "    # ['std', 'max'],\n",
    "    # ['std', 'min'],\n",
    "    # ['max', 'min'],\n",
    "    ['mean', 'std', 'max', 'min']\n",
    "]\n",
    "\n",
    "# Define models and hyperparameters\n",
    "models_hyperparameters = [\n",
    "    # (LinearRegression, {}),\n",
    "    # (SVR, {\n",
    "    #     'kernel': ['linear', 'rbf'],\n",
    "    #     'C': [0.1, 1, 10],\n",
    "    #     'epsilon': [0.1, 1],\n",
    "    #     'gamma': ['scale', 'auto'],  # Only used for 'rbf' kernel\n",
    "    # }),\n",
    "    (RandomForestRegressor, {\n",
    "        'n_estimators': [100],#[50, 100],\n",
    "        'max_depth': [None],#[10, None],\n",
    "        'min_samples_split': [5],#[2, 5],\n",
    "        'min_samples_leaf': [1],\n",
    "    }),\n",
    "    # (XGBRegressor, {\n",
    "    #     'n_estimators': [50, 100],\n",
    "    #     'max_depth': [6, 10],\n",
    "    #     'learning_rate': [0.01, 0.1],\n",
    "    #     'subsample': [0.5, 0.8],\n",
    "        # 'colsample_bytree': [0.5, 0.8],\n",
    "        # 'reg_alpha': [0, 0.1],\n",
    "        # 'reg_lambda': [0.1, 1],\n",
    "    # }),\n",
    "]\n",
    "\n",
    "windows = [[-10000, 10000], [-5000, 5000], [-2000,2000],]\n",
    "partitions = [1, 2, 3, 5]\n",
    "\n",
    "# Initialize an empty DataFrame for the best results and a dictionary for all results\n",
    "best_results_df = pd.DataFrame()\n",
    "all_results = {}\n",
    "\n",
    "\n",
    "def process_files(annotation_file, physiology_file,window, partition_window):\n",
    "    df_annotations = pd.read_csv(annotation_file)\n",
    "    df_physiology = pd.read_csv(physiology_file)\n",
    "    \n",
    "    # print(physiology_file)\n",
    "    X, y, = preprocess(df_physiology, df_annotations,  predictions_cols=['arousal','valence'], aggregate=['mean','min'], window=window, partition_window = partition_window)\n",
    "    # print(X.shape, y.shape)\n",
    "    \n",
    "    save_files(X, y, annotation_file, phys_folder, ann_folder)\n",
    "    \n",
    "    return None\n",
    "\n",
    "def process_subject(subject, models_hyperparameters, splits, phys_folder, ann_folder,window, partition_window):\n",
    "    results = []\n",
    "\n",
    "    for model, hyperparameters in models_hyperparameters:\n",
    "        for hp_set in itertools.product(*hyperparameters.values()):\n",
    "            hp_dict = dict(zip(hyperparameters.keys(), hp_set))\n",
    "\n",
    "            model_name = model.__name__\n",
    "\n",
    "            rmses = []\n",
    "            for split in splits:\n",
    "\n",
    "                X_train, X_test = load_and_concatenate_files(phys_folder, split, subject)\n",
    "                y_train, y_test = load_and_concatenate_files(ann_folder, split, subject)\n",
    "\n",
    "                rmse = time_series_cross_validation_with_hyperparameters(\n",
    "                    X_train, X_test, y_train, y_test, model, hp_dict, n_jobs=-1,\n",
    "                    numeric_column_indices=np.array(range(X_train.shape[1])))\n",
    "\n",
    "                rmses.append(rmse)\n",
    "\n",
    "            average_rmse = np.mean(rmses, axis=0)\n",
    "            \n",
    "            # print(f\"Average Root Mean Squared Error per output: {average_rmse}. \")\n",
    "\n",
    "            if y_train.ndim > 1 and y_train.shape[1] > 1:\n",
    "                # Unpack the average_rmse array into separate keys in the result dictionary\n",
    "                result = {\n",
    "                    'model': model_name,\n",
    "                    'hyperparameters': hyperparameters,\n",
    "                    'aggregate': ['mean','min'],\n",
    "                    'average_rmse_arousal': average_rmse[0],\n",
    "                    'average_rmse_valence': average_rmse[1],\n",
    "                    'window': window,\n",
    "                    'partition_window': partition_window\n",
    "                    \n",
    "                }\n",
    "            else:\n",
    "                result = {\n",
    "                    'model': model_name,\n",
    "                    'hyperparameters': hyperparameters,\n",
    "                    'aggregate': ['mean','min'],\n",
    "                    'average_rmse': average_rmse,\n",
    "                    'window': window,\n",
    "                    'partition_window': partition_window\n",
    "                }\n",
    "            results.append(result)\n",
    "            \n",
    "    # # Update the all_results dictionary\n",
    "    # all_results[f\"{subject}\"] = results\n",
    "\n",
    "    # # Save all_results as JSON\n",
    "    # with open('../results/scenario_3/clean_all_results_shallow_models_window.json', 'w') as f:\n",
    "    #     json.dump(all_results, f, default=str, indent=4)\n",
    "    return results\n",
    "        \n",
    " "
   ]
  },
  {
   "cell_type": "code",
   "execution_count": 7,
   "metadata": {},
   "outputs": [
    {
     "data": {
      "application/vnd.jupyter.widget-view+json": {
       "model_id": "1abd5c5bd314442c8ddfc2847ff2c51d",
       "version_major": 2,
       "version_minor": 0
      },
      "text/plain": [
       "Windows:   0%|          | 0/3 [00:00<?, ?it/s]"
      ]
     },
     "metadata": {},
     "output_type": "display_data"
    },
    {
     "data": {
      "application/vnd.jupyter.widget-view+json": {
       "model_id": "3f22a693d0c34249b6206394b2f6ba8b",
       "version_major": 2,
       "version_minor": 0
      },
      "text/plain": [
       "Partitions:   0%|          | 0/2 [00:00<?, ?it/s]"
      ]
     },
     "metadata": {},
     "output_type": "display_data"
    },
    {
     "data": {
      "application/vnd.jupyter.widget-view+json": {
       "model_id": "c90cd2704d0a4612a3c36d2da8752867",
       "version_major": 2,
       "version_minor": 0
      },
      "text/plain": [
       "Files:   0%|          | 0/180 [00:00<?, ?it/s]"
      ]
     },
     "metadata": {},
     "output_type": "display_data"
    },
    {
     "data": {
      "application/vnd.jupyter.widget-view+json": {
       "model_id": "f08a1bb772b641ca9637a5a3ce65245c",
       "version_major": 2,
       "version_minor": 0
      },
      "text/plain": [
       "Subjects:   0%|          | 0/30 [00:00<?, ?it/s]"
      ]
     },
     "metadata": {},
     "output_type": "display_data"
    },
    {
     "data": {
      "application/vnd.jupyter.widget-view+json": {
       "model_id": "4c04401c58c64279a7fabde311da842a",
       "version_major": 2,
       "version_minor": 0
      },
      "text/plain": [
       "Files:   0%|          | 0/180 [00:00<?, ?it/s]"
      ]
     },
     "metadata": {},
     "output_type": "display_data"
    },
    {
     "data": {
      "application/vnd.jupyter.widget-view+json": {
       "model_id": "103cb38c988d4d448de25aa2cdf8b6d9",
       "version_major": 2,
       "version_minor": 0
      },
      "text/plain": [
       "Subjects:   0%|          | 0/30 [00:00<?, ?it/s]"
      ]
     },
     "metadata": {},
     "output_type": "display_data"
    },
    {
     "ename": "KeyError",
     "evalue": "'average_rmse_arousal'",
     "output_type": "error",
     "traceback": [
      "\u001b[0;31m---------------------------------------------------------------------------\u001b[0m",
      "\u001b[0;31mKeyError\u001b[0m                                  Traceback (most recent call last)",
      "Cell \u001b[0;32mIn[7], line 40\u001b[0m\n\u001b[1;32m     35\u001b[0m     json\u001b[39m.\u001b[39mdump(all_results, f, default\u001b[39m=\u001b[39m\u001b[39mstr\u001b[39m, indent\u001b[39m=\u001b[39m\u001b[39m4\u001b[39m)\n\u001b[1;32m     38\u001b[0m results_df \u001b[39m=\u001b[39m pd\u001b[39m.\u001b[39mDataFrame(results)\n\u001b[0;32m---> 40\u001b[0m best_result_output_1 \u001b[39m=\u001b[39m results_df\u001b[39m.\u001b[39mloc[results_df[\u001b[39m'\u001b[39;49m\u001b[39maverage_rmse_arousal\u001b[39;49m\u001b[39m'\u001b[39;49m]\u001b[39m.\u001b[39midxmin()]\n\u001b[1;32m     41\u001b[0m best_result_output_2 \u001b[39m=\u001b[39m results_df\u001b[39m.\u001b[39mloc[results_df[\u001b[39m'\u001b[39m\u001b[39maverage_rmse_valence\u001b[39m\u001b[39m'\u001b[39m]\u001b[39m.\u001b[39midxmin()]\n\u001b[1;32m     43\u001b[0m \u001b[39m# Concatenate the best results for each output variable to the best_results_df\u001b[39;00m\n",
      "File \u001b[0;32m~/anaconda3/lib/python3.10/site-packages/pandas/core/frame.py:3807\u001b[0m, in \u001b[0;36mDataFrame.__getitem__\u001b[0;34m(self, key)\u001b[0m\n\u001b[1;32m   3805\u001b[0m \u001b[39mif\u001b[39;00m \u001b[39mself\u001b[39m\u001b[39m.\u001b[39mcolumns\u001b[39m.\u001b[39mnlevels \u001b[39m>\u001b[39m \u001b[39m1\u001b[39m:\n\u001b[1;32m   3806\u001b[0m     \u001b[39mreturn\u001b[39;00m \u001b[39mself\u001b[39m\u001b[39m.\u001b[39m_getitem_multilevel(key)\n\u001b[0;32m-> 3807\u001b[0m indexer \u001b[39m=\u001b[39m \u001b[39mself\u001b[39;49m\u001b[39m.\u001b[39;49mcolumns\u001b[39m.\u001b[39;49mget_loc(key)\n\u001b[1;32m   3808\u001b[0m \u001b[39mif\u001b[39;00m is_integer(indexer):\n\u001b[1;32m   3809\u001b[0m     indexer \u001b[39m=\u001b[39m [indexer]\n",
      "File \u001b[0;32m~/anaconda3/lib/python3.10/site-packages/pandas/core/indexes/range.py:395\u001b[0m, in \u001b[0;36mRangeIndex.get_loc\u001b[0;34m(self, key, method, tolerance)\u001b[0m\n\u001b[1;32m    393\u001b[0m             \u001b[39mraise\u001b[39;00m \u001b[39mKeyError\u001b[39;00m(key) \u001b[39mfrom\u001b[39;00m \u001b[39merr\u001b[39;00m\n\u001b[1;32m    394\u001b[0m     \u001b[39mself\u001b[39m\u001b[39m.\u001b[39m_check_indexing_error(key)\n\u001b[0;32m--> 395\u001b[0m     \u001b[39mraise\u001b[39;00m \u001b[39mKeyError\u001b[39;00m(key)\n\u001b[1;32m    396\u001b[0m \u001b[39mreturn\u001b[39;00m \u001b[39msuper\u001b[39m()\u001b[39m.\u001b[39mget_loc(key, method\u001b[39m=\u001b[39mmethod, tolerance\u001b[39m=\u001b[39mtolerance)\n",
      "\u001b[0;31mKeyError\u001b[0m: 'average_rmse_arousal'"
     ]
    }
   ],
   "source": [
    "# with open('../results/scenario_3/clean_all_results_shallow_models_window.json', 'r') as f:\n",
    "#     all_results = json.load(f)\n",
    "    \n",
    "for window in tqdm(windows, desc=\"Windows\"):\n",
    "        # Load the existing JSON file\n",
    "    with open('../results/scenario_3/clean_all_results_shallow_models_window.json', 'r') as f:\n",
    "        all_results = json.load(f)\n",
    "    for partition_window in tqdm(partitions[2:], desc=\"Partitions\", leave=False):\n",
    "        \n",
    "        zipped_files = zip_csv_files(annotations_folder, physiology_folder)        \n",
    "        \n",
    "        # Process the files using the context manager\n",
    "        with parallel_backend('multiprocessing', n_jobs=  num_cpu_cores // 3):\n",
    "            with tqdm_joblib(tqdm(total=len(zipped_files), desc=\"Files\", leave=False)) as progress_bar:\n",
    "                results = Parallel()(\n",
    "                    (delayed(process_files)(ann_file, phys_file, window = window,partition_window = partition_window) for ann_file, phys_file in zipped_files)\n",
    "                )\n",
    "\n",
    "        total_subjects = len(subjects)\n",
    "        with parallel_backend('multiprocessing', n_jobs= num_cpu_cores - 10):\n",
    "            with tqdm_joblib(tqdm(total=total_subjects, desc=\"Subjects\", leave=False)) as progress_bar:\n",
    "                all_subject_results = Parallel()(\n",
    "                    (delayed(process_subject)(subject, models_hyperparameters, splits, phys_folder, ann_folder, window, partition_window) \n",
    "                     for subject in subjects)\n",
    "                )\n",
    "\n",
    "\n",
    "        # Combine results for all subjects\n",
    "        for subject_idx, subject in enumerate(subjects):\n",
    "            subject_results = all_subject_results[subject_idx]\n",
    "            all_results[f\"{window}\"] = subject_results\n",
    "\n",
    "    # Save all_results as JSON\n",
    "    with open('../results/scenario_3/clean_all_results_shallow_models_window.json', 'w') as f:\n",
    "        json.dump(all_results, f, default=str, indent=4)\n",
    "\n",
    "                    \n",
    "    results_df = pd.DataFrame(all_results)\n",
    "\n",
    "    best_result_output_1 = results_df.loc[results_df['average_rmse_arousal'].idxmin()]\n",
    "    best_result_output_2 = results_df.loc[results_df['average_rmse_valence'].idxmin()]\n",
    "\n",
    "    # Concatenate the best results for each output variable to the best_results_df\n",
    "    best_results_df =pd.concat([best_results_df, best_result_output_1.to_frame().T, best_result_output_2.to_frame().T], ignore_index=True)\n",
    "\n",
    "    # Save best_results_df as CSV\n",
    "    best_results_df.to_csv('../results/scenario_3/clean_shallow_models_best_result_window.csv', index=False)\n",
    "\n",
    "print(\"\\nThe best combination of features and hyperparameters for each file pair is:\")\n",
    "print(best_results_df)\n",
    "\n"
   ]
  },
  {
   "cell_type": "code",
   "execution_count": null,
   "metadata": {},
   "outputs": [],
   "source": []
  }
 ],
 "metadata": {
  "kernelspec": {
   "display_name": "mne",
   "language": "python",
   "name": "python3"
  },
  "language_info": {
   "codemirror_mode": {
    "name": "ipython",
    "version": 3
   },
   "file_extension": ".py",
   "mimetype": "text/x-python",
   "name": "python",
   "nbconvert_exporter": "python",
   "pygments_lexer": "ipython3",
   "version": "3.10.9"
  },
  "orig_nbformat": 4
 },
 "nbformat": 4,
 "nbformat_minor": 2
}
