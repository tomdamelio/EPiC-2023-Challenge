{
 "cells": [
  {
   "cell_type": "code",
   "execution_count": null,
   "metadata": {},
   "outputs": [],
   "source": [
    "import glob\n",
    "import re\n",
    "import json\n",
    "import itertools\n",
    "import pandas as pd\n",
    "from pathlib import Path\n",
    "\n",
    "from sklearn.linear_model import LinearRegression\n",
    "from sklearn.svm import SVR\n",
    "from sklearn.ensemble import RandomForestRegressor\n",
    "from xgboost import XGBRegressor\n",
    "import numpy as np\n",
    "from sklearn.metrics import mean_squared_error\n",
    "from sklearn.model_selection import GridSearchCV\n",
    "import joblib\n",
    "from sklearn.model_selection import TimeSeriesSplit\n",
    "\n",
    "# all the functions from helpers.py\n",
    "from helpers_scenario3 import *"
   ]
  },
  {
   "cell_type": "code",
   "execution_count": null,
   "metadata": {},
   "outputs": [],
   "source": [
    "annotations_folder = '../data/raw/scenario_3/fold_0/train/annotations/'\n",
    "# physiology_folder = \"../data/preprocessed/cleaned/scenario_1/fold_0/train/physiology/\" #'../data/raw/scenario_1/train/physiology/'\n",
    "physiology_folder = \"../data/preprocessed/cleaned_and_prepro_improved/scenario_3/fold_0/train/physiology/\" #'../data/raw/scenario_1/train/physiology/'data\\preprocessed\\\n",
    "\n",
    "df_physiology = load_read_and_append_csvs(physiology_folder)\n",
    "df_annotations = load_read_and_append_csvs(annotations_folder)\n",
    "\n",
    "videos = df_physiology.video.unique()\n",
    "subjects = df_physiology.subject.unique()\n",
    "\n",
    "cat_dict = {1: [16, 20], 2: [0, 3], 3: [10, 22], 4: [4, 21]}\n",
    "\n",
    "splits = split_categories_videos_train_test(videos, categories = [2,3,4],cat_dict = cat_dict,splits =3)"
   ]
  },
  {
   "cell_type": "code",
   "execution_count": 3,
   "metadata": {},
   "outputs": [
    {
     "name": "stdout",
     "output_type": "stream",
     "text": [
      "Testing model: RandomForestRegressor. Average Root Mean Squared Error per output: [0.97365091 1.50821152]. \n",
      "Testing model: RandomForestRegressor. Average Root Mean Squared Error per output: [0.95976209 1.44386532]. \n",
      "Testing model: RandomForestRegressor. Average Root Mean Squared Error per output: [1.7394816  3.70924022]. \n",
      "Testing model: RandomForestRegressor. Average Root Mean Squared Error per output: [1.73339873 3.71990125]. \n",
      "Testing model: RandomForestRegressor. Average Root Mean Squared Error per output: [1.72148348 3.71563838]. \n",
      "Testing model: RandomForestRegressor. Average Root Mean Squared Error per output: [1.72990451 3.72391219]. \n",
      "Testing model: RandomForestRegressor. Average Root Mean Squared Error per output: [1.57385161 1.94587201]. \n",
      "Testing model: RandomForestRegressor. Average Root Mean Squared Error per output: [1.72410836 3.72045766]. \n",
      "Testing model: RandomForestRegressor. Average Root Mean Squared Error per output: [1.56478667 1.93929102]. \n",
      "Testing model: RandomForestRegressor. Average Root Mean Squared Error per output: [1.72945126 3.7209617 ]. \n",
      "Testing model: RandomForestRegressor. Average Root Mean Squared Error per output: [1.56627969 1.95058929]. \n",
      "Testing model: RandomForestRegressor. Average Root Mean Squared Error per output: [1.52805906 1.95711993]. \n",
      "Testing model: RandomForestRegressor. Average Root Mean Squared Error per output: [1.73597302 3.71694525]. \n",
      "Testing model: RandomForestRegressor. Average Root Mean Squared Error per output: [1.729539   3.71832855]. \n",
      "Testing model: RandomForestRegressor. Average Root Mean Squared Error per output: [1.53215874 1.94193378]. \n",
      "Testing model: RandomForestRegressor. Average Root Mean Squared Error per output: [1.49248588 1.9405622 ]. \n",
      "Testing model: RandomForestRegressor. Average Root Mean Squared Error per output: [1.56292156 1.96991845]. \n",
      "Testing model: RandomForestRegressor. Average Root Mean Squared Error per output: [1.51501795 1.93961192]. \n"
     ]
    },
    {
     "name": "stderr",
     "output_type": "stream",
     "text": []
    },
    {
     "name": "stdout",
     "output_type": "stream",
     "text": [
      "Testing model: XGBRegressor with hyperparameters: {'n_estimators': 50, 'max_depth': 6} and aggregate: ['mean', 'std', 'max', 'min']\n",
      "Testing model: XGBRegressor with hyperparameters: {'n_estimators': 50, 'max_depth': 10} and aggregate: ['mean', 'std', 'max', 'min']\n",
      "Testing model: XGBRegressor with hyperparameters: {'n_estimators': 100, 'max_depth': 6} and aggregate: ['mean', 'std', 'max', 'min']\n",
      "Testing model: XGBRegressor with hyperparameters: {'n_estimators': 100, 'max_depth': 10} and aggregate: ['mean', 'std', 'max', 'min']\n",
      "Testing model: XGBRegressor. Average Root Mean Squared Error per output: [1.12607113 4.04002564]. \n",
      "Testing model: XGBRegressor. Average Root Mean Squared Error per output: [1.13239084 4.03574199]. \n",
      "Testing model: XGBRegressor. Average Root Mean Squared Error per output: [1.12634927 4.04133209]. \n",
      "Testing model: XGBRegressor. Average Root Mean Squared Error per output: [1.13079198 4.03319002]. \n",
      "Testing model: XGBRegressor. Average Root Mean Squared Error per output: [1.52548544 3.57290436]. \n",
      "Testing model: XGBRegressor. Average Root Mean Squared Error per output: [1.52617733 3.583945  ]. \n",
      "Testing model: XGBRegressor. Average Root Mean Squared Error per output: [1.52548544 3.57251686]. \n",
      "Testing model: XGBRegressor. Average Root Mean Squared Error per output: [1.52326783 3.5901864 ]. \n",
      "Testing model: XGBRegressor. Average Root Mean Squared Error per output: [1.86647402 1.84113353]. \n",
      "Testing model: XGBRegressor. Average Root Mean Squared Error per output: [1.81825092 1.84474541]. \n",
      "Testing model: XGBRegressor. Average Root Mean Squared Error per output: [1.81927501 1.8447657 ]. \n"
     ]
    },
    {
     "name": "stderr",
     "output_type": "stream",
     "text": [
      "Processing subject:  27%|\u001b[32m██▋       \u001b[0m| 8/30 [4:40:27<12:50:04, 2100.23s/subject]"
     ]
    },
    {
     "name": "stdout",
     "output_type": "stream",
     "text": [
      "Testing model: XGBRegressor. Average Root Mean Squared Error per output: [1.86640593 1.83797823]. \n",
      "Processing video: 40\n"
     ]
    },
    {
     "name": "stderr",
     "output_type": "stream",
     "text": []
    },
    {
     "name": "stdout",
     "output_type": "stream",
     "text": [
      "Testing model: RandomForestRegressor with hyperparameters: {'n_estimators': 50, 'max_depth': 10, 'min_samples_split': 2} and aggregate: ['min']\n",
      "Testing model: RandomForestRegressor with hyperparameters: {'n_estimators': 50, 'max_depth': 10, 'min_samples_split': 5} and aggregate: ['min']\n",
      "Testing model: RandomForestRegressor with hyperparameters: {'n_estimators': 50, 'max_depth': None, 'min_samples_split': 2} and aggregate: ['min']\n",
      "Testing model: RandomForestRegressor with hyperparameters: {'n_estimators': 50, 'max_depth': None, 'min_samples_split': 5} and aggregate: ['min']\n",
      "Testing model: RandomForestRegressor with hyperparameters: {'n_estimators': 100, 'max_depth': 10, 'min_samples_split': 2} and aggregate: ['min']\n",
      "Testing model: RandomForestRegressor with hyperparameters: {'n_estimators': 100, 'max_depth': 10, 'min_samples_split': 5} and aggregate: ['min']\n",
      "Testing model: RandomForestRegressor with hyperparameters: {'n_estimators': 100, 'max_depth': None, 'min_samples_split': 2} and aggregate: ['min']\n",
      "Testing model: RandomForestRegressor with hyperparameters: {'n_estimators': 100, 'max_depth': None, 'min_samples_split': 5} and aggregate: ['min']\n"
     ]
    },
    {
     "name": "stderr",
     "output_type": "stream",
     "text": []
    },
    {
     "name": "stdout",
     "output_type": "stream",
     "text": [
      "Testing model: RandomForestRegressor. Average Root Mean Squared Error per output: [1.548238   3.07398129]. \n",
      "Testing model: RandomForestRegressor. Average Root Mean Squared Error per output: [1.544045   3.31850412]. \n",
      "Testing model: RandomForestRegressor. Average Root Mean Squared Error per output: [1.53220931 3.30298397]. \n",
      "Testing model: RandomForestRegressor. Average Root Mean Squared Error per output: [1.4660063  3.31527269]. \n",
      "Testing model: RandomForestRegressor. Average Root Mean Squared Error per output: [1.45412108 3.28399693]. \n",
      "Testing model: RandomForestRegressor. Average Root Mean Squared Error per output: [0.62801056 1.14315648]. \n",
      "Testing model: RandomForestRegressor. Average Root Mean Squared Error per output: [0.60542705 1.13757765]. \n",
      "Testing model: RandomForestRegressor. Average Root Mean Squared Error per output: [1.46366409 3.19597205]. \n",
      "Testing model: RandomForestRegressor. Average Root Mean Squared Error per output: [0.61537091 1.13248259]. \n",
      "Testing model: RandomForestRegressor. Average Root Mean Squared Error per output: [0.6576511  1.14358518]. \n",
      "Testing model: RandomForestRegressor. Average Root Mean Squared Error per output: [1.43129367 3.18169066]. \n",
      "Testing model: RandomForestRegressor. Average Root Mean Squared Error per output: [1.45564729 3.25351253]. \n",
      "Testing model: RandomForestRegressor. Average Root Mean Squared Error per output: [2.02676217 2.38572013]. \n",
      "Testing model: RandomForestRegressor. Average Root Mean Squared Error per output: [2.01078859 2.39243298]. \n",
      "Testing model: RandomForestRegressor. Average Root Mean Squared Error per output: [2.03807446 2.38546965]. \n",
      "Testing model: RandomForestRegressor. Average Root Mean Squared Error per output: [2.05620221 2.3895638 ]. \n",
      "Testing model: RandomForestRegressor. Average Root Mean Squared Error per output: [0.61573907 1.13459333]. \n",
      "Testing model: RandomForestRegressor. Average Root Mean Squared Error per output: [0.60072626 1.1415754 ]. \n",
      "Testing model: RandomForestRegressor. Average Root Mean Squared Error per output: [0.61591977 1.13452994]. \n",
      "Testing model: RandomForestRegressor. Average Root Mean Squared Error per output: [0.59687207 1.13021276]. \n",
      "Testing model: RandomForestRegressor. Average Root Mean Squared Error per output: [2.03418313 2.38566381]. \n",
      "Testing model: RandomForestRegressor. Average Root Mean Squared Error per output: [2.02645165 2.38637802]. \n",
      "Testing model: RandomForestRegressor. Average Root Mean Squared Error per output: [2.0362668  2.38859653]. \n",
      "Testing model: RandomForestRegressor. Average Root Mean Squared Error per output: [2.03415225 2.38712119]. \n"
     ]
    },
    {
     "name": "stderr",
     "output_type": "stream",
     "text": []
    },
    {
     "name": "stdout",
     "output_type": "stream",
     "text": [
      "Testing model: XGBRegressor with hyperparameters: {'n_estimators': 50, 'max_depth': 6} and aggregate: ['min']\n",
      "Testing model: XGBRegressor with hyperparameters: {'n_estimators': 50, 'max_depth': 10} and aggregate: ['min']\n",
      "Testing model: XGBRegressor with hyperparameters: {'n_estimators': 100, 'max_depth': 6} and aggregate: ['min']\n",
      "Testing model: XGBRegressor with hyperparameters: {'n_estimators': 100, 'max_depth': 10} and aggregate: ['min']\n",
      "Testing model: XGBRegressor. Average Root Mean Squared Error per output: [1.97483307 3.84199625]. \n",
      "Testing model: XGBRegressor. Average Root Mean Squared Error per output: [1.93162863 3.85666982]. \n",
      "Testing model: XGBRegressor. Average Root Mean Squared Error per output: [1.9315782  3.85749906]. \n",
      "Testing model: XGBRegressor. Average Root Mean Squared Error per output: [1.97947158 3.86092068]. \n",
      "Testing model: XGBRegressor. Average Root Mean Squared Error per output: [0.85097955 1.15083387]. \n",
      "Testing model: XGBRegressor. Average Root Mean Squared Error per output: [0.84743423 1.15624066]. \n",
      "Testing model: XGBRegressor. Average Root Mean Squared Error per output: [1.95314521 2.43130867]. \n",
      "Testing model: XGBRegressor. Average Root Mean Squared Error per output: [0.84738017 1.15624066]. \n",
      "Testing model: XGBRegressor. Average Root Mean Squared Error per output: [0.85314328 1.15048274]. \n",
      "Testing model: XGBRegressor. Average Root Mean Squared Error per output: [1.95147384 2.43539977]. \n",
      "Testing model: XGBRegressor. Average Root Mean Squared Error per output: [1.95147384 2.43539977]. \n",
      "Testing model: XGBRegressor. Average Root Mean Squared Error per output: [1.94312114 2.43048943]. \n"
     ]
    },
    {
     "name": "stderr",
     "output_type": "stream",
     "text": []
    },
    {
     "name": "stdout",
     "output_type": "stream",
     "text": [
      "Testing model: RandomForestRegressor with hyperparameters: {'n_estimators': 50, 'max_depth': 10, 'min_samples_split': 2} and aggregate: ['mean', 'std', 'max', 'min']\n",
      "Testing model: RandomForestRegressor with hyperparameters: {'n_estimators': 50, 'max_depth': 10, 'min_samples_split': 5} and aggregate: ['mean', 'std', 'max', 'min']\n",
      "Testing model: RandomForestRegressor with hyperparameters: {'n_estimators': 50, 'max_depth': None, 'min_samples_split': 2} and aggregate: ['mean', 'std', 'max', 'min']\n",
      "Testing model: RandomForestRegressor with hyperparameters: {'n_estimators': 50, 'max_depth': None, 'min_samples_split': 5} and aggregate: ['mean', 'std', 'max', 'min']\n",
      "Testing model: RandomForestRegressor with hyperparameters: {'n_estimators': 100, 'max_depth': 10, 'min_samples_split': 2} and aggregate: ['mean', 'std', 'max', 'min']\n",
      "Testing model: RandomForestRegressor with hyperparameters: {'n_estimators': 100, 'max_depth': 10, 'min_samples_split': 5} and aggregate: ['mean', 'std', 'max', 'min']\n",
      "Testing model: RandomForestRegressor with hyperparameters: {'n_estimators': 100, 'max_depth': None, 'min_samples_split': 2} and aggregate: ['mean', 'std', 'max', 'min']\n",
      "Testing model: RandomForestRegressor with hyperparameters: {'n_estimators': 100, 'max_depth': None, 'min_samples_split': 5} and aggregate: ['mean', 'std', 'max', 'min']\n"
     ]
    },
    {
     "name": "stderr",
     "output_type": "stream",
     "text": []
    },
    {
     "name": "stdout",
     "output_type": "stream",
     "text": [
      "Testing model: RandomForestRegressor. Average Root Mean Squared Error per output: [1.66464138 3.72871918]. \n",
      "Testing model: RandomForestRegressor. Average Root Mean Squared Error per output: [1.62998887 3.70875628]. \n",
      "Testing model: RandomForestRegressor. Average Root Mean Squared Error per output: [1.64161354 3.72524802]. \n",
      "Testing model: RandomForestRegressor. Average Root Mean Squared Error per output: [1.62508205 3.77033517]. \n",
      "Testing model: RandomForestRegressor. Average Root Mean Squared Error per output: [1.73333084 3.75807854]. \n",
      "Testing model: RandomForestRegressor. Average Root Mean Squared Error per output: [1.64751745 3.737247  ]. \n",
      "Testing model: RandomForestRegressor. Average Root Mean Squared Error per output: [1.67793807 3.71301823]. \n",
      "Testing model: RandomForestRegressor. Average Root Mean Squared Error per output: [1.64070545 3.75679808]. \n",
      "Testing model: RandomForestRegressor. Average Root Mean Squared Error per output: [0.53022163 1.52229269]. \n",
      "Testing model: RandomForestRegressor. Average Root Mean Squared Error per output: [0.53159583 1.52229236]. \n",
      "Testing model: RandomForestRegressor. Average Root Mean Squared Error per output: [0.53312882 1.52229331]. \n",
      "Testing model: RandomForestRegressor. Average Root Mean Squared Error per output: [0.53407074 1.52229283]. \n",
      "Testing model: RandomForestRegressor. Average Root Mean Squared Error per output: [0.52933575 1.52229302]. \n",
      "Testing model: RandomForestRegressor. Average Root Mean Squared Error per output: [1.06447549 2.40282272]. \n",
      "Testing model: RandomForestRegressor. Average Root Mean Squared Error per output: [1.0787666  2.40338063]. \n",
      "Testing model: RandomForestRegressor. Average Root Mean Squared Error per output: [1.07425004 2.40472829]. \n",
      "Testing model: RandomForestRegressor. Average Root Mean Squared Error per output: [1.0622355  2.40323956]. \n",
      "Testing model: RandomForestRegressor. Average Root Mean Squared Error per output: [0.53218201 1.52229259]. \n",
      "Testing model: RandomForestRegressor. Average Root Mean Squared Error per output: [0.53251998 1.52229231]. \n",
      "Testing model: RandomForestRegressor. Average Root Mean Squared Error per output: [0.53244128 1.52229256]. \n",
      "Testing model: RandomForestRegressor. Average Root Mean Squared Error per output: [1.07558724 2.40513267]. \n",
      "Testing model: RandomForestRegressor. Average Root Mean Squared Error per output: [1.06383555 2.40524687]. \n",
      "Testing model: RandomForestRegressor. Average Root Mean Squared Error per output: [1.07369678 2.40650325]. \n",
      "Testing model: RandomForestRegressor. Average Root Mean Squared Error per output: [1.07844932 2.40442947]. \n"
     ]
    },
    {
     "name": "stderr",
     "output_type": "stream",
     "text": []
    },
    {
     "name": "stdout",
     "output_type": "stream",
     "text": [
      "Testing model: XGBRegressor with hyperparameters: {'n_estimators': 50, 'max_depth': 6} and aggregate: ['mean', 'std', 'max', 'min']\n",
      "Testing model: XGBRegressor with hyperparameters: {'n_estimators': 50, 'max_depth': 10} and aggregate: ['mean', 'std', 'max', 'min']\n",
      "Testing model: XGBRegressor with hyperparameters: {'n_estimators': 100, 'max_depth': 6} and aggregate: ['mean', 'std', 'max', 'min']\n",
      "Testing model: XGBRegressor with hyperparameters: {'n_estimators': 100, 'max_depth': 10} and aggregate: ['mean', 'std', 'max', 'min']\n",
      "Testing model: XGBRegressor. Average Root Mean Squared Error per output: [1.94135277 3.78583054]. \n",
      "Testing model: XGBRegressor. Average Root Mean Squared Error per output: [1.94551777 3.7970956 ]. \n",
      "Testing model: XGBRegressor. Average Root Mean Squared Error per output: [1.94539037 3.7964006 ]. \n",
      "Testing model: XGBRegressor. Average Root Mean Squared Error per output: [1.93476578 3.78308803]. \n",
      "Testing model: XGBRegressor. Average Root Mean Squared Error per output: [0.52036737 1.50534192]. \n",
      "Testing model: XGBRegressor. Average Root Mean Squared Error per output: [0.52132123 1.51209853]. \n",
      "Testing model: XGBRegressor. Average Root Mean Squared Error per output: [0.52129529 1.51196748]. \n",
      "Testing model: XGBRegressor. Average Root Mean Squared Error per output: [0.51966203 1.5072561 ]. \n",
      "Testing model: XGBRegressor. Average Root Mean Squared Error per output: [0.99616185 2.42072578]. \n",
      "Testing model: XGBRegressor. Average Root Mean Squared Error per output: [0.99655038 2.42096975]. \n",
      "Testing model: XGBRegressor. Average Root Mean Squared Error per output: [0.99655038 2.42096975]. \n"
     ]
    },
    {
     "name": "stderr",
     "output_type": "stream",
     "text": [
      "Processing subject:  30%|\u001b[32m███       \u001b[0m| 9/30 [5:14:54<12:11:23, 2089.68s/subject]"
     ]
    },
    {
     "name": "stdout",
     "output_type": "stream",
     "text": [
      "Testing model: XGBRegressor. Average Root Mean Squared Error per output: [0.99539815 2.42125321]. \n",
      "Processing video: 15\n"
     ]
    },
    {
     "name": "stderr",
     "output_type": "stream",
     "text": []
    },
    {
     "name": "stdout",
     "output_type": "stream",
     "text": [
      "Testing model: RandomForestRegressor with hyperparameters: {'n_estimators': 50, 'max_depth': 10, 'min_samples_split': 2} and aggregate: ['min']\n",
      "Testing model: RandomForestRegressor with hyperparameters: {'n_estimators': 50, 'max_depth': 10, 'min_samples_split': 5} and aggregate: ['min']\n",
      "Testing model: RandomForestRegressor with hyperparameters: {'n_estimators': 50, 'max_depth': None, 'min_samples_split': 2} and aggregate: ['min']\n",
      "Testing model: RandomForestRegressor with hyperparameters: {'n_estimators': 50, 'max_depth': None, 'min_samples_split': 5} and aggregate: ['min']\n",
      "Testing model: RandomForestRegressor with hyperparameters: {'n_estimators': 100, 'max_depth': 10, 'min_samples_split': 2} and aggregate: ['min']\n",
      "Testing model: RandomForestRegressor with hyperparameters: {'n_estimators': 100, 'max_depth': 10, 'min_samples_split': 5} and aggregate: ['min']\n",
      "Testing model: RandomForestRegressor with hyperparameters: {'n_estimators': 100, 'max_depth': None, 'min_samples_split': 2} and aggregate: ['min']\n"
     ]
    },
    {
     "name": "stderr",
     "output_type": "stream",
     "text": [
      "\n",
      "                                                                              "
     ]
    },
    {
     "name": "stdout",
     "output_type": "stream",
     "text": [
      "Testing model: RandomForestRegressor with hyperparameters: {'n_estimators': 100, 'max_depth': None, 'min_samples_split': 5} and aggregate: ['min']\n"
     ]
    },
    {
     "name": "stderr",
     "output_type": "stream",
     "text": [
      "\u001b[A"
     ]
    },
    {
     "name": "stdout",
     "output_type": "stream",
     "text": [
      "Testing model: RandomForestRegressor. Average Root Mean Squared Error per output: [2.35673031 1.83429735]. \n",
      "Testing model: RandomForestRegressor. Average Root Mean Squared Error per output: [2.35044326 1.8368455 ]. \n",
      "Testing model: RandomForestRegressor. Average Root Mean Squared Error per output: [2.35068046 1.84165438]. \n",
      "Testing model: RandomForestRegressor. Average Root Mean Squared Error per output: [2.37463394 1.83185278]. \n",
      "Testing model: RandomForestRegressor. Average Root Mean Squared Error per output: [2.52932308 1.783668  ]. \n",
      "Testing model: RandomForestRegressor. Average Root Mean Squared Error per output: [2.35700583 1.83691104]. \n",
      "Testing model: RandomForestRegressor. Average Root Mean Squared Error per output: [2.52095183 1.80237246]. \n",
      "Testing model: RandomForestRegressor. Average Root Mean Squared Error per output: [2.34801771 1.83561163]. \n",
      "Testing model: RandomForestRegressor. Average Root Mean Squared Error per output: [2.53270107 1.80648144]. \n",
      "Testing model: RandomForestRegressor. Average Root Mean Squared Error per output: [2.34513728 1.83455176]. \n",
      "Testing model: RandomForestRegressor. Average Root Mean Squared Error per output: [2.51963635 1.80272636]. \n",
      "Testing model: RandomForestRegressor. Average Root Mean Squared Error per output: [2.35663348 1.83128407]. \n",
      "Testing model: RandomForestRegressor. Average Root Mean Squared Error per output: [1.7636274  1.33887001]. \n",
      "Testing model: RandomForestRegressor. Average Root Mean Squared Error per output: [1.77824152 1.34331091]. \n",
      "Testing model: RandomForestRegressor. Average Root Mean Squared Error per output: [1.79534255 1.3377189 ]. \n",
      "Testing model: RandomForestRegressor. Average Root Mean Squared Error per output: [1.82166053 1.334024  ]. \n",
      "Testing model: RandomForestRegressor. Average Root Mean Squared Error per output: [2.51729904 1.79527155]. \n",
      "Testing model: RandomForestRegressor. Average Root Mean Squared Error per output: [2.5122689 1.7976921]. \n",
      "Testing model: RandomForestRegressor. Average Root Mean Squared Error per output: [2.52359464 1.80790755]. \n",
      "Testing model: RandomForestRegressor. Average Root Mean Squared Error per output: [2.51848241 1.8056498 ]. \n",
      "Testing model: RandomForestRegressor. Average Root Mean Squared Error per output: [1.79937265 1.33671192]. \n",
      "Testing model: RandomForestRegressor. Average Root Mean Squared Error per output: [1.79492049 1.33601353]. \n",
      "Testing model: RandomForestRegressor. Average Root Mean Squared Error per output: [1.79296342 1.33726698]. \n",
      "Testing model: RandomForestRegressor. Average Root Mean Squared Error per output: [1.79685277 1.33523725]. \n"
     ]
    },
    {
     "name": "stderr",
     "output_type": "stream",
     "text": []
    },
    {
     "name": "stdout",
     "output_type": "stream",
     "text": [
      "Testing model: XGBRegressor with hyperparameters: {'n_estimators': 50, 'max_depth': 6} and aggregate: ['min']\n",
      "Testing model: XGBRegressor with hyperparameters: {'n_estimators': 50, 'max_depth': 10} and aggregate: ['min']\n",
      "Testing model: XGBRegressor with hyperparameters: {'n_estimators': 100, 'max_depth': 6} and aggregate: ['min']\n",
      "Testing model: XGBRegressor with hyperparameters: {'n_estimators': 100, 'max_depth': 10} and aggregate: ['min']\n",
      "Testing model: XGBRegressor. Average Root Mean Squared Error per output: [2.25281971 1.51019815]. \n",
      "Testing model: XGBRegressor. Average Root Mean Squared Error per output: [2.28093031 1.53293279]. \n",
      "Testing model: XGBRegressor. Average Root Mean Squared Error per output: [2.2519655  1.50569198]. \n",
      "Testing model: XGBRegressor. Average Root Mean Squared Error per output: [2.27964577 1.532932  ]. \n",
      "Testing model: XGBRegressor. Average Root Mean Squared Error per output: [2.59178197 2.21753107]. \n",
      "Testing model: XGBRegressor. Average Root Mean Squared Error per output: [2.53707801 2.21448973]. \n",
      "Testing model: XGBRegressor. Average Root Mean Squared Error per output: [1.20861966 1.40936938]. \n",
      "Testing model: XGBRegressor. Average Root Mean Squared Error per output: [2.59352818 2.23084649]. \n",
      "Testing model: XGBRegressor. Average Root Mean Squared Error per output: [2.53868173 2.2137639 ]. \n",
      "Testing model: XGBRegressor. Average Root Mean Squared Error per output: [1.16418096 1.41917694]. \n",
      "Testing model: XGBRegressor. Average Root Mean Squared Error per output: [1.21480907 1.40972477]. \n",
      "Testing model: XGBRegressor. Average Root Mean Squared Error per output: [1.16409191 1.41917694]. \n"
     ]
    },
    {
     "name": "stderr",
     "output_type": "stream",
     "text": []
    },
    {
     "name": "stdout",
     "output_type": "stream",
     "text": [
      "Testing model: RandomForestRegressor with hyperparameters: {'n_estimators': 50, 'max_depth': 10, 'min_samples_split': 2} and aggregate: ['mean', 'std', 'max', 'min']\n",
      "Testing model: RandomForestRegressor with hyperparameters: {'n_estimators': 50, 'max_depth': 10, 'min_samples_split': 5} and aggregate: ['mean', 'std', 'max', 'min']\n",
      "Testing model: RandomForestRegressor with hyperparameters: {'n_estimators': 50, 'max_depth': None, 'min_samples_split': 2} and aggregate: ['mean', 'std', 'max', 'min']\n",
      "Testing model: RandomForestRegressor with hyperparameters: {'n_estimators': 50, 'max_depth': None, 'min_samples_split': 5} and aggregate: ['mean', 'std', 'max', 'min']\n",
      "Testing model: RandomForestRegressor with hyperparameters: {'n_estimators': 100, 'max_depth': 10, 'min_samples_split': 2} and aggregate: ['mean', 'std', 'max', 'min']\n",
      "Testing model: RandomForestRegressor with hyperparameters: {'n_estimators': 100, 'max_depth': 10, 'min_samples_split': 5} and aggregate: ['mean', 'std', 'max', 'min']\n",
      "Testing model: RandomForestRegressor with hyperparameters: {'n_estimators': 100, 'max_depth': None, 'min_samples_split': 2} and aggregate: ['mean', 'std', 'max', 'min']\n",
      "Testing model: RandomForestRegressor with hyperparameters: {'n_estimators': 100, 'max_depth': None, 'min_samples_split': 5} and aggregate: ['mean', 'std', 'max', 'min']\n",
      "Testing model: RandomForestRegressor. Average Root Mean Squared Error per output: [2.27560743 1.78897609]. \n",
      "Testing model: RandomForestRegressor. Average Root Mean Squared Error per output: [2.27320923 1.77877451]. \n",
      "Testing model: RandomForestRegressor. Average Root Mean Squared Error per output: [2.2629963  1.80158288]. \n",
      "Testing model: RandomForestRegressor. Average Root Mean Squared Error per output: [2.26856694 1.79410094]. \n",
      "Testing model: RandomForestRegressor. Average Root Mean Squared Error per output: [2.27244253 1.77489485]. \n",
      "Testing model: RandomForestRegressor. Average Root Mean Squared Error per output: [2.26355518 1.79089918]. \n",
      "Testing model: RandomForestRegressor. Average Root Mean Squared Error per output: [2.48322289 1.84933269]. \n",
      "Testing model: RandomForestRegressor. Average Root Mean Squared Error per output: [2.268063   1.78383878]. \n",
      "Testing model: RandomForestRegressor. Average Root Mean Squared Error per output: [2.48189049 1.87585549]. \n",
      "Testing model: RandomForestRegressor. Average Root Mean Squared Error per output: [2.25943579 1.79989712]. \n",
      "Testing model: RandomForestRegressor. Average Root Mean Squared Error per output: [2.47865085 1.84431266]. \n",
      "Testing model: RandomForestRegressor. Average Root Mean Squared Error per output: [2.48273718 1.88357718]. \n",
      "Testing model: RandomForestRegressor. Average Root Mean Squared Error per output: [3.2248565  1.29507821]. \n",
      "Testing model: RandomForestRegressor. Average Root Mean Squared Error per output: [3.23018238 1.28691288]. \n",
      "Testing model: RandomForestRegressor. Average Root Mean Squared Error per output: [2.47864827 1.8760832 ]. \n",
      "Testing model: RandomForestRegressor. Average Root Mean Squared Error per output: [3.22753219 1.29776003]. \n",
      "Testing model: RandomForestRegressor. Average Root Mean Squared Error per output: [3.22541558 1.29044879]. \n",
      "Testing model: RandomForestRegressor. Average Root Mean Squared Error per output: [2.47576259 1.88045391]. \n",
      "Testing model: RandomForestRegressor. Average Root Mean Squared Error per output: [2.48032346 1.86573575]. \n",
      "Testing model: RandomForestRegressor. Average Root Mean Squared Error per output: [2.48263542 1.85721383]. \n",
      "Testing model: RandomForestRegressor. Average Root Mean Squared Error per output: [3.2399523  1.28871478]. \n",
      "Testing model: RandomForestRegressor. Average Root Mean Squared Error per output: [3.23079853 1.2920895 ]. \n",
      "Testing model: RandomForestRegressor. Average Root Mean Squared Error per output: [3.22679832 1.28974173]. \n",
      "Testing model: RandomForestRegressor. Average Root Mean Squared Error per output: [3.250653   1.28345678]. \n"
     ]
    },
    {
     "name": "stderr",
     "output_type": "stream",
     "text": []
    },
    {
     "name": "stdout",
     "output_type": "stream",
     "text": [
      "Testing model: XGBRegressor with hyperparameters: {'n_estimators': 50, 'max_depth': 6} and aggregate: ['mean', 'std', 'max', 'min']\n",
      "Testing model: XGBRegressor with hyperparameters: {'n_estimators': 50, 'max_depth': 10} and aggregate: ['mean', 'std', 'max', 'min']\n",
      "Testing model: XGBRegressor with hyperparameters: {'n_estimators': 100, 'max_depth': 6} and aggregate: ['mean', 'std', 'max', 'min']\n",
      "Testing model: XGBRegressor with hyperparameters: {'n_estimators': 100, 'max_depth': 10} and aggregate: ['mean', 'std', 'max', 'min']\n",
      "Testing model: XGBRegressor. Average Root Mean Squared Error per output: [2.21425525 1.77580444]. \n",
      "Testing model: XGBRegressor. Average Root Mean Squared Error per output: [2.22302373 1.82248532]. \n",
      "Testing model: XGBRegressor. Average Root Mean Squared Error per output: [2.2101393  1.77785059]. \n",
      "Testing model: XGBRegressor. Average Root Mean Squared Error per output: [2.22539727 1.82253217]. \n",
      "Testing model: XGBRegressor. Average Root Mean Squared Error per output: [2.52830922 2.25233059]. \n",
      "Testing model: XGBRegressor. Average Root Mean Squared Error per output: [2.54661242 2.24965642]. \n",
      "Testing model: XGBRegressor. Average Root Mean Squared Error per output: [2.52940804 2.24972826]. \n",
      "Testing model: XGBRegressor. Average Root Mean Squared Error per output: [2.54686566 2.24965648]. \n",
      "Testing model: XGBRegressor. Average Root Mean Squared Error per output: [2.92885884 1.42556896]. \n",
      "Testing model: XGBRegressor. Average Root Mean Squared Error per output: [3.05832719 1.43495661]. \n",
      "Testing model: XGBRegressor. Average Root Mean Squared Error per output: [2.92893708 1.42351258]. \n"
     ]
    },
    {
     "name": "stderr",
     "output_type": "stream",
     "text": [
      "Processing subject:  33%|\u001b[32m███▎      \u001b[0m| 10/30 [5:50:00<11:38:15, 2094.76s/subject]"
     ]
    },
    {
     "name": "stdout",
     "output_type": "stream",
     "text": [
      "Testing model: XGBRegressor. Average Root Mean Squared Error per output: [3.05995595 1.43495661]. \n",
      "Processing video: 13\n"
     ]
    },
    {
     "name": "stderr",
     "output_type": "stream",
     "text": [
      "\n"
     ]
    },
    {
     "name": "stdout",
     "output_type": "stream",
     "text": [
      "Testing model: RandomForestRegressor with hyperparameters: {'n_estimators': 50, 'max_depth': 10, 'min_samples_split': 2} and aggregate: ['min']\n",
      "Testing model: RandomForestRegressor with hyperparameters: {'n_estimators': 50, 'max_depth': 10, 'min_samples_split': 5} and aggregate: ['min']\n",
      "Testing model: RandomForestRegressor with hyperparameters: {'n_estimators': 50, 'max_depth': None, 'min_samples_split': 2} and aggregate: ['min']\n",
      "Testing model: RandomForestRegressor with hyperparameters: {'n_estimators': 50, 'max_depth': None, 'min_samples_split': 5} and aggregate: ['min']\n",
      "Testing model: RandomForestRegressor with hyperparameters: {'n_estimators': 100, 'max_depth': 10, 'min_samples_split': 2} and aggregate: ['min']\n",
      "Testing model: RandomForestRegressor with hyperparameters: {'n_estimators': 100, 'max_depth': 10, 'min_samples_split': 5} and aggregate: ['min']\n",
      "Testing model: RandomForestRegressor with hyperparameters: {'n_estimators': 100, 'max_depth': None, 'min_samples_split': 2} and aggregate: ['min']\n",
      "Testing model: RandomForestRegressor with hyperparameters: {'n_estimators': 100, 'max_depth': None, 'min_samples_split': 5} and aggregate: ['min']\n"
     ]
    },
    {
     "name": "stderr",
     "output_type": "stream",
     "text": [
      "                                                                              \u001b[A"
     ]
    },
    {
     "name": "stdout",
     "output_type": "stream",
     "text": [
      "Testing model: RandomForestRegressor. Average Root Mean Squared Error per output: [0.16900755 0.37255331]. \n",
      "Testing model: RandomForestRegressor. Average Root Mean Squared Error per output: [0.16533375 0.40742117]. \n",
      "Testing model: RandomForestRegressor. Average Root Mean Squared Error per output: [0.16725646 0.40035429]. \n",
      "Testing model: RandomForestRegressor. Average Root Mean Squared Error per output: [0.17075507 0.39387213]. \n",
      "Testing model: RandomForestRegressor. Average Root Mean Squared Error per output: [0.16950344 0.38212588]. \n",
      "Testing model: RandomForestRegressor. Average Root Mean Squared Error per output: [0.16939427 0.40752767]. \n",
      "Testing model: RandomForestRegressor. Average Root Mean Squared Error per output: [0.13664595 0.35874342]. \n",
      "Testing model: RandomForestRegressor. Average Root Mean Squared Error per output: [0.13579575 0.34467614]. \n",
      "Testing model: RandomForestRegressor. Average Root Mean Squared Error per output: [0.16677529 0.40675738]. \n",
      "Testing model: RandomForestRegressor. Average Root Mean Squared Error per output: [0.16966009 0.40977073]. \n",
      "Testing model: RandomForestRegressor. Average Root Mean Squared Error per output: [0.1353302  0.35090577]. \n",
      "Testing model: RandomForestRegressor. Average Root Mean Squared Error per output: [0.13754753 0.35537976]. \n",
      "Testing model: RandomForestRegressor. Average Root Mean Squared Error per output: [0.18412766 0.57717362]. \n",
      "Testing model: RandomForestRegressor. Average Root Mean Squared Error per output: [0.18222837 0.56097226]. \n",
      "Testing model: RandomForestRegressor. Average Root Mean Squared Error per output: [0.18304356 0.56234881]. \n",
      "Testing model: RandomForestRegressor. Average Root Mean Squared Error per output: [0.18340553 0.56913383]. \n",
      "Testing model: RandomForestRegressor. Average Root Mean Squared Error per output: [0.13545991 0.34764119]. \n",
      "Testing model: RandomForestRegressor. Average Root Mean Squared Error per output: [0.13732347 0.34362112]. \n",
      "Testing model: RandomForestRegressor. Average Root Mean Squared Error per output: [0.13627798 0.33940746]. \n",
      "Testing model: RandomForestRegressor. Average Root Mean Squared Error per output: [0.13923289 0.34684676]. \n",
      "Testing model: RandomForestRegressor. Average Root Mean Squared Error per output: [0.18379545 0.57880594]. \n",
      "Testing model: RandomForestRegressor. Average Root Mean Squared Error per output: [0.18340556 0.56497316]. \n",
      "Testing model: RandomForestRegressor. Average Root Mean Squared Error per output: [0.18380769 0.57235354]. \n",
      "Testing model: RandomForestRegressor. Average Root Mean Squared Error per output: [0.18338609 0.56730897]. \n"
     ]
    },
    {
     "name": "stderr",
     "output_type": "stream",
     "text": []
    },
    {
     "name": "stdout",
     "output_type": "stream",
     "text": [
      "Testing model: XGBRegressor with hyperparameters: {'n_estimators': 50, 'max_depth': 6} and aggregate: ['min']\n",
      "Testing model: XGBRegressor with hyperparameters: {'n_estimators': 50, 'max_depth': 10} and aggregate: ['min']\n",
      "Testing model: XGBRegressor with hyperparameters: {'n_estimators': 100, 'max_depth': 6} and aggregate: ['min']\n",
      "Testing model: XGBRegressor with hyperparameters: {'n_estimators': 100, 'max_depth': 10} and aggregate: ['min']\n",
      "Testing model: XGBRegressor. Average Root Mean Squared Error per output: [0.24175681 0.21853754]. \n",
      "Testing model: XGBRegressor. Average Root Mean Squared Error per output: [0.2105792  0.21817123]. \n",
      "Testing model: XGBRegressor. Average Root Mean Squared Error per output: [0.2105792  0.21844571]. \n",
      "Testing model: XGBRegressor. Average Root Mean Squared Error per output: [0.23985875 0.22292013]. \n",
      "Testing model: XGBRegressor. Average Root Mean Squared Error per output: [0.15369755 0.32878749]. \n",
      "Testing model: XGBRegressor. Average Root Mean Squared Error per output: [0.16927324 0.33205509]. \n",
      "Testing model: XGBRegressor. Average Root Mean Squared Error per output: [0.17640945 0.64909912]. \n",
      "Testing model: XGBRegressor. Average Root Mean Squared Error per output: [0.16927324 0.33205509]. \n",
      "Testing model: XGBRegressor. Average Root Mean Squared Error per output: [0.15275218 0.32736295]. \n",
      "Testing model: XGBRegressor. Average Root Mean Squared Error per output: [0.17363966 0.64104956]. \n",
      "Testing model: XGBRegressor. Average Root Mean Squared Error per output: [0.17363966 0.64104956]. \n",
      "Testing model: XGBRegressor. Average Root Mean Squared Error per output: [0.17662805 0.64818753]. \n"
     ]
    },
    {
     "name": "stderr",
     "output_type": "stream",
     "text": []
    },
    {
     "name": "stdout",
     "output_type": "stream",
     "text": [
      "Testing model: RandomForestRegressor with hyperparameters: {'n_estimators': 50, 'max_depth': 10, 'min_samples_split': 2} and aggregate: ['mean', 'std', 'max', 'min']\n",
      "Testing model: RandomForestRegressor with hyperparameters: {'n_estimators': 50, 'max_depth': 10, 'min_samples_split': 5} and aggregate: ['mean', 'std', 'max', 'min']\n",
      "Testing model: RandomForestRegressor with hyperparameters: {'n_estimators': 50, 'max_depth': None, 'min_samples_split': 2} and aggregate: ['mean', 'std', 'max', 'min']\n",
      "Testing model: RandomForestRegressor with hyperparameters: {'n_estimators': 50, 'max_depth': None, 'min_samples_split': 5} and aggregate: ['mean', 'std', 'max', 'min']\n",
      "Testing model: RandomForestRegressor with hyperparameters: {'n_estimators': 100, 'max_depth': 10, 'min_samples_split': 2} and aggregate: ['mean', 'std', 'max', 'min']\n",
      "Testing model: RandomForestRegressor with hyperparameters: {'n_estimators': 100, 'max_depth': 10, 'min_samples_split': 5} and aggregate: ['mean', 'std', 'max', 'min']\n"
     ]
    },
    {
     "name": "stderr",
     "output_type": "stream",
     "text": []
    },
    {
     "name": "stdout",
     "output_type": "stream",
     "text": [
      "Testing model: RandomForestRegressor with hyperparameters: {'n_estimators': 100, 'max_depth': None, 'min_samples_split': 2} and aggregate: ['mean', 'std', 'max', 'min']\n",
      "Testing model: RandomForestRegressor with hyperparameters: {'n_estimators': 100, 'max_depth': None, 'min_samples_split': 5} and aggregate: ['mean', 'std', 'max', 'min']\n",
      "Testing model: RandomForestRegressor. Average Root Mean Squared Error per output: [0.17868775 0.28978096]. \n",
      "Testing model: RandomForestRegressor. Average Root Mean Squared Error per output: [0.17460325 0.29045386]. \n",
      "Testing model: RandomForestRegressor. Average Root Mean Squared Error per output: [0.1806488  0.29116929]. \n",
      "Testing model: RandomForestRegressor. Average Root Mean Squared Error per output: [0.17435706 0.29493356]. \n",
      "Testing model: RandomForestRegressor. Average Root Mean Squared Error per output: [0.17435778 0.28739873]. \n",
      "Testing model: RandomForestRegressor. Average Root Mean Squared Error per output: [0.17450923 0.29466266]. \n",
      "Testing model: RandomForestRegressor. Average Root Mean Squared Error per output: [0.17644049 0.29514626]. \n",
      "Testing model: RandomForestRegressor. Average Root Mean Squared Error per output: [0.17851321 0.29180662]. \n",
      "Testing model: RandomForestRegressor. Average Root Mean Squared Error per output: [0.14940683 0.26945466]. \n",
      "Testing model: RandomForestRegressor. Average Root Mean Squared Error per output: [0.1433516  0.27381975]. \n",
      "Testing model: RandomForestRegressor. Average Root Mean Squared Error per output: [0.1467447  0.27103028]. \n",
      "Testing model: RandomForestRegressor. Average Root Mean Squared Error per output: [0.1578331  0.27371156]. \n",
      "Testing model: RandomForestRegressor. Average Root Mean Squared Error per output: [0.14333428 0.27090981]. \n",
      "Testing model: RandomForestRegressor. Average Root Mean Squared Error per output: [0.1493765 0.2713901]. \n",
      "Testing model: RandomForestRegressor. Average Root Mean Squared Error per output: [0.17372161 0.46336144]. \n",
      "Testing model: RandomForestRegressor. Average Root Mean Squared Error per output: [0.17518641 0.46035296]. \n",
      "Testing model: RandomForestRegressor. Average Root Mean Squared Error per output: [0.1745094  0.45888984]. \n",
      "Testing model: RandomForestRegressor. Average Root Mean Squared Error per output: [0.17391286 0.46140693]. \n",
      "Testing model: RandomForestRegressor. Average Root Mean Squared Error per output: [0.14561104 0.27114164]. \n",
      "Testing model: RandomForestRegressor. Average Root Mean Squared Error per output: [0.14334753 0.27113753]. \n",
      "Testing model: RandomForestRegressor. Average Root Mean Squared Error per output: [0.17480735 0.46124233]. \n",
      "Testing model: RandomForestRegressor. Average Root Mean Squared Error per output: [0.17548575 0.45907741]. \n",
      "Testing model: RandomForestRegressor. Average Root Mean Squared Error per output: [0.1729797  0.46010492]. \n",
      "Testing model: RandomForestRegressor. Average Root Mean Squared Error per output: [0.17530034 0.46070881]. \n"
     ]
    },
    {
     "name": "stderr",
     "output_type": "stream",
     "text": []
    },
    {
     "name": "stdout",
     "output_type": "stream",
     "text": [
      "Testing model: XGBRegressor with hyperparameters: {'n_estimators': 50, 'max_depth': 6} and aggregate: ['mean', 'std', 'max', 'min']\n",
      "Testing model: XGBRegressor with hyperparameters: {'n_estimators': 50, 'max_depth': 10} and aggregate: ['mean', 'std', 'max', 'min']\n",
      "Testing model: XGBRegressor with hyperparameters: {'n_estimators': 100, 'max_depth': 6} and aggregate: ['mean', 'std', 'max', 'min']\n",
      "Testing model: XGBRegressor with hyperparameters: {'n_estimators': 100, 'max_depth': 10} and aggregate: ['mean', 'std', 'max', 'min']\n",
      "Testing model: XGBRegressor. Average Root Mean Squared Error per output: [0.18118588 0.38887486]. \n",
      "Testing model: XGBRegressor. Average Root Mean Squared Error per output: [0.18123944 0.38792956]. \n",
      "Testing model: XGBRegressor. Average Root Mean Squared Error per output: [0.19472386 0.38319227]. \n",
      "Testing model: XGBRegressor. Average Root Mean Squared Error per output: [0.1947172  0.38472453]. \n",
      "Testing model: XGBRegressor. Average Root Mean Squared Error per output: [0.15549814 0.25748453]. \n",
      "Testing model: XGBRegressor. Average Root Mean Squared Error per output: [0.15612504 0.25695503]. \n",
      "Testing model: XGBRegressor. Average Root Mean Squared Error per output: [0.14571876 0.26029527]. \n",
      "Testing model: XGBRegressor. Average Root Mean Squared Error per output: [0.14571891 0.26029527]. \n",
      "Testing model: XGBRegressor. Average Root Mean Squared Error per output: [0.17083579 0.45832769]. \n",
      "Testing model: XGBRegressor. Average Root Mean Squared Error per output: [0.17043333 0.45912869]. \n",
      "Testing model: XGBRegressor. Average Root Mean Squared Error per output: [0.17185995 0.44679192]. \n"
     ]
    },
    {
     "name": "stderr",
     "output_type": "stream",
     "text": [
      "Processing subject:  37%|\u001b[32m███▋      \u001b[0m| 11/30 [6:24:43<11:02:10, 2091.08s/subject]"
     ]
    },
    {
     "name": "stdout",
     "output_type": "stream",
     "text": [
      "Testing model: XGBRegressor. Average Root Mean Squared Error per output: [0.17185995 0.44701589]. \n",
      "Processing video: 17\n"
     ]
    },
    {
     "name": "stderr",
     "output_type": "stream",
     "text": []
    },
    {
     "name": "stdout",
     "output_type": "stream",
     "text": [
      "Testing model: RandomForestRegressor with hyperparameters: {'n_estimators': 50, 'max_depth': 10, 'min_samples_split': 2} and aggregate: ['min']\n",
      "Testing model: RandomForestRegressor with hyperparameters: {'n_estimators': 50, 'max_depth': 10, 'min_samples_split': 5} and aggregate: ['min']\n",
      "Testing model: RandomForestRegressor with hyperparameters: {'n_estimators': 50, 'max_depth': None, 'min_samples_split': 2} and aggregate: ['min']\n",
      "Testing model: RandomForestRegressor with hyperparameters: {'n_estimators': 50, 'max_depth': None, 'min_samples_split': 5} and aggregate: ['min']\n",
      "Testing model: RandomForestRegressor with hyperparameters: {'n_estimators': 100, 'max_depth': 10, 'min_samples_split': 2} and aggregate: ['min']\n",
      "Testing model: RandomForestRegressor with hyperparameters: {'n_estimators': 100, 'max_depth': 10, 'min_samples_split': 5} and aggregate: ['min']\n",
      "Testing model: RandomForestRegressor with hyperparameters: {'n_estimators': 100, 'max_depth': None, 'min_samples_split': 2} and aggregate: ['min']\n"
     ]
    },
    {
     "name": "stderr",
     "output_type": "stream",
     "text": []
    },
    {
     "name": "stdout",
     "output_type": "stream",
     "text": [
      "Testing model: RandomForestRegressor with hyperparameters: {'n_estimators': 100, 'max_depth': None, 'min_samples_split': 5} and aggregate: ['min']\n",
      "Testing model: RandomForestRegressor. Average Root Mean Squared Error per output: [1.29754763 1.57113393]. \n",
      "Testing model: RandomForestRegressor. Average Root Mean Squared Error per output: [1.29571045 1.58028376]. \n",
      "Testing model: RandomForestRegressor. Average Root Mean Squared Error per output: [1.28850246 1.56702579]. \n",
      "Testing model: RandomForestRegressor. Average Root Mean Squared Error per output: [1.29316223 1.566424  ]. \n",
      "Testing model: RandomForestRegressor. Average Root Mean Squared Error per output: [1.04625274 0.82639828]. \n",
      "Testing model: RandomForestRegressor. Average Root Mean Squared Error per output: [1.03700144 0.82449667]. \n",
      "Testing model: RandomForestRegressor. Average Root Mean Squared Error per output: [1.2879463  1.56074444]. \n",
      "Testing model: RandomForestRegressor. Average Root Mean Squared Error per output: [1.29346918 1.5516758 ]. \n",
      "Testing model: RandomForestRegressor. Average Root Mean Squared Error per output: [1.04500131 0.83358475]. \n",
      "Testing model: RandomForestRegressor. Average Root Mean Squared Error per output: [1.04248134 0.82840833]. \n",
      "Testing model: RandomForestRegressor. Average Root Mean Squared Error per output: [1.28965897 1.57522539]. \n",
      "Testing model: RandomForestRegressor. Average Root Mean Squared Error per output: [1.28976291 1.56796154]. \n",
      "Testing model: RandomForestRegressor. Average Root Mean Squared Error per output: [0.92828678 0.93444231]. \n",
      "Testing model: RandomForestRegressor. Average Root Mean Squared Error per output: [0.9146442  0.92654968]. \n",
      "Testing model: RandomForestRegressor. Average Root Mean Squared Error per output: [0.91743304 0.94681442]. \n",
      "Testing model: RandomForestRegressor. Average Root Mean Squared Error per output: [0.90299378 0.94398643]. \n",
      "Testing model: RandomForestRegressor. Average Root Mean Squared Error per output: [1.0585156  0.83623653]. \n",
      "Testing model: RandomForestRegressor. Average Root Mean Squared Error per output: [1.06966242 0.82491111]. \n",
      "Testing model: RandomForestRegressor. Average Root Mean Squared Error per output: [1.05532181 0.84543451]. \n",
      "Testing model: RandomForestRegressor. Average Root Mean Squared Error per output: [1.06733422 0.82452262]. \n",
      "Testing model: RandomForestRegressor. Average Root Mean Squared Error per output: [0.9284958  0.94016474]. \n",
      "Testing model: RandomForestRegressor. Average Root Mean Squared Error per output: [0.91119834 0.94888792]. \n",
      "Testing model: RandomForestRegressor. Average Root Mean Squared Error per output: [0.91548084 0.93903252]. \n",
      "Testing model: RandomForestRegressor. Average Root Mean Squared Error per output: [0.89990732 0.92908738]. \n"
     ]
    },
    {
     "name": "stderr",
     "output_type": "stream",
     "text": []
    },
    {
     "name": "stdout",
     "output_type": "stream",
     "text": [
      "Testing model: XGBRegressor with hyperparameters: {'n_estimators': 50, 'max_depth': 6} and aggregate: ['min']\n",
      "Testing model: XGBRegressor with hyperparameters: {'n_estimators': 50, 'max_depth': 10} and aggregate: ['min']\n",
      "Testing model: XGBRegressor with hyperparameters: {'n_estimators': 100, 'max_depth': 6} and aggregate: ['min']\n",
      "Testing model: XGBRegressor with hyperparameters: {'n_estimators': 100, 'max_depth': 10} and aggregate: ['min']\n",
      "Testing model: XGBRegressor. Average Root Mean Squared Error per output: [1.31290403 1.49125786]. \n",
      "Testing model: XGBRegressor. Average Root Mean Squared Error per output: [1.33816007 1.46917206]. \n",
      "Testing model: XGBRegressor. Average Root Mean Squared Error per output: [1.30994474 1.49784118]. \n",
      "Testing model: XGBRegressor. Average Root Mean Squared Error per output: [1.33902975 1.47688091]. \n",
      "Testing model: XGBRegressor. Average Root Mean Squared Error per output: [1.18854066 1.0180713 ]. \n",
      "Testing model: XGBRegressor. Average Root Mean Squared Error per output: [1.15254782 1.00947467]. \n",
      "Testing model: XGBRegressor. Average Root Mean Squared Error per output: [1.18861617 1.15337662]. \n",
      "Testing model: XGBRegressor. Average Root Mean Squared Error per output: [1.15254782 1.00901596]. \n",
      "Testing model: XGBRegressor. Average Root Mean Squared Error per output: [1.18810907 1.02006171]. \n",
      "Testing model: XGBRegressor. Average Root Mean Squared Error per output: [1.18770165 1.18053555]. \n",
      "Testing model: XGBRegressor. Average Root Mean Squared Error per output: [1.19085999 1.1804244 ]. \n",
      "Testing model: XGBRegressor. Average Root Mean Squared Error per output: [1.22136298 1.14846645]. \n"
     ]
    },
    {
     "name": "stderr",
     "output_type": "stream",
     "text": []
    },
    {
     "name": "stdout",
     "output_type": "stream",
     "text": [
      "Testing model: RandomForestRegressor with hyperparameters: {'n_estimators': 50, 'max_depth': 10, 'min_samples_split': 2} and aggregate: ['mean', 'std', 'max', 'min']Testing model: RandomForestRegressor with hyperparameters: {'n_estimators': 50, 'max_depth': 10, 'min_samples_split': 5} and aggregate: ['mean', 'std', 'max', 'min']\n",
      "\n",
      "Testing model: RandomForestRegressor with hyperparameters: {'n_estimators': 50, 'max_depth': None, 'min_samples_split': 2} and aggregate: ['mean', 'std', 'max', 'min']\n",
      "Testing model: RandomForestRegressor with hyperparameters: {'n_estimators': 50, 'max_depth': None, 'min_samples_split': 5} and aggregate: ['mean', 'std', 'max', 'min']\n",
      "Testing model: RandomForestRegressor with hyperparameters: {'n_estimators': 100, 'max_depth': 10, 'min_samples_split': 2} and aggregate: ['mean', 'std', 'max', 'min']\n",
      "Testing model: RandomForestRegressor with hyperparameters: {'n_estimators': 100, 'max_depth': 10, 'min_samples_split': 5} and aggregate: ['mean', 'std', 'max', 'min']\n",
      "Testing model: RandomForestRegressor with hyperparameters: {'n_estimators': 100, 'max_depth': None, 'min_samples_split': 2} and aggregate: ['mean', 'std', 'max', 'min']\n",
      "Testing model: RandomForestRegressor with hyperparameters: {'n_estimators': 100, 'max_depth': None, 'min_samples_split': 5} and aggregate: ['mean', 'std', 'max', 'min']\n",
      "Testing model: RandomForestRegressor. Average Root Mean Squared Error per output: [1.56771385 1.74465112]. \n",
      "Testing model: RandomForestRegressor. Average Root Mean Squared Error per output: [1.52006579 1.79992256]. \n",
      "Testing model: RandomForestRegressor. Average Root Mean Squared Error per output: [1.54095572 1.79936923]. \n",
      "Testing model: RandomForestRegressor. Average Root Mean Squared Error per output: [1.57933074 1.781757  ]. \n",
      "Testing model: RandomForestRegressor. Average Root Mean Squared Error per output: [1.12546014 1.36831948]. \n",
      "Testing model: RandomForestRegressor. Average Root Mean Squared Error per output: [1.54584921 1.77484559]. \n",
      "Testing model: RandomForestRegressor. Average Root Mean Squared Error per output: [1.5648686  1.78670395]. \n",
      "Testing model: RandomForestRegressor. Average Root Mean Squared Error per output: [1.14757555 1.3631018 ]. \n",
      "Testing model: RandomForestRegressor. Average Root Mean Squared Error per output: [1.5644353  1.80611226]. \n",
      "Testing model: RandomForestRegressor. Average Root Mean Squared Error per output: [1.56868358 1.80466823]. \n",
      "Testing model: RandomForestRegressor. Average Root Mean Squared Error per output: [1.44943675 0.90013664]. \n",
      "Testing model: RandomForestRegressor. Average Root Mean Squared Error per output: [1.11781212 1.35884126]. \n",
      "Testing model: RandomForestRegressor. Average Root Mean Squared Error per output: [1.11283061 1.35555856]. \n",
      "Testing model: RandomForestRegressor. Average Root Mean Squared Error per output: [1.44866652 0.91147971]. \n",
      "Testing model: RandomForestRegressor. Average Root Mean Squared Error per output: [1.12628126 1.3629751 ]. \n",
      "Testing model: RandomForestRegressor. Average Root Mean Squared Error per output: [1.44154473 0.90915401]. \n",
      "Testing model: RandomForestRegressor. Average Root Mean Squared Error per output: [1.43994119 0.90702537]. \n",
      "Testing model: RandomForestRegressor. Average Root Mean Squared Error per output: [1.13628839 1.36194362]. \n",
      "Testing model: RandomForestRegressor. Average Root Mean Squared Error per output: [1.1401321  1.36643866]. \n",
      "Testing model: RandomForestRegressor. Average Root Mean Squared Error per output: [1.11945825 1.36342281]. \n",
      "Testing model: RandomForestRegressor. Average Root Mean Squared Error per output: [1.4381592  0.89700165]. \n",
      "Testing model: RandomForestRegressor. Average Root Mean Squared Error per output: [1.44611925 0.89037454]. \n",
      "Testing model: RandomForestRegressor. Average Root Mean Squared Error per output: [1.4445739 0.9100129]. \n",
      "Testing model: RandomForestRegressor. Average Root Mean Squared Error per output: [1.45481734 0.90225163]. \n"
     ]
    },
    {
     "name": "stderr",
     "output_type": "stream",
     "text": []
    },
    {
     "name": "stdout",
     "output_type": "stream",
     "text": [
      "Testing model: XGBRegressor with hyperparameters: {'n_estimators': 50, 'max_depth': 6} and aggregate: ['mean', 'std', 'max', 'min']\n",
      "Testing model: XGBRegressor with hyperparameters: {'n_estimators': 50, 'max_depth': 10} and aggregate: ['mean', 'std', 'max', 'min']\n",
      "Testing model: XGBRegressor with hyperparameters: {'n_estimators': 100, 'max_depth': 6} and aggregate: ['mean', 'std', 'max', 'min']\n",
      "Testing model: XGBRegressor with hyperparameters: {'n_estimators': 100, 'max_depth': 10} and aggregate: ['mean', 'std', 'max', 'min']\n",
      "Testing model: XGBRegressor. Average Root Mean Squared Error per output: [1.31593524 1.86656849]. \n",
      "Testing model: XGBRegressor. Average Root Mean Squared Error per output: [1.31685858 1.87801593]. \n",
      "Testing model: XGBRegressor. Average Root Mean Squared Error per output: [1.32433303 1.76761086]. \n",
      "Testing model: XGBRegressor. Average Root Mean Squared Error per output: [1.32525989 1.76648392]. \n",
      "Testing model: XGBRegressor. Average Root Mean Squared Error per output: [1.23864227 1.26631596]. \n",
      "Testing model: XGBRegressor. Average Root Mean Squared Error per output: [1.11301039 1.29660776]. \n",
      "Testing model: XGBRegressor. Average Root Mean Squared Error per output: [1.11301216 1.29686162]. \n",
      "Testing model: XGBRegressor. Average Root Mean Squared Error per output: [1.24250904 1.2533911 ]. \n",
      "Testing model: XGBRegressor. Average Root Mean Squared Error per output: [1.62604069 0.94177391]. \n",
      "Testing model: XGBRegressor. Average Root Mean Squared Error per output: [1.63355527 1.00154817]. \n",
      "Testing model: XGBRegressor. Average Root Mean Squared Error per output: [1.62820007 0.94016344]. \n"
     ]
    },
    {
     "name": "stderr",
     "output_type": "stream",
     "text": [
      "Processing subject:  40%|\u001b[32m████      \u001b[0m| 12/30 [6:59:55<10:29:15, 2097.54s/subject]"
     ]
    },
    {
     "name": "stdout",
     "output_type": "stream",
     "text": [
      "Testing model: XGBRegressor. Average Root Mean Squared Error per output: [1.63289581 1.00215072]. \n",
      "Processing video: 26\n"
     ]
    },
    {
     "name": "stderr",
     "output_type": "stream",
     "text": []
    },
    {
     "name": "stdout",
     "output_type": "stream",
     "text": [
      "Testing model: RandomForestRegressor with hyperparameters: {'n_estimators': 50, 'max_depth': 10, 'min_samples_split': 2} and aggregate: ['min']\n",
      "Testing model: RandomForestRegressor with hyperparameters: {'n_estimators': 50, 'max_depth': 10, 'min_samples_split': 5} and aggregate: ['min']\n",
      "Testing model: RandomForestRegressor with hyperparameters: {'n_estimators': 50, 'max_depth': None, 'min_samples_split': 2} and aggregate: ['min']\n",
      "Testing model: RandomForestRegressor with hyperparameters: {'n_estimators': 50, 'max_depth': None, 'min_samples_split': 5} and aggregate: ['min']\n",
      "Testing model: RandomForestRegressor with hyperparameters: {'n_estimators': 100, 'max_depth': 10, 'min_samples_split': 2} and aggregate: ['min']\n",
      "Testing model: RandomForestRegressor with hyperparameters: {'n_estimators': 100, 'max_depth': 10, 'min_samples_split': 5} and aggregate: ['min']\n",
      "Testing model: RandomForestRegressor with hyperparameters: {'n_estimators': 100, 'max_depth': None, 'min_samples_split': 2} and aggregate: ['min']\n",
      "Testing model: RandomForestRegressor with hyperparameters: {'n_estimators': 100, 'max_depth': None, 'min_samples_split': 5} and aggregate: ['min']\n",
      "Testing model: RandomForestRegressor. Average Root Mean Squared Error per output: [0.97226081 0.83002351]. \n",
      "Testing model: RandomForestRegressor. Average Root Mean Squared Error per output: [0.93455287 0.82705973]. \n",
      "Testing model: RandomForestRegressor. Average Root Mean Squared Error per output: [0.94682187 0.82965565]. \n",
      "Testing model: RandomForestRegressor. Average Root Mean Squared Error per output: [0.95455862 0.83145603]. \n",
      "Testing model: RandomForestRegressor. Average Root Mean Squared Error per output: [0.95926908 0.8289997 ]. \n",
      "Testing model: RandomForestRegressor. Average Root Mean Squared Error per output: [0.95970135 0.83034957]. \n",
      "Testing model: RandomForestRegressor. Average Root Mean Squared Error per output: [1.1675815  0.68704812]. \n",
      "Testing model: RandomForestRegressor. Average Root Mean Squared Error per output: [1.17307613 0.69648915]. \n",
      "Testing model: RandomForestRegressor. Average Root Mean Squared Error per output: [0.94695531 0.8327721 ]. \n",
      "Testing model: RandomForestRegressor. Average Root Mean Squared Error per output: [0.95058586 0.83094221]. \n",
      "Testing model: RandomForestRegressor. Average Root Mean Squared Error per output: [1.17157852 0.69611126]. \n",
      "Testing model: RandomForestRegressor. Average Root Mean Squared Error per output: [1.16589676 0.68009621]. \n",
      "Testing model: RandomForestRegressor. Average Root Mean Squared Error per output: [0.69354547 0.6703255 ]. \n",
      "Testing model: RandomForestRegressor. Average Root Mean Squared Error per output: [0.69413281 0.6762628 ]. \n",
      "Testing model: RandomForestRegressor. Average Root Mean Squared Error per output: [0.69540541 0.67534394]. \n",
      "Testing model: RandomForestRegressor. Average Root Mean Squared Error per output: [0.68934683 0.67600105]. \n",
      "Testing model: RandomForestRegressor. Average Root Mean Squared Error per output: [1.17821309 0.69318342]. \n",
      "Testing model: RandomForestRegressor. Average Root Mean Squared Error per output: [1.17728251 0.6875447 ]. \n",
      "Testing model: RandomForestRegressor. Average Root Mean Squared Error per output: [1.18066637 0.69322615]. \n",
      "Testing model: RandomForestRegressor. Average Root Mean Squared Error per output: [1.16216711 0.68356977]. \n",
      "Testing model: RandomForestRegressor. Average Root Mean Squared Error per output: [0.69192759 0.66393566]. \n",
      "Testing model: RandomForestRegressor. Average Root Mean Squared Error per output: [0.69249246 0.66694999]. \n",
      "Testing model: RandomForestRegressor. Average Root Mean Squared Error per output: [0.68827416 0.67754046]. \n",
      "Testing model: RandomForestRegressor. Average Root Mean Squared Error per output: [0.69145998 0.66242355]. \n"
     ]
    },
    {
     "name": "stderr",
     "output_type": "stream",
     "text": []
    },
    {
     "name": "stdout",
     "output_type": "stream",
     "text": [
      "Testing model: XGBRegressor with hyperparameters: {'n_estimators': 50, 'max_depth': 6} and aggregate: ['min']\n",
      "Testing model: XGBRegressor with hyperparameters: {'n_estimators': 50, 'max_depth': 10} and aggregate: ['min']\n",
      "Testing model: XGBRegressor with hyperparameters: {'n_estimators': 100, 'max_depth': 6} and aggregate: ['min']\n",
      "Testing model: XGBRegressor with hyperparameters: {'n_estimators': 100, 'max_depth': 10} and aggregate: ['min']\n",
      "Testing model: XGBRegressor. Average Root Mean Squared Error per output: [0.9095668  0.95440887]. \n",
      "Testing model: XGBRegressor. Average Root Mean Squared Error per output: [0.94755166 0.9182111 ]. \n",
      "Testing model: XGBRegressor. Average Root Mean Squared Error per output: [0.91198626 0.94850961]. \n",
      "Testing model: XGBRegressor. Average Root Mean Squared Error per output: [0.94782318 0.91622056]. \n",
      "Testing model: XGBRegressor. Average Root Mean Squared Error per output: [1.21906847 0.80638106]. \n",
      "Testing model: XGBRegressor. Average Root Mean Squared Error per output: [1.26292111 0.58526494]. \n",
      "Testing model: XGBRegressor. Average Root Mean Squared Error per output: [0.64118567 0.68151164]. \n",
      "Testing model: XGBRegressor. Average Root Mean Squared Error per output: [1.1898308  0.78791943]. \n",
      "Testing model: XGBRegressor. Average Root Mean Squared Error per output: [0.63711166 0.68842703]. \n",
      "Testing model: XGBRegressor. Average Root Mean Squared Error per output: [1.26041734 0.58498504]. \n",
      "Testing model: XGBRegressor. Average Root Mean Squared Error per output: [0.64077812 0.67795081]. \n",
      "Testing model: XGBRegressor. Average Root Mean Squared Error per output: [0.63713049 0.6880964 ]. \n"
     ]
    },
    {
     "name": "stderr",
     "output_type": "stream",
     "text": []
    },
    {
     "name": "stdout",
     "output_type": "stream",
     "text": [
      "Testing model: RandomForestRegressor with hyperparameters: {'n_estimators': 50, 'max_depth': 10, 'min_samples_split': 2} and aggregate: ['mean', 'std', 'max', 'min']\n",
      "Testing model: RandomForestRegressor with hyperparameters: {'n_estimators': 50, 'max_depth': 10, 'min_samples_split': 5} and aggregate: ['mean', 'std', 'max', 'min']\n",
      "Testing model: RandomForestRegressor with hyperparameters: {'n_estimators': 50, 'max_depth': None, 'min_samples_split': 2} and aggregate: ['mean', 'std', 'max', 'min']\n",
      "Testing model: RandomForestRegressor with hyperparameters: {'n_estimators': 50, 'max_depth': None, 'min_samples_split': 5} and aggregate: ['mean', 'std', 'max', 'min']\n",
      "Testing model: RandomForestRegressor with hyperparameters: {'n_estimators': 100, 'max_depth': 10, 'min_samples_split': 2} and aggregate: ['mean', 'std', 'max', 'min']\n",
      "Testing model: RandomForestRegressor with hyperparameters: {'n_estimators': 100, 'max_depth': 10, 'min_samples_split': 5} and aggregate: ['mean', 'std', 'max', 'min']\n",
      "Testing model: RandomForestRegressor with hyperparameters: {'n_estimators': 100, 'max_depth': None, 'min_samples_split': 2} and aggregate: ['mean', 'std', 'max', 'min']\n"
     ]
    },
    {
     "name": "stderr",
     "output_type": "stream",
     "text": [
      "\n",
      "                                                                              "
     ]
    },
    {
     "name": "stdout",
     "output_type": "stream",
     "text": [
      "Testing model: RandomForestRegressor with hyperparameters: {'n_estimators': 100, 'max_depth': None, 'min_samples_split': 5} and aggregate: ['mean', 'std', 'max', 'min']\n"
     ]
    },
    {
     "name": "stderr",
     "output_type": "stream",
     "text": [
      "\u001b[A"
     ]
    },
    {
     "name": "stdout",
     "output_type": "stream",
     "text": [
      "Testing model: RandomForestRegressor. Average Root Mean Squared Error per output: [0.97471707 0.82635481]. \n",
      "Testing model: RandomForestRegressor. Average Root Mean Squared Error per output: [0.97416583 0.82264599]. \n",
      "Testing model: RandomForestRegressor. Average Root Mean Squared Error per output: [0.97594258 0.82717277]. \n",
      "Testing model: RandomForestRegressor. Average Root Mean Squared Error per output: [0.97911571 0.82347981]. \n",
      "Testing model: RandomForestRegressor. Average Root Mean Squared Error per output: [0.9750857  0.82892085]. \n",
      "Testing model: RandomForestRegressor. Average Root Mean Squared Error per output: [0.97521026 0.82270465]. \n",
      "Testing model: RandomForestRegressor. Average Root Mean Squared Error per output: [0.97442183 0.82611405]. \n",
      "Testing model: RandomForestRegressor. Average Root Mean Squared Error per output: [0.97342517 0.8237168 ]. \n",
      "Testing model: RandomForestRegressor. Average Root Mean Squared Error per output: [1.44525497 0.65453468]. \n",
      "Testing model: RandomForestRegressor. Average Root Mean Squared Error per output: [1.44080866 0.67271561]. \n",
      "Testing model: RandomForestRegressor. Average Root Mean Squared Error per output: [1.4375912  0.66507271]. \n",
      "Testing model: RandomForestRegressor. Average Root Mean Squared Error per output: [1.44793052 0.66888847]. \n",
      "Testing model: RandomForestRegressor. Average Root Mean Squared Error per output: [0.7790557  0.97728666]. \n",
      "Testing model: RandomForestRegressor. Average Root Mean Squared Error per output: [0.77875501 0.96233913]. \n",
      "Testing model: RandomForestRegressor. Average Root Mean Squared Error per output: [1.43422953 0.65066899]. \n",
      "Testing model: RandomForestRegressor. Average Root Mean Squared Error per output: [1.43701014 0.6435764 ]. \n",
      "Testing model: RandomForestRegressor. Average Root Mean Squared Error per output: [0.77733137 0.97835787]. \n",
      "Testing model: RandomForestRegressor. Average Root Mean Squared Error per output: [0.77823396 0.98705203]. \n",
      "Testing model: RandomForestRegressor. Average Root Mean Squared Error per output: [1.44079774 0.65321931]. \n",
      "Testing model: RandomForestRegressor. Average Root Mean Squared Error per output: [1.44179298 0.66167727]. \n",
      "Testing model: RandomForestRegressor. Average Root Mean Squared Error per output: [0.77937039 0.98442094]. \n",
      "Testing model: RandomForestRegressor. Average Root Mean Squared Error per output: [0.77915416 0.98895983]. \n",
      "Testing model: RandomForestRegressor. Average Root Mean Squared Error per output: [0.78026613 0.98276228]. \n",
      "Testing model: RandomForestRegressor. Average Root Mean Squared Error per output: [0.77838543 0.98253494]. \n"
     ]
    },
    {
     "name": "stderr",
     "output_type": "stream",
     "text": []
    },
    {
     "name": "stdout",
     "output_type": "stream",
     "text": [
      "Testing model: XGBRegressor with hyperparameters: {'n_estimators': 50, 'max_depth': 6} and aggregate: ['mean', 'std', 'max', 'min']\n",
      "Testing model: XGBRegressor with hyperparameters: {'n_estimators': 50, 'max_depth': 10} and aggregate: ['mean', 'std', 'max', 'min']\n",
      "Testing model: XGBRegressor with hyperparameters: {'n_estimators': 100, 'max_depth': 6} and aggregate: ['mean', 'std', 'max', 'min']\n",
      "Testing model: XGBRegressor with hyperparameters: {'n_estimators': 100, 'max_depth': 10} and aggregate: ['mean', 'std', 'max', 'min']\n",
      "Testing model: XGBRegressor. Average Root Mean Squared Error per output: [0.95938548 0.90467594]. \n",
      "Testing model: XGBRegressor. Average Root Mean Squared Error per output: [0.94010759 0.87551742]. \n",
      "Testing model: XGBRegressor. Average Root Mean Squared Error per output: [0.94113348 0.87578486]. \n",
      "Testing model: XGBRegressor. Average Root Mean Squared Error per output: [0.96395751 0.89350697]. \n",
      "Testing model: XGBRegressor. Average Root Mean Squared Error per output: [1.47518661 0.79094334]. \n",
      "Testing model: XGBRegressor. Average Root Mean Squared Error per output: [1.46495433 0.88063545]. \n",
      "Testing model: XGBRegressor. Average Root Mean Squared Error per output: [1.46346693 0.88014617]. \n",
      "Testing model: XGBRegressor. Average Root Mean Squared Error per output: [1.4699575  0.78576386]. \n",
      "Testing model: XGBRegressor. Average Root Mean Squared Error per output: [0.85332925 1.16867652]. \n",
      "Testing model: XGBRegressor. Average Root Mean Squared Error per output: [0.85620629 1.15574277]. \n",
      "Testing model: XGBRegressor. Average Root Mean Squared Error per output: [0.85622057 1.155182  ]. \n"
     ]
    },
    {
     "name": "stderr",
     "output_type": "stream",
     "text": [
      "Processing subject:  43%|\u001b[32m████▎     \u001b[0m| 13/30 [7:34:59<9:54:50, 2099.44s/subject] "
     ]
    },
    {
     "name": "stdout",
     "output_type": "stream",
     "text": [
      "Testing model: XGBRegressor. Average Root Mean Squared Error per output: [0.8527389  1.15523153]. \n",
      "Processing video: 4\n"
     ]
    },
    {
     "name": "stderr",
     "output_type": "stream",
     "text": []
    },
    {
     "name": "stdout",
     "output_type": "stream",
     "text": [
      "Testing model: RandomForestRegressor with hyperparameters: {'n_estimators': 50, 'max_depth': 10, 'min_samples_split': 2} and aggregate: ['min']\n",
      "Testing model: RandomForestRegressor with hyperparameters: {'n_estimators': 50, 'max_depth': 10, 'min_samples_split': 5} and aggregate: ['min']\n",
      "Testing model: RandomForestRegressor with hyperparameters: {'n_estimators': 50, 'max_depth': None, 'min_samples_split': 2} and aggregate: ['min']\n",
      "Testing model: RandomForestRegressor with hyperparameters: {'n_estimators': 50, 'max_depth': None, 'min_samples_split': 5} and aggregate: ['min']\n",
      "Testing model: RandomForestRegressor with hyperparameters: {'n_estimators': 100, 'max_depth': 10, 'min_samples_split': 2} and aggregate: ['min']\n"
     ]
    },
    {
     "name": "stderr",
     "output_type": "stream",
     "text": []
    },
    {
     "name": "stdout",
     "output_type": "stream",
     "text": [
      "Testing model: RandomForestRegressor with hyperparameters: {'n_estimators': 100, 'max_depth': 10, 'min_samples_split': 5} and aggregate: ['min']\n",
      "Testing model: RandomForestRegressor with hyperparameters: {'n_estimators': 100, 'max_depth': None, 'min_samples_split': 2} and aggregate: ['min']\n",
      "Testing model: RandomForestRegressor with hyperparameters: {'n_estimators': 100, 'max_depth': None, 'min_samples_split': 5} and aggregate: ['min']\n",
      "Testing model: RandomForestRegressor. Average Root Mean Squared Error per output: [0.11188795 0.66754679]. \n",
      "Testing model: RandomForestRegressor. Average Root Mean Squared Error per output: [0.11305662 0.59838824]. \n",
      "Testing model: RandomForestRegressor. Average Root Mean Squared Error per output: [0.11310495 0.66145221]. \n",
      "Testing model: RandomForestRegressor. Average Root Mean Squared Error per output: [0.1138966  0.65385554]. \n",
      "Testing model: RandomForestRegressor. Average Root Mean Squared Error per output: [0.09364623 2.32460883]. \n",
      "Testing model: RandomForestRegressor. Average Root Mean Squared Error per output: [0.09377603 2.30322248]. \n",
      "Testing model: RandomForestRegressor. Average Root Mean Squared Error per output: [0.11305148 0.61614276]. \n",
      "Testing model: RandomForestRegressor. Average Root Mean Squared Error per output: [0.11299766 0.66958824]. \n",
      "Testing model: RandomForestRegressor. Average Root Mean Squared Error per output: [0.09050636 2.32921144]. \n",
      "Testing model: RandomForestRegressor. Average Root Mean Squared Error per output: [0.08998975 2.32993261]. \n",
      "Testing model: RandomForestRegressor. Average Root Mean Squared Error per output: [0.11300124 0.64407117]. \n",
      "Testing model: RandomForestRegressor. Average Root Mean Squared Error per output: [0.11264833 0.63960329]. \n",
      "Testing model: RandomForestRegressor. Average Root Mean Squared Error per output: [0.49392727 4.53014539]. \n",
      "Testing model: RandomForestRegressor. Average Root Mean Squared Error per output: [0.48396726 4.52250693]. \n",
      "Testing model: RandomForestRegressor. Average Root Mean Squared Error per output: [0.4807832  4.52003569]. \n",
      "Testing model: RandomForestRegressor. Average Root Mean Squared Error per output: [0.4739103  4.52337021]. \n",
      "Testing model: RandomForestRegressor. Average Root Mean Squared Error per output: [0.09368548 2.32238312]. \n",
      "Testing model: RandomForestRegressor. Average Root Mean Squared Error per output: [0.09380446 2.29873613]. \n",
      "Testing model: RandomForestRegressor. Average Root Mean Squared Error per output: [0.09071277 2.31153446]. \n",
      "Testing model: RandomForestRegressor. Average Root Mean Squared Error per output: [0.09056538 2.30078352]. \n",
      "Testing model: RandomForestRegressor. Average Root Mean Squared Error per output: [0.49761875 4.52461509]. \n",
      "Testing model: RandomForestRegressor. Average Root Mean Squared Error per output: [0.48284291 4.52423948]. \n",
      "Testing model: RandomForestRegressor. Average Root Mean Squared Error per output: [0.48127242 4.52192372]. \n",
      "Testing model: RandomForestRegressor. Average Root Mean Squared Error per output: [0.48110191 4.52688077]. \n"
     ]
    },
    {
     "name": "stderr",
     "output_type": "stream",
     "text": []
    },
    {
     "name": "stdout",
     "output_type": "stream",
     "text": [
      "Testing model: XGBRegressor with hyperparameters: {'n_estimators': 50, 'max_depth': 6} and aggregate: ['min']\n",
      "Testing model: XGBRegressor with hyperparameters: {'n_estimators': 50, 'max_depth': 10} and aggregate: ['min']\n",
      "Testing model: XGBRegressor with hyperparameters: {'n_estimators': 100, 'max_depth': 6} and aggregate: ['min']\n",
      "Testing model: XGBRegressor with hyperparameters: {'n_estimators': 100, 'max_depth': 10} and aggregate: ['min']\n",
      "Testing model: XGBRegressor. Average Root Mean Squared Error per output: [0.0725986  0.41193858]. \n",
      "Testing model: XGBRegressor. Average Root Mean Squared Error per output: [0.07046353 0.73893991]. \n",
      "Testing model: XGBRegressor. Average Root Mean Squared Error per output: [0.07046353 0.73893969]. \n",
      "Testing model: XGBRegressor. Average Root Mean Squared Error per output: [0.07334784 0.41220035]. \n",
      "Testing model: XGBRegressor. Average Root Mean Squared Error per output: [0.09304712 2.21526852]. \n",
      "Testing model: XGBRegressor. Average Root Mean Squared Error per output: [0.09311447 2.2347391 ]. \n",
      "Testing model: XGBRegressor. Average Root Mean Squared Error per output: [0.09311447 2.2347391 ]. \n",
      "Testing model: XGBRegressor. Average Root Mean Squared Error per output: [0.68800737 4.4727146 ]. \n",
      "Testing model: XGBRegressor. Average Root Mean Squared Error per output: [0.69231197 4.46777756]. \n",
      "Testing model: XGBRegressor. Average Root Mean Squared Error per output: [0.09309572 2.2114367 ]. \n",
      "Testing model: XGBRegressor. Average Root Mean Squared Error per output: [0.69231197 4.46777756]. \n",
      "Testing model: XGBRegressor. Average Root Mean Squared Error per output: [0.68800737 4.47278546]. \n"
     ]
    },
    {
     "name": "stderr",
     "output_type": "stream",
     "text": []
    },
    {
     "name": "stdout",
     "output_type": "stream",
     "text": [
      "Testing model: RandomForestRegressor with hyperparameters: {'n_estimators': 50, 'max_depth': 10, 'min_samples_split': 2} and aggregate: ['mean', 'std', 'max', 'min']\n",
      "Testing model: RandomForestRegressor with hyperparameters: {'n_estimators': 50, 'max_depth': 10, 'min_samples_split': 5} and aggregate: ['mean', 'std', 'max', 'min']\n",
      "Testing model: RandomForestRegressor with hyperparameters: {'n_estimators': 50, 'max_depth': None, 'min_samples_split': 2} and aggregate: ['mean', 'std', 'max', 'min']\n",
      "Testing model: RandomForestRegressor with hyperparameters: {'n_estimators': 50, 'max_depth': None, 'min_samples_split': 5} and aggregate: ['mean', 'std', 'max', 'min']\n",
      "Testing model: RandomForestRegressor with hyperparameters: {'n_estimators': 100, 'max_depth': 10, 'min_samples_split': 2} and aggregate: ['mean', 'std', 'max', 'min']\n",
      "Testing model: RandomForestRegressor with hyperparameters: {'n_estimators': 100, 'max_depth': 10, 'min_samples_split': 5} and aggregate: ['mean', 'std', 'max', 'min']\n",
      "Testing model: RandomForestRegressor with hyperparameters: {'n_estimators': 100, 'max_depth': None, 'min_samples_split': 2} and aggregate: ['mean', 'std', 'max', 'min']\n",
      "Testing model: RandomForestRegressor with hyperparameters: {'n_estimators': 100, 'max_depth': None, 'min_samples_split': 5} and aggregate: ['mean', 'std', 'max', 'min']\n"
     ]
    },
    {
     "name": "stderr",
     "output_type": "stream",
     "text": []
    },
    {
     "name": "stdout",
     "output_type": "stream",
     "text": [
      "Testing model: RandomForestRegressor. Average Root Mean Squared Error per output: [0.06451511 0.35397067]. \n",
      "Testing model: RandomForestRegressor. Average Root Mean Squared Error per output: [0.0642193  0.34561415]. \n",
      "Testing model: RandomForestRegressor. Average Root Mean Squared Error per output: [0.06378898 0.34525304]. \n",
      "Testing model: RandomForestRegressor. Average Root Mean Squared Error per output: [0.06176895 0.34331762]. \n",
      "Testing model: RandomForestRegressor. Average Root Mean Squared Error per output: [0.06457645 0.34547553]. \n",
      "Testing model: RandomForestRegressor. Average Root Mean Squared Error per output: [0.0659468  0.34548063]. \n",
      "Testing model: RandomForestRegressor. Average Root Mean Squared Error per output: [0.07066126 0.3513382 ]. \n",
      "Testing model: RandomForestRegressor. Average Root Mean Squared Error per output: [0.10896325 2.45788937]. \n",
      "Testing model: RandomForestRegressor. Average Root Mean Squared Error per output: [0.0665576  0.34357642]. \n",
      "Testing model: RandomForestRegressor. Average Root Mean Squared Error per output: [0.10816724 2.45561396]. \n",
      "Testing model: RandomForestRegressor. Average Root Mean Squared Error per output: [0.10659167 2.44604704]. \n",
      "Testing model: RandomForestRegressor. Average Root Mean Squared Error per output: [0.10875769 2.45401123]. \n",
      "Testing model: RandomForestRegressor. Average Root Mean Squared Error per output: [0.35313081 4.18395386]. \n",
      "Testing model: RandomForestRegressor. Average Root Mean Squared Error per output: [0.37646606 4.18320849]. \n",
      "Testing model: RandomForestRegressor. Average Root Mean Squared Error per output: [0.37531592 4.16877841]. \n",
      "Testing model: RandomForestRegressor. Average Root Mean Squared Error per output: [0.37586059 4.25146778]. \n",
      "Testing model: RandomForestRegressor. Average Root Mean Squared Error per output: [0.10848827 2.45246871]. \n",
      "Testing model: RandomForestRegressor. Average Root Mean Squared Error per output: [0.1080542  2.45171021]. \n",
      "Testing model: RandomForestRegressor. Average Root Mean Squared Error per output: [0.10913354 2.45264583]. \n",
      "Testing model: RandomForestRegressor. Average Root Mean Squared Error per output: [0.10857385 2.44432982]. \n",
      "Testing model: RandomForestRegressor. Average Root Mean Squared Error per output: [0.35931137 4.19839998]. \n",
      "Testing model: RandomForestRegressor. Average Root Mean Squared Error per output: [0.34971254 4.2732987 ]. \n",
      "Testing model: RandomForestRegressor. Average Root Mean Squared Error per output: [0.35793948 4.15744957]. \n",
      "Testing model: RandomForestRegressor. Average Root Mean Squared Error per output: [0.34945422 4.18680639]. \n"
     ]
    },
    {
     "name": "stderr",
     "output_type": "stream",
     "text": []
    },
    {
     "name": "stdout",
     "output_type": "stream",
     "text": [
      "Testing model: XGBRegressor with hyperparameters: {'n_estimators': 50, 'max_depth': 6} and aggregate: ['mean', 'std', 'max', 'min']\n",
      "Testing model: XGBRegressor with hyperparameters: {'n_estimators': 50, 'max_depth': 10} and aggregate: ['mean', 'std', 'max', 'min']\n",
      "Testing model: XGBRegressor with hyperparameters: {'n_estimators': 100, 'max_depth': 6} and aggregate: ['mean', 'std', 'max', 'min']\n",
      "Testing model: XGBRegressor with hyperparameters: {'n_estimators': 100, 'max_depth': 10} and aggregate: ['mean', 'std', 'max', 'min']\n",
      "Testing model: XGBRegressor. Average Root Mean Squared Error per output: [0.11570665 0.27617198]. \n",
      "Testing model: XGBRegressor. Average Root Mean Squared Error per output: [0.13547786 0.27130379]. \n",
      "Testing model: XGBRegressor. Average Root Mean Squared Error per output: [0.13547786 0.27130416]. \n",
      "Testing model: XGBRegressor. Average Root Mean Squared Error per output: [0.11580402 0.27505198]. \n",
      "Testing model: XGBRegressor. Average Root Mean Squared Error per output: [0.09863045 2.41341445]. \n",
      "Testing model: XGBRegressor. Average Root Mean Squared Error per output: [0.10280719 2.41440359]. \n",
      "Testing model: XGBRegressor. Average Root Mean Squared Error per output: [0.10280719 2.41440359]. \n",
      "Testing model: XGBRegressor. Average Root Mean Squared Error per output: [0.09914148 2.41345646]. \n",
      "Testing model: XGBRegressor. Average Root Mean Squared Error per output: [0.67393133 4.49547085]. \n",
      "Testing model: XGBRegressor. Average Root Mean Squared Error per output: [0.66087753 4.49097791]. \n",
      "Testing model: XGBRegressor. Average Root Mean Squared Error per output: [0.66087753 4.49097791]. \n"
     ]
    },
    {
     "name": "stderr",
     "output_type": "stream",
     "text": [
      "Processing subject:  47%|\u001b[32m████▋     \u001b[0m| 14/30 [8:09:04<9:15:27, 2082.94s/subject]"
     ]
    },
    {
     "name": "stdout",
     "output_type": "stream",
     "text": [
      "Testing model: XGBRegressor. Average Root Mean Squared Error per output: [0.67393133 4.49547085]. \n",
      "Processing video: 19\n"
     ]
    },
    {
     "name": "stderr",
     "output_type": "stream",
     "text": []
    },
    {
     "name": "stdout",
     "output_type": "stream",
     "text": [
      "Testing model: RandomForestRegressor with hyperparameters: {'n_estimators': 50, 'max_depth': 10, 'min_samples_split': 2} and aggregate: ['min']\n",
      "Testing model: RandomForestRegressor with hyperparameters: {'n_estimators': 50, 'max_depth': 10, 'min_samples_split': 5} and aggregate: ['min']\n",
      "Testing model: RandomForestRegressor with hyperparameters: {'n_estimators': 50, 'max_depth': None, 'min_samples_split': 2} and aggregate: ['min']\n",
      "Testing model: RandomForestRegressor with hyperparameters: {'n_estimators': 50, 'max_depth': None, 'min_samples_split': 5} and aggregate: ['min']\n",
      "Testing model: RandomForestRegressor with hyperparameters: {'n_estimators': 100, 'max_depth': 10, 'min_samples_split': 2} and aggregate: ['min']\n",
      "Testing model: RandomForestRegressor with hyperparameters: {'n_estimators': 100, 'max_depth': 10, 'min_samples_split': 5} and aggregate: ['min']\n",
      "Testing model: RandomForestRegressor with hyperparameters: {'n_estimators': 100, 'max_depth': None, 'min_samples_split': 2} and aggregate: ['min']\n",
      "Testing model: RandomForestRegressor with hyperparameters: {'n_estimators': 100, 'max_depth': None, 'min_samples_split': 5} and aggregate: ['min']\n",
      "Testing model: RandomForestRegressor. Average Root Mean Squared Error per output: [0.49087671 0.65964682]. \n",
      "Testing model: RandomForestRegressor. Average Root Mean Squared Error per output: [0.49296838 0.64406906]. \n",
      "Testing model: RandomForestRegressor. Average Root Mean Squared Error per output: [0.49424604 0.64165664]. \n",
      "Testing model: RandomForestRegressor. Average Root Mean Squared Error per output: [0.49193646 0.66109658]. \n",
      "Testing model: RandomForestRegressor. Average Root Mean Squared Error per output: [0.59525581 0.44233469]. \n",
      "Testing model: RandomForestRegressor. Average Root Mean Squared Error per output: [0.49099998 0.64651272]. \n",
      "Testing model: RandomForestRegressor. Average Root Mean Squared Error per output: [0.58462918 0.44824472]. \n",
      "Testing model: RandomForestRegressor. Average Root Mean Squared Error per output: [0.48981117 0.65018422]. \n",
      "Testing model: RandomForestRegressor. Average Root Mean Squared Error per output: [0.49214057 0.65104718]. \n",
      "Testing model: RandomForestRegressor. Average Root Mean Squared Error per output: [0.59375667 0.44613127]. \n",
      "Testing model: RandomForestRegressor. Average Root Mean Squared Error per output: [0.59176155 0.44378147]. \n",
      "Testing model: RandomForestRegressor. Average Root Mean Squared Error per output: [0.49082973 0.64861575]. \n",
      "Testing model: RandomForestRegressor. Average Root Mean Squared Error per output: [0.15406521 1.01488136]. \n",
      "Testing model: RandomForestRegressor. Average Root Mean Squared Error per output: [0.15422046 1.02072545]. \n",
      "Testing model: RandomForestRegressor. Average Root Mean Squared Error per output: [0.15398076 1.00830391]. \n",
      "Testing model: RandomForestRegressor. Average Root Mean Squared Error per output: [0.1530825  1.00674335]. \n",
      "Testing model: RandomForestRegressor. Average Root Mean Squared Error per output: [0.58688442 0.44168472]. \n",
      "Testing model: RandomForestRegressor. Average Root Mean Squared Error per output: [0.59195447 0.44152818]. \n",
      "Testing model: RandomForestRegressor. Average Root Mean Squared Error per output: [0.59375663 0.44553532]. \n",
      "Testing model: RandomForestRegressor. Average Root Mean Squared Error per output: [0.59363829 0.44561018]. \n",
      "Testing model: RandomForestRegressor. Average Root Mean Squared Error per output: [0.15223718 1.01160177]. \n",
      "Testing model: RandomForestRegressor. Average Root Mean Squared Error per output: [0.15488936 1.00879998]. \n",
      "Testing model: RandomForestRegressor. Average Root Mean Squared Error per output: [0.15367776 1.01180801]. \n",
      "Testing model: RandomForestRegressor. Average Root Mean Squared Error per output: [0.1533593  1.01058821]. \n"
     ]
    },
    {
     "name": "stderr",
     "output_type": "stream",
     "text": []
    },
    {
     "name": "stdout",
     "output_type": "stream",
     "text": [
      "Testing model: XGBRegressor with hyperparameters: {'n_estimators': 50, 'max_depth': 6} and aggregate: ['min']\n",
      "Testing model: XGBRegressor with hyperparameters: {'n_estimators': 50, 'max_depth': 10} and aggregate: ['min']\n",
      "Testing model: XGBRegressor with hyperparameters: {'n_estimators': 100, 'max_depth': 6} and aggregate: ['min']\n",
      "Testing model: XGBRegressor with hyperparameters: {'n_estimators': 100, 'max_depth': 10} and aggregate: ['min']\n",
      "Testing model: XGBRegressor. Average Root Mean Squared Error per output: [0.50455303 0.6750459 ]. \n",
      "Testing model: XGBRegressor. Average Root Mean Squared Error per output: [0.48807406 0.68548074]. \n",
      "Testing model: XGBRegressor. Average Root Mean Squared Error per output: [0.5032827 0.6735676]. \n",
      "Testing model: XGBRegressor. Average Root Mean Squared Error per output: [0.48797761 0.68566809]. \n",
      "Testing model: XGBRegressor. Average Root Mean Squared Error per output: [0.55318463 0.3529956 ]. \n",
      "Testing model: XGBRegressor. Average Root Mean Squared Error per output: [0.55386591 0.40107719]. \n",
      "Testing model: XGBRegressor. Average Root Mean Squared Error per output: [0.40220089 1.11623282]. \n",
      "Testing model: XGBRegressor. Average Root Mean Squared Error per output: [0.55159434 0.34965464]. \n",
      "Testing model: XGBRegressor. Average Root Mean Squared Error per output: [0.55390983 0.4015089 ]. \n",
      "Testing model: XGBRegressor. Average Root Mean Squared Error per output: [0.32157558 1.11286151]. \n",
      "Testing model: XGBRegressor. Average Root Mean Squared Error per output: [0.32157332 1.11286151]. \n",
      "Testing model: XGBRegressor. Average Root Mean Squared Error per output: [0.39896876 1.1167076 ]. \n"
     ]
    },
    {
     "name": "stderr",
     "output_type": "stream",
     "text": []
    },
    {
     "name": "stdout",
     "output_type": "stream",
     "text": [
      "Testing model: RandomForestRegressor with hyperparameters: {'n_estimators': 50, 'max_depth': 10, 'min_samples_split': 2} and aggregate: ['mean', 'std', 'max', 'min']\n",
      "Testing model: RandomForestRegressor with hyperparameters: {'n_estimators': 50, 'max_depth': 10, 'min_samples_split': 5} and aggregate: ['mean', 'std', 'max', 'min']\n",
      "Testing model: RandomForestRegressor with hyperparameters: {'n_estimators': 50, 'max_depth': None, 'min_samples_split': 2} and aggregate: ['mean', 'std', 'max', 'min']\n",
      "Testing model: RandomForestRegressor with hyperparameters: {'n_estimators': 50, 'max_depth': None, 'min_samples_split': 5} and aggregate: ['mean', 'std', 'max', 'min']\n",
      "Testing model: RandomForestRegressor with hyperparameters: {'n_estimators': 100, 'max_depth': 10, 'min_samples_split': 2} and aggregate: ['mean', 'std', 'max', 'min']\n",
      "Testing model: RandomForestRegressor with hyperparameters: {'n_estimators': 100, 'max_depth': 10, 'min_samples_split': 5} and aggregate: ['mean', 'std', 'max', 'min']\n",
      "Testing model: RandomForestRegressor with hyperparameters: {'n_estimators': 100, 'max_depth': None, 'min_samples_split': 2} and aggregate: ['mean', 'std', 'max', 'min']\n",
      "Testing model: RandomForestRegressor with hyperparameters: {'n_estimators': 100, 'max_depth': None, 'min_samples_split': 5} and aggregate: ['mean', 'std', 'max', 'min']\n"
     ]
    },
    {
     "name": "stderr",
     "output_type": "stream",
     "text": []
    },
    {
     "name": "stdout",
     "output_type": "stream",
     "text": [
      "Testing model: RandomForestRegressor. Average Root Mean Squared Error per output: [0.45114282 0.6648252 ]. \n",
      "Testing model: RandomForestRegressor. Average Root Mean Squared Error per output: [0.45324089 0.66647713]. \n",
      "Testing model: RandomForestRegressor. Average Root Mean Squared Error per output: [0.45638521 0.66562022]. \n",
      "Testing model: RandomForestRegressor. Average Root Mean Squared Error per output: [0.46565363 0.66914854]. \n",
      "Testing model: RandomForestRegressor. Average Root Mean Squared Error per output: [0.45402175 0.66795789]. \n",
      "Testing model: RandomForestRegressor. Average Root Mean Squared Error per output: [0.46017961 0.66427138]. \n",
      "Testing model: RandomForestRegressor. Average Root Mean Squared Error per output: [0.46305461 0.66540696]. \n",
      "Testing model: RandomForestRegressor. Average Root Mean Squared Error per output: [0.4588731  0.66171217]. \n",
      "Testing model: RandomForestRegressor. Average Root Mean Squared Error per output: [0.60394295 0.61698181]. \n",
      "Testing model: RandomForestRegressor. Average Root Mean Squared Error per output: [0.60375058 0.59551502]. \n",
      "Testing model: RandomForestRegressor. Average Root Mean Squared Error per output: [0.60258687 0.67682729]. \n",
      "Testing model: RandomForestRegressor. Average Root Mean Squared Error per output: [0.6020537  0.61960026]. \n",
      "Testing model: RandomForestRegressor. Average Root Mean Squared Error per output: [0.1334379  0.64239399]. \n",
      "Testing model: RandomForestRegressor. Average Root Mean Squared Error per output: [0.13197493 0.64106312]. \n",
      "Testing model: RandomForestRegressor. Average Root Mean Squared Error per output: [0.13208021 0.64057966]. \n",
      "Testing model: RandomForestRegressor. Average Root Mean Squared Error per output: [0.60176204 0.61340358]. \n",
      "Testing model: RandomForestRegressor. Average Root Mean Squared Error per output: [0.13209043 0.64232195]. \n",
      "Testing model: RandomForestRegressor. Average Root Mean Squared Error per output: [0.60267562 0.66555457]. \n",
      "Testing model: RandomForestRegressor. Average Root Mean Squared Error per output: [0.60228296 0.64036178]. \n",
      "Testing model: RandomForestRegressor. Average Root Mean Squared Error per output: [0.60301448 0.6351026 ]. \n",
      "Testing model: RandomForestRegressor. Average Root Mean Squared Error per output: [0.13162965 0.6392231 ]. \n",
      "Testing model: RandomForestRegressor. Average Root Mean Squared Error per output: [0.13396826 0.63709508]. \n",
      "Testing model: RandomForestRegressor. Average Root Mean Squared Error per output: [0.1322711  0.63534357]. \n",
      "Testing model: RandomForestRegressor. Average Root Mean Squared Error per output: [0.13295861 0.63708705]. \n"
     ]
    },
    {
     "name": "stderr",
     "output_type": "stream",
     "text": []
    },
    {
     "name": "stdout",
     "output_type": "stream",
     "text": [
      "Testing model: XGBRegressor with hyperparameters: {'n_estimators': 50, 'max_depth': 6} and aggregate: ['mean', 'std', 'max', 'min']\n",
      "Testing model: XGBRegressor with hyperparameters: {'n_estimators': 50, 'max_depth': 10} and aggregate: ['mean', 'std', 'max', 'min']\n",
      "Testing model: XGBRegressor with hyperparameters: {'n_estimators': 100, 'max_depth': 6} and aggregate: ['mean', 'std', 'max', 'min']\n",
      "Testing model: XGBRegressor with hyperparameters: {'n_estimators': 100, 'max_depth': 10} and aggregate: ['mean', 'std', 'max', 'min']\n",
      "Testing model: XGBRegressor. Average Root Mean Squared Error per output: [0.62791481 0.76509037]. \n",
      "Testing model: XGBRegressor. Average Root Mean Squared Error per output: [0.62859354 0.76519829]. \n",
      "Testing model: XGBRegressor. Average Root Mean Squared Error per output: [0.63540637 0.6853408 ]. \n",
      "Testing model: XGBRegressor. Average Root Mean Squared Error per output: [0.63540066 0.68496558]. \n",
      "Testing model: XGBRegressor. Average Root Mean Squared Error per output: [0.62505968 0.41100074]. \n",
      "Testing model: XGBRegressor. Average Root Mean Squared Error per output: [0.62587523 0.41406799]. \n",
      "Testing model: XGBRegressor. Average Root Mean Squared Error per output: [0.63630547 0.3935937 ]. \n",
      "Testing model: XGBRegressor. Average Root Mean Squared Error per output: [0.63630547 0.39300569]. \n",
      "Testing model: XGBRegressor. Average Root Mean Squared Error per output: [0.55580617 0.89096617]. \n",
      "Testing model: XGBRegressor. Average Root Mean Squared Error per output: [0.55057126 0.92115591]. \n",
      "Testing model: XGBRegressor. Average Root Mean Squared Error per output: [0.55404933 0.88869213]. \n"
     ]
    },
    {
     "name": "stderr",
     "output_type": "stream",
     "text": [
      "Processing subject:  50%|\u001b[32m█████     \u001b[0m| 15/30 [8:43:53<8:41:14, 2084.98s/subject]"
     ]
    },
    {
     "name": "stdout",
     "output_type": "stream",
     "text": [
      "Testing model: XGBRegressor. Average Root Mean Squared Error per output: [0.55072075 0.92115591]. \n",
      "Processing video: 43\n"
     ]
    },
    {
     "name": "stderr",
     "output_type": "stream",
     "text": [
      "\n"
     ]
    },
    {
     "name": "stdout",
     "output_type": "stream",
     "text": [
      "Testing model: RandomForestRegressor with hyperparameters: {'n_estimators': 50, 'max_depth': 10, 'min_samples_split': 2} and aggregate: ['min']\n",
      "Testing model: RandomForestRegressor with hyperparameters: {'n_estimators': 50, 'max_depth': 10, 'min_samples_split': 5} and aggregate: ['min']\n",
      "Testing model: RandomForestRegressor with hyperparameters: {'n_estimators': 50, 'max_depth': None, 'min_samples_split': 2} and aggregate: ['min']\n",
      "Testing model: RandomForestRegressor with hyperparameters: {'n_estimators': 50, 'max_depth': None, 'min_samples_split': 5} and aggregate: ['min']\n",
      "Testing model: RandomForestRegressor with hyperparameters: {'n_estimators': 100, 'max_depth': 10, 'min_samples_split': 2} and aggregate: ['min']\n",
      "Testing model: RandomForestRegressor with hyperparameters: {'n_estimators': 100, 'max_depth': 10, 'min_samples_split': 5} and aggregate: ['min']\n",
      "Testing model: RandomForestRegressor with hyperparameters: {'n_estimators': 100, 'max_depth': None, 'min_samples_split': 2} and aggregate: ['min']\n",
      "Testing model: RandomForestRegressor with hyperparameters: {'n_estimators': 100, 'max_depth': None, 'min_samples_split': 5} and aggregate: ['min']\n"
     ]
    },
    {
     "name": "stderr",
     "output_type": "stream",
     "text": [
      "                                                                              \u001b[A"
     ]
    },
    {
     "name": "stdout",
     "output_type": "stream",
     "text": [
      "Testing model: RandomForestRegressor. Average Root Mean Squared Error per output: [1.93038512 0.58486223]. \n",
      "Testing model: RandomForestRegressor. Average Root Mean Squared Error per output: [1.92969685 0.58397408]. \n",
      "Testing model: RandomForestRegressor. Average Root Mean Squared Error per output: [1.91581828 0.58208299]. \n",
      "Testing model: RandomForestRegressor. Average Root Mean Squared Error per output: [1.92878972 0.58148563]. \n",
      "Testing model: RandomForestRegressor. Average Root Mean Squared Error per output: [1.92797189 0.58390188]. \n",
      "Testing model: RandomForestRegressor. Average Root Mean Squared Error per output: [1.92592889 0.58255568]. \n",
      "Testing model: RandomForestRegressor. Average Root Mean Squared Error per output: [1.37270928 1.48030235]. \n",
      "Testing model: RandomForestRegressor. Average Root Mean Squared Error per output: [1.37940661 1.48843263]. \n",
      "Testing model: RandomForestRegressor. Average Root Mean Squared Error per output: [1.91414825 0.5837753 ]. \n",
      "Testing model: RandomForestRegressor. Average Root Mean Squared Error per output: [1.38032324 1.48136593]. \n",
      "Testing model: RandomForestRegressor. Average Root Mean Squared Error per output: [1.92569769 0.58489   ]. \n",
      "Testing model: RandomForestRegressor. Average Root Mean Squared Error per output: [1.38703259 1.47108763]. \n",
      "Testing model: RandomForestRegressor. Average Root Mean Squared Error per output: [0.53297698 1.36764762]. \n",
      "Testing model: RandomForestRegressor. Average Root Mean Squared Error per output: [0.53302961 1.40404795]. \n",
      "Testing model: RandomForestRegressor. Average Root Mean Squared Error per output: [0.53191978 1.39581552]. \n",
      "Testing model: RandomForestRegressor. Average Root Mean Squared Error per output: [0.53067494 1.40545198]. \n",
      "Testing model: RandomForestRegressor. Average Root Mean Squared Error per output: [1.37945746 1.48147959]. \n",
      "Testing model: RandomForestRegressor. Average Root Mean Squared Error per output: [1.38004456 1.48135713]. \n",
      "Testing model: RandomForestRegressor. Average Root Mean Squared Error per output: [1.37941999 1.48729714]. \n",
      "Testing model: RandomForestRegressor. Average Root Mean Squared Error per output: [1.38031686 1.48348579]. \n",
      "Testing model: RandomForestRegressor. Average Root Mean Squared Error per output: [0.52409124 1.39926575]. \n",
      "Testing model: RandomForestRegressor. Average Root Mean Squared Error per output: [0.53654038 1.40012269]. \n",
      "Testing model: RandomForestRegressor. Average Root Mean Squared Error per output: [0.53215304 1.38868122]. \n",
      "Testing model: RandomForestRegressor. Average Root Mean Squared Error per output: [0.52988617 1.38870699]. \n"
     ]
    },
    {
     "name": "stderr",
     "output_type": "stream",
     "text": []
    },
    {
     "name": "stdout",
     "output_type": "stream",
     "text": [
      "Testing model: XGBRegressor with hyperparameters: {'n_estimators': 50, 'max_depth': 6} and aggregate: ['min']\n",
      "Testing model: XGBRegressor with hyperparameters: {'n_estimators': 50, 'max_depth': 10} and aggregate: ['min']\n",
      "Testing model: XGBRegressor with hyperparameters: {'n_estimators': 100, 'max_depth': 6} and aggregate: ['min']\n",
      "Testing model: XGBRegressor with hyperparameters: {'n_estimators': 100, 'max_depth': 10} and aggregate: ['min']\n",
      "Testing model: XGBRegressor. Average Root Mean Squared Error per output: [1.72839234 0.57276819]. \n",
      "Testing model: XGBRegressor. Average Root Mean Squared Error per output: [1.7846029  0.58223204]. \n",
      "Testing model: XGBRegressor. Average Root Mean Squared Error per output: [1.74060351 0.56993881]. \n",
      "Testing model: XGBRegressor. Average Root Mean Squared Error per output: [1.46366343 1.3135993 ]. \n",
      "Testing model: XGBRegressor. Average Root Mean Squared Error per output: [1.79014666 0.58091747]. \n",
      "Testing model: XGBRegressor. Average Root Mean Squared Error per output: [1.4662156  1.37750541]. \n",
      "Testing model: XGBRegressor. Average Root Mean Squared Error per output: [0.51236167 1.3881627 ]. \n",
      "Testing model: XGBRegressor. Average Root Mean Squared Error per output: [1.46160966 1.31436924]. \n",
      "Testing model: XGBRegressor. Average Root Mean Squared Error per output: [0.48981614 1.38995541]. \n",
      "Testing model: XGBRegressor. Average Root Mean Squared Error per output: [1.46677741 1.37771915]. \n",
      "Testing model: XGBRegressor. Average Root Mean Squared Error per output: [0.50912202 1.38586488]. \n",
      "Testing model: XGBRegressor. Average Root Mean Squared Error per output: [0.48959747 1.39028636]. \n"
     ]
    },
    {
     "name": "stderr",
     "output_type": "stream",
     "text": []
    },
    {
     "name": "stdout",
     "output_type": "stream",
     "text": [
      "Testing model: RandomForestRegressor with hyperparameters: {'n_estimators': 50, 'max_depth': 10, 'min_samples_split': 2} and aggregate: ['mean', 'std', 'max', 'min']\n",
      "Testing model: RandomForestRegressor with hyperparameters: {'n_estimators': 50, 'max_depth': 10, 'min_samples_split': 5} and aggregate: ['mean', 'std', 'max', 'min']\n",
      "Testing model: RandomForestRegressor with hyperparameters: {'n_estimators': 50, 'max_depth': None, 'min_samples_split': 2} and aggregate: ['mean', 'std', 'max', 'min']\n",
      "Testing model: RandomForestRegressor with hyperparameters: {'n_estimators': 50, 'max_depth': None, 'min_samples_split': 5} and aggregate: ['mean', 'std', 'max', 'min']\n",
      "Testing model: RandomForestRegressor with hyperparameters: {'n_estimators': 100, 'max_depth': 10, 'min_samples_split': 2} and aggregate: ['mean', 'std', 'max', 'min']\n",
      "Testing model: RandomForestRegressor with hyperparameters: {'n_estimators': 100, 'max_depth': 10, 'min_samples_split': 5} and aggregate: ['mean', 'std', 'max', 'min']\n",
      "Testing model: RandomForestRegressor with hyperparameters: {'n_estimators': 100, 'max_depth': None, 'min_samples_split': 2} and aggregate: ['mean', 'std', 'max', 'min']\n",
      "Testing model: RandomForestRegressor with hyperparameters: {'n_estimators': 100, 'max_depth': None, 'min_samples_split': 5} and aggregate: ['mean', 'std', 'max', 'min']\n"
     ]
    },
    {
     "name": "stderr",
     "output_type": "stream",
     "text": []
    },
    {
     "name": "stdout",
     "output_type": "stream",
     "text": [
      "Testing model: RandomForestRegressor. Average Root Mean Squared Error per output: [1.78685029 0.62443176]. \n",
      "Testing model: RandomForestRegressor. Average Root Mean Squared Error per output: [1.81861442 0.62126517]. \n",
      "Testing model: RandomForestRegressor. Average Root Mean Squared Error per output: [1.80428511 0.62263281]. \n",
      "Testing model: RandomForestRegressor. Average Root Mean Squared Error per output: [1.8140765  0.62077121]. \n",
      "Testing model: RandomForestRegressor. Average Root Mean Squared Error per output: [1.77374163 0.62501854]. \n",
      "Testing model: RandomForestRegressor. Average Root Mean Squared Error per output: [1.43080468 1.12534299]. \n",
      "Testing model: RandomForestRegressor. Average Root Mean Squared Error per output: [1.79607977 0.61864563]. \n",
      "Testing model: RandomForestRegressor. Average Root Mean Squared Error per output: [1.81779829 0.62014231]. \n",
      "Testing model: RandomForestRegressor. Average Root Mean Squared Error per output: [1.4289014  1.14097572]. \n",
      "Testing model: RandomForestRegressor. Average Root Mean Squared Error per output: [1.79145697 0.62149893]. \n",
      "Testing model: RandomForestRegressor. Average Root Mean Squared Error per output: [1.43198771 1.11945924]. \n",
      "Testing model: RandomForestRegressor. Average Root Mean Squared Error per output: [1.43133506 1.11404355]. \n",
      "Testing model: RandomForestRegressor. Average Root Mean Squared Error per output: [0.50806546 0.65335062]. \n",
      "Testing model: RandomForestRegressor. Average Root Mean Squared Error per output: [1.43101934 1.11666362]. \n",
      "Testing model: RandomForestRegressor. Average Root Mean Squared Error per output: [0.50439591 0.66794761]. \n",
      "Testing model: RandomForestRegressor. Average Root Mean Squared Error per output: [1.42946433 1.13161207]. \n",
      "Testing model: RandomForestRegressor. Average Root Mean Squared Error per output: [0.49820307 0.67307729]. \n",
      "Testing model: RandomForestRegressor. Average Root Mean Squared Error per output: [0.51050531 0.66369311]. \n",
      "Testing model: RandomForestRegressor. Average Root Mean Squared Error per output: [1.43124688 1.10622667]. \n",
      "Testing model: RandomForestRegressor. Average Root Mean Squared Error per output: [0.50166738 0.66719429]. \n",
      "Testing model: RandomForestRegressor. Average Root Mean Squared Error per output: [1.4297615  1.10778558]. \n",
      "Testing model: RandomForestRegressor. Average Root Mean Squared Error per output: [0.50045898 0.68958039]. \n",
      "Testing model: RandomForestRegressor. Average Root Mean Squared Error per output: [0.50818628 0.70483312]. \n",
      "Testing model: RandomForestRegressor. Average Root Mean Squared Error per output: [0.50057016 0.64585132]. \n"
     ]
    },
    {
     "name": "stderr",
     "output_type": "stream",
     "text": []
    },
    {
     "name": "stdout",
     "output_type": "stream",
     "text": [
      "Testing model: XGBRegressor with hyperparameters: {'n_estimators': 50, 'max_depth': 6} and aggregate: ['mean', 'std', 'max', 'min']\n",
      "Testing model: XGBRegressor with hyperparameters: {'n_estimators': 50, 'max_depth': 10} and aggregate: ['mean', 'std', 'max', 'min']\n",
      "Testing model: XGBRegressor with hyperparameters: {'n_estimators': 100, 'max_depth': 6} and aggregate: ['mean', 'std', 'max', 'min']\n",
      "Testing model: XGBRegressor with hyperparameters: {'n_estimators': 100, 'max_depth': 10} and aggregate: ['mean', 'std', 'max', 'min']\n",
      "Testing model: XGBRegressor. Average Root Mean Squared Error per output: [2.00456415 0.60336386]. \n",
      "Testing model: XGBRegressor. Average Root Mean Squared Error per output: [2.00422231 0.60254361]. \n",
      "Testing model: XGBRegressor. Average Root Mean Squared Error per output: [2.05463025 0.59496992]. \n",
      "Testing model: XGBRegressor. Average Root Mean Squared Error per output: [2.0583711  0.59508605]. \n",
      "Testing model: XGBRegressor. Average Root Mean Squared Error per output: [1.24664816 1.30598854]. \n",
      "Testing model: XGBRegressor. Average Root Mean Squared Error per output: [1.20388523 1.3259022 ]. \n",
      "Testing model: XGBRegressor. Average Root Mean Squared Error per output: [1.24687948 1.3126792 ]. \n",
      "Testing model: XGBRegressor. Average Root Mean Squared Error per output: [1.2037362  1.32625901]. \n",
      "Testing model: XGBRegressor. Average Root Mean Squared Error per output: [0.51290097 0.57682224]. \n",
      "Testing model: XGBRegressor. Average Root Mean Squared Error per output: [0.60276722 0.58234813]. \n",
      "Testing model: XGBRegressor. Average Root Mean Squared Error per output: [0.51463199 0.5763179 ]. \n"
     ]
    },
    {
     "name": "stderr",
     "output_type": "stream",
     "text": [
      "Processing subject:  53%|\u001b[32m█████▎    \u001b[0m| 16/30 [9:19:23<8:09:37, 2098.43s/subject]"
     ]
    },
    {
     "name": "stdout",
     "output_type": "stream",
     "text": [
      "Testing model: XGBRegressor. Average Root Mean Squared Error per output: [0.60268628 0.58235722]. \n",
      "Processing video: 22\n"
     ]
    },
    {
     "name": "stderr",
     "output_type": "stream",
     "text": []
    },
    {
     "name": "stdout",
     "output_type": "stream",
     "text": [
      "Testing model: RandomForestRegressor with hyperparameters: {'n_estimators': 50, 'max_depth': 10, 'min_samples_split': 2} and aggregate: ['min']\n",
      "Testing model: RandomForestRegressor with hyperparameters: {'n_estimators': 50, 'max_depth': 10, 'min_samples_split': 5} and aggregate: ['min']\n",
      "Testing model: RandomForestRegressor with hyperparameters: {'n_estimators': 50, 'max_depth': None, 'min_samples_split': 2} and aggregate: ['min']\n",
      "Testing model: RandomForestRegressor with hyperparameters: {'n_estimators': 50, 'max_depth': None, 'min_samples_split': 5} and aggregate: ['min']\n",
      "Testing model: RandomForestRegressor with hyperparameters: {'n_estimators': 100, 'max_depth': 10, 'min_samples_split': 2} and aggregate: ['min']\n",
      "Testing model: RandomForestRegressor with hyperparameters: {'n_estimators': 100, 'max_depth': 10, 'min_samples_split': 5} and aggregate: ['min']\n",
      "Testing model: RandomForestRegressor with hyperparameters: {'n_estimators': 100, 'max_depth': None, 'min_samples_split': 2} and aggregate: ['min']\n",
      "Testing model: RandomForestRegressor with hyperparameters: {'n_estimators': 100, 'max_depth': None, 'min_samples_split': 5} and aggregate: ['min']\n",
      "Testing model: RandomForestRegressor. Average Root Mean Squared Error per output: [1.34908579 2.74208072]. \n",
      "Testing model: RandomForestRegressor. Average Root Mean Squared Error per output: [1.34590107 2.75229002]. \n",
      "Testing model: RandomForestRegressor. Average Root Mean Squared Error per output: [1.34679276 2.76602293]. \n",
      "Testing model: RandomForestRegressor. Average Root Mean Squared Error per output: [1.34844501 2.72744555]. \n",
      "Testing model: RandomForestRegressor. Average Root Mean Squared Error per output: [1.34753761 2.76499689]. \n",
      "Testing model: RandomForestRegressor. Average Root Mean Squared Error per output: [1.04105122 2.8343739 ]. \n",
      "Testing model: RandomForestRegressor. Average Root Mean Squared Error per output: [1.00573593 2.80168737]. \n",
      "Testing model: RandomForestRegressor. Average Root Mean Squared Error per output: [1.34714751 2.75248996]. \n",
      "Testing model: RandomForestRegressor. Average Root Mean Squared Error per output: [1.01097744 2.8062952 ]. \n",
      "Testing model: RandomForestRegressor. Average Root Mean Squared Error per output: [1.34809929 2.75579433]. \n",
      "Testing model: RandomForestRegressor. Average Root Mean Squared Error per output: [1.34750146 2.76337275]. \n",
      "Testing model: RandomForestRegressor. Average Root Mean Squared Error per output: [1.00215191 2.8108466 ]. \n",
      "Testing model: RandomForestRegressor. Average Root Mean Squared Error per output: [1.08015221 1.17746333]. \n",
      "Testing model: RandomForestRegressor. Average Root Mean Squared Error per output: [1.071043   1.19320586]. \n",
      "Testing model: RandomForestRegressor. Average Root Mean Squared Error per output: [1.07325047 1.21921365]. \n",
      "Testing model: RandomForestRegressor. Average Root Mean Squared Error per output: [1.05775958 1.21476046]. \n",
      "Testing model: RandomForestRegressor. Average Root Mean Squared Error per output: [1.04783777 2.81642526]. \n",
      "Testing model: RandomForestRegressor. Average Root Mean Squared Error per output: [1.08930293 2.79219639]. \n",
      "Testing model: RandomForestRegressor. Average Root Mean Squared Error per output: [1.04064403 2.78151584]. \n",
      "Testing model: RandomForestRegressor. Average Root Mean Squared Error per output: [1.04251263 2.83780916]. \n",
      "Testing model: RandomForestRegressor. Average Root Mean Squared Error per output: [1.07360174 1.18245414]. \n",
      "Testing model: RandomForestRegressor. Average Root Mean Squared Error per output: [1.05634175 1.21513078]. \n",
      "Testing model: RandomForestRegressor. Average Root Mean Squared Error per output: [1.08224629 1.1929598 ]. \n",
      "Testing model: RandomForestRegressor. Average Root Mean Squared Error per output: [1.08573591 1.26126588]. \n"
     ]
    },
    {
     "name": "stderr",
     "output_type": "stream",
     "text": []
    },
    {
     "name": "stdout",
     "output_type": "stream",
     "text": [
      "Testing model: XGBRegressor with hyperparameters: {'n_estimators': 50, 'max_depth': 6} and aggregate: ['min']\n",
      "Testing model: XGBRegressor with hyperparameters: {'n_estimators': 50, 'max_depth': 10} and aggregate: ['min']\n",
      "Testing model: XGBRegressor with hyperparameters: {'n_estimators': 100, 'max_depth': 6} and aggregate: ['min']\n",
      "Testing model: XGBRegressor with hyperparameters: {'n_estimators': 100, 'max_depth': 10} and aggregate: ['min']\n",
      "Testing model: XGBRegressor. Average Root Mean Squared Error per output: [1.37490752 2.67450933]. \n",
      "Testing model: XGBRegressor. Average Root Mean Squared Error per output: [1.38267322 2.6956979 ]. \n",
      "Testing model: XGBRegressor. Average Root Mean Squared Error per output: [1.38267322 2.6956979 ]. \n",
      "Testing model: XGBRegressor. Average Root Mean Squared Error per output: [1.37538426 2.65973755]. \n",
      "Testing model: XGBRegressor. Average Root Mean Squared Error per output: [1.13294001 2.95668618]. \n",
      "Testing model: XGBRegressor. Average Root Mean Squared Error per output: [1.11362445 2.9604915 ]. \n",
      "Testing model: XGBRegressor. Average Root Mean Squared Error per output: [1.11362625 2.9604915 ]. \n",
      "Testing model: XGBRegressor. Average Root Mean Squared Error per output: [0.66342421 1.55813129]. \n",
      "Testing model: XGBRegressor. Average Root Mean Squared Error per output: [1.1364609 2.9561726]. \n",
      "Testing model: XGBRegressor. Average Root Mean Squared Error per output: [0.68239967 1.55219752]. \n",
      "Testing model: XGBRegressor. Average Root Mean Squared Error per output: [0.68239894 1.55219752]. \n",
      "Testing model: XGBRegressor. Average Root Mean Squared Error per output: [0.6662568  1.55334033]. \n"
     ]
    },
    {
     "name": "stderr",
     "output_type": "stream",
     "text": []
    },
    {
     "name": "stdout",
     "output_type": "stream",
     "text": [
      "Testing model: RandomForestRegressor with hyperparameters: {'n_estimators': 50, 'max_depth': 10, 'min_samples_split': 2} and aggregate: ['mean', 'std', 'max', 'min']\n",
      "Testing model: RandomForestRegressor with hyperparameters: {'n_estimators': 50, 'max_depth': 10, 'min_samples_split': 5} and aggregate: ['mean', 'std', 'max', 'min']\n",
      "Testing model: RandomForestRegressor with hyperparameters: {'n_estimators': 50, 'max_depth': None, 'min_samples_split': 2} and aggregate: ['mean', 'std', 'max', 'min']\n",
      "Testing model: RandomForestRegressor with hyperparameters: {'n_estimators': 50, 'max_depth': None, 'min_samples_split': 5} and aggregate: ['mean', 'std', 'max', 'min']\n",
      "Testing model: RandomForestRegressor with hyperparameters: {'n_estimators': 100, 'max_depth': 10, 'min_samples_split': 2} and aggregate: ['mean', 'std', 'max', 'min']\n",
      "Testing model: RandomForestRegressor with hyperparameters: {'n_estimators': 100, 'max_depth': 10, 'min_samples_split': 5} and aggregate: ['mean', 'std', 'max', 'min']\n",
      "Testing model: RandomForestRegressor with hyperparameters: {'n_estimators': 100, 'max_depth': None, 'min_samples_split': 2} and aggregate: ['mean', 'std', 'max', 'min']\n",
      "Testing model: RandomForestRegressor with hyperparameters: {'n_estimators': 100, 'max_depth': None, 'min_samples_split': 5} and aggregate: ['mean', 'std', 'max', 'min']\n",
      "Testing model: RandomForestRegressor. Average Root Mean Squared Error per output: [1.25404395 2.79912141]. \n",
      "Testing model: RandomForestRegressor. Average Root Mean Squared Error per output: [1.24510098 2.79558709]. \n",
      "Testing model: RandomForestRegressor. Average Root Mean Squared Error per output: [1.26815454 2.83563813]. \n",
      "Testing model: RandomForestRegressor. Average Root Mean Squared Error per output: [1.26151673 2.83923169]. \n",
      "Testing model: RandomForestRegressor. Average Root Mean Squared Error per output: [1.25707009 2.8145817 ]. \n",
      "Testing model: RandomForestRegressor. Average Root Mean Squared Error per output: [1.26110486 2.82338247]. \n",
      "Testing model: RandomForestRegressor. Average Root Mean Squared Error per output: [1.41911679 2.95176347]. \n",
      "Testing model: RandomForestRegressor. Average Root Mean Squared Error per output: [1.25605483 2.79914448]. \n",
      "Testing model: RandomForestRegressor. Average Root Mean Squared Error per output: [1.25846419 2.83482443]. \n",
      "Testing model: RandomForestRegressor. Average Root Mean Squared Error per output: [1.4133287  2.94060376]. \n",
      "Testing model: RandomForestRegressor. Average Root Mean Squared Error per output: [1.40573787 2.96460994]. \n",
      "Testing model: RandomForestRegressor. Average Root Mean Squared Error per output: [1.41666914 2.9524928 ]. \n",
      "Testing model: RandomForestRegressor. Average Root Mean Squared Error per output: [0.99827274 1.7440731 ]. \n",
      "Testing model: RandomForestRegressor. Average Root Mean Squared Error per output: [0.98869987 1.7458982 ]. \n",
      "Testing model: RandomForestRegressor. Average Root Mean Squared Error per output: [1.40626598 2.93297546]. \n",
      "Testing model: RandomForestRegressor. Average Root Mean Squared Error per output: [0.97693352 1.74768717]. \n",
      "Testing model: RandomForestRegressor. Average Root Mean Squared Error per output: [0.99090112 1.74383723]. \n",
      "Testing model: RandomForestRegressor. Average Root Mean Squared Error per output: [1.40841529 2.93408036]. \n",
      "Testing model: RandomForestRegressor. Average Root Mean Squared Error per output: [1.41609228 2.94950469]. \n",
      "Testing model: RandomForestRegressor. Average Root Mean Squared Error per output: [1.4107333  2.93695036]. \n",
      "Testing model: RandomForestRegressor. Average Root Mean Squared Error per output: [1.0230512  1.74191588]. \n",
      "Testing model: RandomForestRegressor. Average Root Mean Squared Error per output: [0.9856808  1.74437846]. \n",
      "Testing model: RandomForestRegressor. Average Root Mean Squared Error per output: [0.9848402  1.74759004]. \n",
      "Testing model: RandomForestRegressor. Average Root Mean Squared Error per output: [0.98335416 1.74987864]. \n"
     ]
    },
    {
     "name": "stderr",
     "output_type": "stream",
     "text": []
    },
    {
     "name": "stdout",
     "output_type": "stream",
     "text": [
      "Testing model: XGBRegressor with hyperparameters: {'n_estimators': 50, 'max_depth': 6} and aggregate: ['mean', 'std', 'max', 'min']\n",
      "Testing model: XGBRegressor with hyperparameters: {'n_estimators': 50, 'max_depth': 10} and aggregate: ['mean', 'std', 'max', 'min']\n",
      "Testing model: XGBRegressor with hyperparameters: {'n_estimators': 100, 'max_depth': 6} and aggregate: ['mean', 'std', 'max', 'min']\n",
      "Testing model: XGBRegressor with hyperparameters: {'n_estimators': 100, 'max_depth': 10} and aggregate: ['mean', 'std', 'max', 'min']\n",
      "Testing model: XGBRegressor. Average Root Mean Squared Error per output: [1.27949455 2.90323447]. \n",
      "Testing model: XGBRegressor. Average Root Mean Squared Error per output: [1.30616201 2.90465386]. \n",
      "Testing model: XGBRegressor. Average Root Mean Squared Error per output: [1.30619046 2.90465386]. \n",
      "Testing model: XGBRegressor. Average Root Mean Squared Error per output: [1.28114596 2.90199506]. \n",
      "Testing model: XGBRegressor. Average Root Mean Squared Error per output: [1.56425026 3.12002337]. \n",
      "Testing model: XGBRegressor. Average Root Mean Squared Error per output: [1.55935102 3.12513173]. \n",
      "Testing model: XGBRegressor. Average Root Mean Squared Error per output: [1.55935079 3.12513063]. \n",
      "Testing model: XGBRegressor. Average Root Mean Squared Error per output: [1.56505052 3.11951926]. \n",
      "Testing model: XGBRegressor. Average Root Mean Squared Error per output: [1.21268139 1.6409395 ]. \n",
      "Testing model: XGBRegressor. Average Root Mean Squared Error per output: [1.31802509 1.6468002 ]. \n",
      "Testing model: XGBRegressor. Average Root Mean Squared Error per output: [1.31777997 1.6468002 ]. \n"
     ]
    },
    {
     "name": "stderr",
     "output_type": "stream",
     "text": [
      "Processing subject:  57%|\u001b[32m█████▋    \u001b[0m| 17/30 [9:54:13<7:34:07, 2095.95s/subject]"
     ]
    },
    {
     "name": "stdout",
     "output_type": "stream",
     "text": [
      "Testing model: XGBRegressor. Average Root Mean Squared Error per output: [1.21139921 1.63977832]. \n",
      "Processing video: 30\n"
     ]
    },
    {
     "name": "stderr",
     "output_type": "stream",
     "text": [
      "\n",
      "                                                                              "
     ]
    },
    {
     "name": "stdout",
     "output_type": "stream",
     "text": [
      "Testing model: RandomForestRegressor with hyperparameters: {'n_estimators': 50, 'max_depth': 10, 'min_samples_split': 2} and aggregate: ['min']\n",
      "Testing model: RandomForestRegressor with hyperparameters: {'n_estimators': 50, 'max_depth': 10, 'min_samples_split': 5} and aggregate: ['min']\n",
      "Testing model: RandomForestRegressor with hyperparameters: {'n_estimators': 50, 'max_depth': None, 'min_samples_split': 2} and aggregate: ['min']\n",
      "Testing model: RandomForestRegressor with hyperparameters: {'n_estimators': 50, 'max_depth': None, 'min_samples_split': 5} and aggregate: ['min']\n",
      "Testing model: RandomForestRegressor with hyperparameters: {'n_estimators': 100, 'max_depth': 10, 'min_samples_split': 2} and aggregate: ['min']\n",
      "Testing model: RandomForestRegressor with hyperparameters: {'n_estimators': 100, 'max_depth': 10, 'min_samples_split': 5} and aggregate: ['min']\n",
      "Testing model: RandomForestRegressor with hyperparameters: {'n_estimators': 100, 'max_depth': None, 'min_samples_split': 2} and aggregate: ['min']\n",
      "Testing model: RandomForestRegressor with hyperparameters: {'n_estimators': 100, 'max_depth': None, 'min_samples_split': 5} and aggregate: ['min']\n"
     ]
    },
    {
     "name": "stderr",
     "output_type": "stream",
     "text": [
      "\u001b[A"
     ]
    },
    {
     "name": "stdout",
     "output_type": "stream",
     "text": [
      "Testing model: RandomForestRegressor. Average Root Mean Squared Error per output: [2.65067184 1.15400387]. \n",
      "Testing model: RandomForestRegressor. Average Root Mean Squared Error per output: [2.65850177 1.09765141]. \n",
      "Testing model: RandomForestRegressor. Average Root Mean Squared Error per output: [2.64127696 1.14890474]. \n",
      "Testing model: RandomForestRegressor. Average Root Mean Squared Error per output: [2.64941464 1.22504084]. \n",
      "Testing model: RandomForestRegressor. Average Root Mean Squared Error per output: [2.65700245 1.15290563]. \n",
      "Testing model: RandomForestRegressor. Average Root Mean Squared Error per output: [2.64940854 1.17476984]. \n",
      "Testing model: RandomForestRegressor. Average Root Mean Squared Error per output: [1.64580922 0.59783718]. \n",
      "Testing model: RandomForestRegressor. Average Root Mean Squared Error per output: [1.64279522 0.60586361]. \n",
      "Testing model: RandomForestRegressor. Average Root Mean Squared Error per output: [2.6458858 1.1787581]. \n",
      "Testing model: RandomForestRegressor. Average Root Mean Squared Error per output: [2.64797089 1.14242157]. \n",
      "Testing model: RandomForestRegressor. Average Root Mean Squared Error per output: [1.5370996  0.59301701]. \n",
      "Testing model: RandomForestRegressor. Average Root Mean Squared Error per output: [1.64120929 0.60379339]. \n",
      "Testing model: RandomForestRegressor. Average Root Mean Squared Error per output: [1.10786575 1.89886315]. \n",
      "Testing model: RandomForestRegressor. Average Root Mean Squared Error per output: [1.25185369 1.8917392 ]. \n",
      "Testing model: RandomForestRegressor. Average Root Mean Squared Error per output: [1.25581712 1.90621242]. \n",
      "Testing model: RandomForestRegressor. Average Root Mean Squared Error per output: [1.18758549 1.89590593]. \n",
      "Testing model: RandomForestRegressor. Average Root Mean Squared Error per output: [1.58667019 0.59292973]. \n",
      "Testing model: RandomForestRegressor. Average Root Mean Squared Error per output: [1.61100614 0.5978678 ]. \n",
      "Testing model: RandomForestRegressor. Average Root Mean Squared Error per output: [1.60118734 0.60141471]. \n",
      "Testing model: RandomForestRegressor. Average Root Mean Squared Error per output: [1.6432746  0.59328909]. \n",
      "Testing model: RandomForestRegressor. Average Root Mean Squared Error per output: [1.14566611 1.88937339]. \n",
      "Testing model: RandomForestRegressor. Average Root Mean Squared Error per output: [1.14276027 1.91765674]. \n",
      "Testing model: RandomForestRegressor. Average Root Mean Squared Error per output: [1.12543105 1.91053347]. \n",
      "Testing model: RandomForestRegressor. Average Root Mean Squared Error per output: [1.13103211 1.89525572]. \n"
     ]
    },
    {
     "name": "stderr",
     "output_type": "stream",
     "text": []
    },
    {
     "name": "stdout",
     "output_type": "stream",
     "text": [
      "Testing model: XGBRegressor with hyperparameters: {'n_estimators': 50, 'max_depth': 6} and aggregate: ['min']\n",
      "Testing model: XGBRegressor with hyperparameters: {'n_estimators': 50, 'max_depth': 10} and aggregate: ['min']\n",
      "Testing model: XGBRegressor with hyperparameters: {'n_estimators': 100, 'max_depth': 6} and aggregate: ['min']\n",
      "Testing model: XGBRegressor with hyperparameters: {'n_estimators': 100, 'max_depth': 10} and aggregate: ['min']\n",
      "Testing model: XGBRegressor. Average Root Mean Squared Error per output: [2.61153967 0.71721592]. \n",
      "Testing model: XGBRegressor. Average Root Mean Squared Error per output: [2.62090775 0.86056964]. \n",
      "Testing model: XGBRegressor. Average Root Mean Squared Error per output: [2.6209094  0.86056964]. \n",
      "Testing model: XGBRegressor. Average Root Mean Squared Error per output: [2.61765057 0.72091751]. \n",
      "Testing model: XGBRegressor. Average Root Mean Squared Error per output: [3.18322717 0.62941572]. \n",
      "Testing model: XGBRegressor. Average Root Mean Squared Error per output: [3.1884139 0.6462401]. \n",
      "Testing model: XGBRegressor. Average Root Mean Squared Error per output: [1.34420533 2.40018932]. \n",
      "Testing model: XGBRegressor. Average Root Mean Squared Error per output: [3.18811295 0.64617768]. \n",
      "Testing model: XGBRegressor. Average Root Mean Squared Error per output: [3.18463675 0.62989589]. \n",
      "Testing model: XGBRegressor. Average Root Mean Squared Error per output: [1.34956613 2.385662  ]. \n",
      "Testing model: XGBRegressor. Average Root Mean Squared Error per output: [1.34956613 2.385662  ]. \n",
      "Testing model: XGBRegressor. Average Root Mean Squared Error per output: [1.34278476 2.39721183]. \n"
     ]
    },
    {
     "name": "stderr",
     "output_type": "stream",
     "text": []
    },
    {
     "name": "stdout",
     "output_type": "stream",
     "text": [
      "Testing model: RandomForestRegressor with hyperparameters: {'n_estimators': 50, 'max_depth': 10, 'min_samples_split': 2} and aggregate: ['mean', 'std', 'max', 'min']\n",
      "Testing model: RandomForestRegressor with hyperparameters: {'n_estimators': 50, 'max_depth': 10, 'min_samples_split': 5} and aggregate: ['mean', 'std', 'max', 'min']\n",
      "Testing model: RandomForestRegressor with hyperparameters: {'n_estimators': 50, 'max_depth': None, 'min_samples_split': 2} and aggregate: ['mean', 'std', 'max', 'min']\n",
      "Testing model: RandomForestRegressor with hyperparameters: {'n_estimators': 50, 'max_depth': None, 'min_samples_split': 5} and aggregate: ['mean', 'std', 'max', 'min']\n",
      "Testing model: RandomForestRegressor with hyperparameters: {'n_estimators': 100, 'max_depth': 10, 'min_samples_split': 2} and aggregate: ['mean', 'std', 'max', 'min']\n",
      "Testing model: RandomForestRegressor with hyperparameters: {'n_estimators': 100, 'max_depth': 10, 'min_samples_split': 5} and aggregate: ['mean', 'std', 'max', 'min']\n",
      "Testing model: RandomForestRegressor with hyperparameters: {'n_estimators': 100, 'max_depth': None, 'min_samples_split': 2} and aggregate: ['mean', 'std', 'max', 'min']\n",
      "Testing model: RandomForestRegressor with hyperparameters: {'n_estimators': 100, 'max_depth': None, 'min_samples_split': 5} and aggregate: ['mean', 'std', 'max', 'min']\n"
     ]
    },
    {
     "name": "stderr",
     "output_type": "stream",
     "text": []
    },
    {
     "name": "stdout",
     "output_type": "stream",
     "text": [
      "Testing model: RandomForestRegressor. Average Root Mean Squared Error per output: [2.70769479 2.03149597]. \n",
      "Testing model: RandomForestRegressor. Average Root Mean Squared Error per output: [2.70251748 1.94188164]. \n",
      "Testing model: RandomForestRegressor. Average Root Mean Squared Error per output: [2.7227525  2.07528641]. \n",
      "Testing model: RandomForestRegressor. Average Root Mean Squared Error per output: [2.69088652 1.97277406]. \n",
      "Testing model: RandomForestRegressor. Average Root Mean Squared Error per output: [2.70521594 2.00381402]. \n",
      "Testing model: RandomForestRegressor. Average Root Mean Squared Error per output: [2.69811568 2.02529314]. \n",
      "Testing model: RandomForestRegressor. Average Root Mean Squared Error per output: [1.49874754 1.11264831]. \n",
      "Testing model: RandomForestRegressor. Average Root Mean Squared Error per output: [2.69321456 2.02255376]. \n",
      "Testing model: RandomForestRegressor. Average Root Mean Squared Error per output: [2.71215984 2.03277542]. \n",
      "Testing model: RandomForestRegressor. Average Root Mean Squared Error per output: [1.47650324 1.10304909]. \n",
      "Testing model: RandomForestRegressor. Average Root Mean Squared Error per output: [1.49605613 1.12248893]. \n",
      "Testing model: RandomForestRegressor. Average Root Mean Squared Error per output: [1.50822302 1.11669438]. \n",
      "Testing model: RandomForestRegressor. Average Root Mean Squared Error per output: [0.95574131 1.77202241]. \n",
      "Testing model: RandomForestRegressor. Average Root Mean Squared Error per output: [1.50705156 1.13994753]. \n",
      "Testing model: RandomForestRegressor. Average Root Mean Squared Error per output: [1.04055869 1.80679937]. \n",
      "Testing model: RandomForestRegressor. Average Root Mean Squared Error per output: [1.48643198 1.1177926 ]. \n",
      "Testing model: RandomForestRegressor. Average Root Mean Squared Error per output: [1.01854376 1.79709869]. \n",
      "Testing model: RandomForestRegressor. Average Root Mean Squared Error per output: [0.9786758  1.78177896]. \n",
      "Testing model: RandomForestRegressor. Average Root Mean Squared Error per output: [1.44179395 1.11336551]. \n",
      "Testing model: RandomForestRegressor. Average Root Mean Squared Error per output: [0.89536734 1.81546923]. \n",
      "Testing model: RandomForestRegressor. Average Root Mean Squared Error per output: [1.50706932 1.10358144]. \n",
      "Testing model: RandomForestRegressor. Average Root Mean Squared Error per output: [0.95365536 1.80514667]. \n",
      "Testing model: RandomForestRegressor. Average Root Mean Squared Error per output: [0.93581068 1.80035811]. \n",
      "Testing model: RandomForestRegressor. Average Root Mean Squared Error per output: [0.95456778 1.81052842]. \n"
     ]
    },
    {
     "name": "stderr",
     "output_type": "stream",
     "text": []
    },
    {
     "name": "stdout",
     "output_type": "stream",
     "text": [
      "Testing model: XGBRegressor with hyperparameters: {'n_estimators': 50, 'max_depth': 6} and aggregate: ['mean', 'std', 'max', 'min']\n",
      "Testing model: XGBRegressor with hyperparameters: {'n_estimators': 50, 'max_depth': 10} and aggregate: ['mean', 'std', 'max', 'min']\n",
      "Testing model: XGBRegressor with hyperparameters: {'n_estimators': 100, 'max_depth': 6} and aggregate: ['mean', 'std', 'max', 'min']\n",
      "Testing model: XGBRegressor with hyperparameters: {'n_estimators': 100, 'max_depth': 10} and aggregate: ['mean', 'std', 'max', 'min']\n",
      "Testing model: XGBRegressor. Average Root Mean Squared Error per output: [2.8330114  1.79493076]. \n",
      "Testing model: XGBRegressor. Average Root Mean Squared Error per output: [2.82237792 1.81216682]. \n",
      "Testing model: XGBRegressor. Average Root Mean Squared Error per output: [2.83468372 1.80775724]. \n",
      "Testing model: XGBRegressor. Average Root Mean Squared Error per output: [2.82324829 1.81244534]. \n",
      "Testing model: XGBRegressor. Average Root Mean Squared Error per output: [2.86590393 1.22904801]. \n",
      "Testing model: XGBRegressor. Average Root Mean Squared Error per output: [2.8723853  1.23514083]. \n",
      "Testing model: XGBRegressor. Average Root Mean Squared Error per output: [2.87344943 1.234614  ]. \n",
      "Testing model: XGBRegressor. Average Root Mean Squared Error per output: [2.86611947 1.22568951]. \n",
      "Testing model: XGBRegressor. Average Root Mean Squared Error per output: [1.33474471 2.48989919]. \n",
      "Testing model: XGBRegressor. Average Root Mean Squared Error per output: [1.33239956 2.49297894]. \n",
      "Testing model: XGBRegressor. Average Root Mean Squared Error per output: [1.33239932 2.49297157]. \n"
     ]
    },
    {
     "name": "stderr",
     "output_type": "stream",
     "text": [
      "Processing subject:  60%|\u001b[32m██████    \u001b[0m| 18/30 [10:29:05<6:58:57, 2094.77s/subject]"
     ]
    },
    {
     "name": "stdout",
     "output_type": "stream",
     "text": [
      "Testing model: XGBRegressor. Average Root Mean Squared Error per output: [1.33488395 2.49079634]. \n",
      "Processing video: 36\n"
     ]
    },
    {
     "name": "stderr",
     "output_type": "stream",
     "text": [
      "\n",
      "                                                                              "
     ]
    },
    {
     "name": "stdout",
     "output_type": "stream",
     "text": [
      "Testing model: RandomForestRegressor with hyperparameters: {'n_estimators': 50, 'max_depth': 10, 'min_samples_split': 2} and aggregate: ['min']\n",
      "Testing model: RandomForestRegressor with hyperparameters: {'n_estimators': 50, 'max_depth': 10, 'min_samples_split': 5} and aggregate: ['min']\n",
      "Testing model: RandomForestRegressor with hyperparameters: {'n_estimators': 50, 'max_depth': None, 'min_samples_split': 2} and aggregate: ['min']\n",
      "Testing model: RandomForestRegressor with hyperparameters: {'n_estimators': 50, 'max_depth': None, 'min_samples_split': 5} and aggregate: ['min']\n",
      "Testing model: RandomForestRegressor with hyperparameters: {'n_estimators': 100, 'max_depth': 10, 'min_samples_split': 2} and aggregate: ['min']\n",
      "Testing model: RandomForestRegressor with hyperparameters: {'n_estimators': 100, 'max_depth': 10, 'min_samples_split': 5} and aggregate: ['min']\n",
      "Testing model: RandomForestRegressor with hyperparameters: {'n_estimators': 100, 'max_depth': None, 'min_samples_split': 2} and aggregate: ['min']\n",
      "Testing model: RandomForestRegressor with hyperparameters: {'n_estimators': 100, 'max_depth': None, 'min_samples_split': 5} and aggregate: ['min']\n"
     ]
    },
    {
     "name": "stderr",
     "output_type": "stream",
     "text": [
      "\u001b[A"
     ]
    },
    {
     "name": "stdout",
     "output_type": "stream",
     "text": [
      "Testing model: RandomForestRegressor. Average Root Mean Squared Error per output: [0.64009144 0.40695544]. \n",
      "Testing model: RandomForestRegressor. Average Root Mean Squared Error per output: [0.6398727  0.41009598]. \n",
      "Testing model: RandomForestRegressor. Average Root Mean Squared Error per output: [0.63633337 0.40821023]. \n",
      "Testing model: RandomForestRegressor. Average Root Mean Squared Error per output: [0.64535579 0.40970644]. \n",
      "Testing model: RandomForestRegressor. Average Root Mean Squared Error per output: [0.76295426 0.97651475]. \n",
      "Testing model: RandomForestRegressor. Average Root Mean Squared Error per output: [0.76451228 0.97512258]. \n",
      "Testing model: RandomForestRegressor. Average Root Mean Squared Error per output: [0.63594701 0.40832333]. \n",
      "Testing model: RandomForestRegressor. Average Root Mean Squared Error per output: [0.63285938 0.40901563]. \n",
      "Testing model: RandomForestRegressor. Average Root Mean Squared Error per output: [0.63597561 0.41058448]. \n",
      "Testing model: RandomForestRegressor. Average Root Mean Squared Error per output: [0.76530789 0.97860504]. \n",
      "Testing model: RandomForestRegressor. Average Root Mean Squared Error per output: [0.76993837 0.97016537]. \n",
      "Testing model: RandomForestRegressor. Average Root Mean Squared Error per output: [0.63430351 0.40883155]. \n",
      "Testing model: RandomForestRegressor. Average Root Mean Squared Error per output: [1.27659723 1.94770706]. \n",
      "Testing model: RandomForestRegressor. Average Root Mean Squared Error per output: [1.28458985 1.94511539]. \n",
      "Testing model: RandomForestRegressor. Average Root Mean Squared Error per output: [1.2711112  1.93388236]. \n",
      "Testing model: RandomForestRegressor. Average Root Mean Squared Error per output: [1.26991267 1.94453865]. \n",
      "Testing model: RandomForestRegressor. Average Root Mean Squared Error per output: [0.76741444 0.98327597]. \n",
      "Testing model: RandomForestRegressor. Average Root Mean Squared Error per output: [0.76647831 0.98805076]. \n",
      "Testing model: RandomForestRegressor. Average Root Mean Squared Error per output: [0.76754548 0.9824137 ]. \n",
      "Testing model: RandomForestRegressor. Average Root Mean Squared Error per output: [0.7638976 0.9859345]. \n",
      "Testing model: RandomForestRegressor. Average Root Mean Squared Error per output: [1.28339266 1.94331956]. \n",
      "Testing model: RandomForestRegressor. Average Root Mean Squared Error per output: [1.286846  1.9439981]. \n",
      "Testing model: RandomForestRegressor. Average Root Mean Squared Error per output: [1.28981114 1.93880517]. \n",
      "Testing model: RandomForestRegressor. Average Root Mean Squared Error per output: [1.28550144 1.94375686]. \n"
     ]
    },
    {
     "name": "stderr",
     "output_type": "stream",
     "text": []
    },
    {
     "name": "stdout",
     "output_type": "stream",
     "text": [
      "Testing model: XGBRegressor with hyperparameters: {'n_estimators': 50, 'max_depth': 6} and aggregate: ['min']\n",
      "Testing model: XGBRegressor with hyperparameters: {'n_estimators': 50, 'max_depth': 10} and aggregate: ['min']\n",
      "Testing model: XGBRegressor with hyperparameters: {'n_estimators': 100, 'max_depth': 6} and aggregate: ['min']\n",
      "Testing model: XGBRegressor with hyperparameters: {'n_estimators': 100, 'max_depth': 10} and aggregate: ['min']\n",
      "Testing model: XGBRegressor. Average Root Mean Squared Error per output: [0.75594343 0.50349957]. \n",
      "Testing model: XGBRegressor. Average Root Mean Squared Error per output: [0.74256034 0.49519325]. \n",
      "Testing model: XGBRegressor. Average Root Mean Squared Error per output: [0.74256    0.49519316]. \n",
      "Testing model: XGBRegressor. Average Root Mean Squared Error per output: [0.75771237 0.50408089]. \n",
      "Testing model: XGBRegressor. Average Root Mean Squared Error per output: [0.79360073 0.88115684]. \n",
      "Testing model: XGBRegressor. Average Root Mean Squared Error per output: [0.79146212 0.88378394]. \n",
      "Testing model: XGBRegressor. Average Root Mean Squared Error per output: [0.79146212 0.88378413]. \n",
      "Testing model: XGBRegressor. Average Root Mean Squared Error per output: [1.43852971 1.93142285]. \n",
      "Testing model: XGBRegressor. Average Root Mean Squared Error per output: [0.79210664 0.87965263]. \n",
      "Testing model: XGBRegressor. Average Root Mean Squared Error per output: [1.43304458 1.96300763]. \n",
      "Testing model: XGBRegressor. Average Root Mean Squared Error per output: [1.43313885 1.96300726]. \n",
      "Testing model: XGBRegressor. Average Root Mean Squared Error per output: [1.44004387 1.92865307]. \n"
     ]
    },
    {
     "name": "stderr",
     "output_type": "stream",
     "text": []
    },
    {
     "name": "stdout",
     "output_type": "stream",
     "text": [
      "Testing model: RandomForestRegressor with hyperparameters: {'n_estimators': 50, 'max_depth': 10, 'min_samples_split': 2} and aggregate: ['mean', 'std', 'max', 'min']\n",
      "Testing model: RandomForestRegressor with hyperparameters: {'n_estimators': 50, 'max_depth': 10, 'min_samples_split': 5} and aggregate: ['mean', 'std', 'max', 'min']\n",
      "Testing model: RandomForestRegressor with hyperparameters: {'n_estimators': 50, 'max_depth': None, 'min_samples_split': 2} and aggregate: ['mean', 'std', 'max', 'min']\n",
      "Testing model: RandomForestRegressor with hyperparameters: {'n_estimators': 50, 'max_depth': None, 'min_samples_split': 5} and aggregate: ['mean', 'std', 'max', 'min']\n",
      "Testing model: RandomForestRegressor with hyperparameters: {'n_estimators': 100, 'max_depth': 10, 'min_samples_split': 2} and aggregate: ['mean', 'std', 'max', 'min']\n",
      "Testing model: RandomForestRegressor with hyperparameters: {'n_estimators': 100, 'max_depth': 10, 'min_samples_split': 5} and aggregate: ['mean', 'std', 'max', 'min']\n",
      "Testing model: RandomForestRegressor with hyperparameters: {'n_estimators': 100, 'max_depth': None, 'min_samples_split': 2} and aggregate: ['mean', 'std', 'max', 'min']\n"
     ]
    },
    {
     "name": "stderr",
     "output_type": "stream",
     "text": [
      "\n"
     ]
    },
    {
     "name": "stdout",
     "output_type": "stream",
     "text": [
      "Testing model: RandomForestRegressor with hyperparameters: {'n_estimators': 100, 'max_depth': None, 'min_samples_split': 5} and aggregate: ['mean', 'std', 'max', 'min']\n"
     ]
    },
    {
     "name": "stderr",
     "output_type": "stream",
     "text": [
      "                                                                              \u001b[A"
     ]
    },
    {
     "name": "stdout",
     "output_type": "stream",
     "text": [
      "Testing model: RandomForestRegressor. Average Root Mean Squared Error per output: [0.63515239 0.57847571]. \n",
      "Testing model: RandomForestRegressor. Average Root Mean Squared Error per output: [0.63107416 0.59086955]. \n",
      "Testing model: RandomForestRegressor. Average Root Mean Squared Error per output: [0.63322677 0.57964   ]. \n",
      "Testing model: RandomForestRegressor. Average Root Mean Squared Error per output: [0.63038676 0.5849201 ]. \n",
      "Testing model: RandomForestRegressor. Average Root Mean Squared Error per output: [0.62988812 0.59272637]. \n",
      "Testing model: RandomForestRegressor. Average Root Mean Squared Error per output: [0.63225968 0.59516722]. \n",
      "Testing model: RandomForestRegressor. Average Root Mean Squared Error per output: [0.63156469 0.58029233]. \n",
      "Testing model: RandomForestRegressor. Average Root Mean Squared Error per output: [0.63187096 0.58584426]. \n",
      "Testing model: RandomForestRegressor. Average Root Mean Squared Error per output: [0.76265065 0.95856437]. \n",
      "Testing model: RandomForestRegressor. Average Root Mean Squared Error per output: [0.76286498 0.89449128]. \n",
      "Testing model: RandomForestRegressor. Average Root Mean Squared Error per output: [0.76184958 0.94192086]. \n",
      "Testing model: RandomForestRegressor. Average Root Mean Squared Error per output: [0.76004962 0.88869831]. \n",
      "Testing model: RandomForestRegressor. Average Root Mean Squared Error per output: [1.14920214 2.25661997]. \n",
      "Testing model: RandomForestRegressor. Average Root Mean Squared Error per output: [1.17179197 2.28665954]. \n",
      "Testing model: RandomForestRegressor. Average Root Mean Squared Error per output: [0.76499073 0.92798532]. \n",
      "Testing model: RandomForestRegressor. Average Root Mean Squared Error per output: [0.76064427 0.94374733]. \n",
      "Testing model: RandomForestRegressor. Average Root Mean Squared Error per output: [1.22415442 2.25611173]. \n",
      "Testing model: RandomForestRegressor. Average Root Mean Squared Error per output: [1.18499166 2.25772321]. \n",
      "Testing model: RandomForestRegressor. Average Root Mean Squared Error per output: [0.76488472 0.93648412]. \n",
      "Testing model: RandomForestRegressor. Average Root Mean Squared Error per output: [0.75970142 0.88565715]. \n",
      "Testing model: RandomForestRegressor. Average Root Mean Squared Error per output: [1.17470557 2.25068815]. \n",
      "Testing model: RandomForestRegressor. Average Root Mean Squared Error per output: [1.19474616 2.25538532]. \n",
      "Testing model: RandomForestRegressor. Average Root Mean Squared Error per output: [1.19478568 2.26362565]. \n",
      "Testing model: RandomForestRegressor. Average Root Mean Squared Error per output: [1.17282492 2.26042641]. \n"
     ]
    },
    {
     "name": "stderr",
     "output_type": "stream",
     "text": []
    },
    {
     "name": "stdout",
     "output_type": "stream",
     "text": [
      "Testing model: XGBRegressor with hyperparameters: {'n_estimators': 50, 'max_depth': 6} and aggregate: ['mean', 'std', 'max', 'min']Testing model: XGBRegressor with hyperparameters: {'n_estimators': 50, 'max_depth': 10} and aggregate: ['mean', 'std', 'max', 'min']\n",
      "\n",
      "Testing model: XGBRegressor with hyperparameters: {'n_estimators': 100, 'max_depth': 6} and aggregate: ['mean', 'std', 'max', 'min']\n",
      "Testing model: XGBRegressor with hyperparameters: {'n_estimators': 100, 'max_depth': 10} and aggregate: ['mean', 'std', 'max', 'min']\n",
      "Testing model: XGBRegressor. Average Root Mean Squared Error per output: [0.69207779 0.61325152]. \n",
      "Testing model: XGBRegressor. Average Root Mean Squared Error per output: [0.69128577 0.6168943 ]. \n",
      "Testing model: XGBRegressor. Average Root Mean Squared Error per output: [0.69207787 0.61325256]. \n",
      "Testing model: XGBRegressor. Average Root Mean Squared Error per output: [0.69103082 0.61392158]. \n",
      "Testing model: XGBRegressor. Average Root Mean Squared Error per output: [0.79847076 0.60797022]. \n",
      "Testing model: XGBRegressor. Average Root Mean Squared Error per output: [0.79034346 0.61225467]. \n",
      "Testing model: XGBRegressor. Average Root Mean Squared Error per output: [0.79034399 0.61210524]. \n",
      "Testing model: XGBRegressor. Average Root Mean Squared Error per output: [0.79720509 0.6118551 ]. \n",
      "Testing model: XGBRegressor. Average Root Mean Squared Error per output: [1.44265142 2.28509168]. \n",
      "Testing model: XGBRegressor. Average Root Mean Squared Error per output: [1.27090674 2.23850111]. \n",
      "Testing model: XGBRegressor. Average Root Mean Squared Error per output: [1.27090739 2.23850111]. \n"
     ]
    },
    {
     "name": "stderr",
     "output_type": "stream",
     "text": [
      "Processing subject:  63%|\u001b[32m██████▎   \u001b[0m| 19/30 [11:04:15<6:24:52, 2099.31s/subject]"
     ]
    },
    {
     "name": "stdout",
     "output_type": "stream",
     "text": [
      "Testing model: XGBRegressor. Average Root Mean Squared Error per output: [1.44206923 2.28312169]. \n",
      "Processing video: 21\n"
     ]
    },
    {
     "name": "stderr",
     "output_type": "stream",
     "text": []
    },
    {
     "name": "stdout",
     "output_type": "stream",
     "text": [
      "Testing model: RandomForestRegressor with hyperparameters: {'n_estimators': 50, 'max_depth': 10, 'min_samples_split': 2} and aggregate: ['min']\n",
      "Testing model: RandomForestRegressor with hyperparameters: {'n_estimators': 50, 'max_depth': 10, 'min_samples_split': 5} and aggregate: ['min']\n",
      "Testing model: RandomForestRegressor with hyperparameters: {'n_estimators': 50, 'max_depth': None, 'min_samples_split': 2} and aggregate: ['min']\n",
      "Testing model: RandomForestRegressor with hyperparameters: {'n_estimators': 50, 'max_depth': None, 'min_samples_split': 5} and aggregate: ['min']\n",
      "Testing model: RandomForestRegressor with hyperparameters: {'n_estimators': 100, 'max_depth': 10, 'min_samples_split': 2} and aggregate: ['min']\n",
      "Testing model: RandomForestRegressor with hyperparameters: {'n_estimators': 100, 'max_depth': 10, 'min_samples_split': 5} and aggregate: ['min']\n",
      "Testing model: RandomForestRegressor with hyperparameters: {'n_estimators': 100, 'max_depth': None, 'min_samples_split': 2} and aggregate: ['min']\n",
      "Testing model: RandomForestRegressor with hyperparameters: {'n_estimators': 100, 'max_depth': None, 'min_samples_split': 5} and aggregate: ['min']\n",
      "Testing model: RandomForestRegressor. Average Root Mean Squared Error per output: [0.83958946 0.74325838]. \n",
      "Testing model: RandomForestRegressor. Average Root Mean Squared Error per output: [0.84182317 0.73010408]. \n",
      "Testing model: RandomForestRegressor. Average Root Mean Squared Error per output: [0.83452717 0.73829041]. \n",
      "Testing model: RandomForestRegressor. Average Root Mean Squared Error per output: [0.83784871 0.7251729 ]. \n",
      "Testing model: RandomForestRegressor. Average Root Mean Squared Error per output: [0.69502936 0.73689181]. \n",
      "Testing model: RandomForestRegressor. Average Root Mean Squared Error per output: [0.83637966 0.73467721]. \n",
      "Testing model: RandomForestRegressor. Average Root Mean Squared Error per output: [0.68784471 0.74562589]. \n",
      "Testing model: RandomForestRegressor. Average Root Mean Squared Error per output: [0.84389424 0.73393467]. \n",
      "Testing model: RandomForestRegressor. Average Root Mean Squared Error per output: [0.83877701 0.73016055]. \n",
      "Testing model: RandomForestRegressor. Average Root Mean Squared Error per output: [0.70382356 0.74385619]. \n",
      "Testing model: RandomForestRegressor. Average Root Mean Squared Error per output: [0.83590865 0.72758796]. \n",
      "Testing model: RandomForestRegressor. Average Root Mean Squared Error per output: [0.72324205 0.74224126]. \n",
      "Testing model: RandomForestRegressor. Average Root Mean Squared Error per output: [0.66429804 0.67298236]. \n",
      "Testing model: RandomForestRegressor. Average Root Mean Squared Error per output: [0.67320208 0.67616217]. \n",
      "Testing model: RandomForestRegressor. Average Root Mean Squared Error per output: [0.67038107 0.6763707 ]. \n",
      "Testing model: RandomForestRegressor. Average Root Mean Squared Error per output: [0.6614473  0.67229883]. \n",
      "Testing model: RandomForestRegressor. Average Root Mean Squared Error per output: [0.69949127 0.73825154]. \n",
      "Testing model: RandomForestRegressor. Average Root Mean Squared Error per output: [0.69476394 0.73440371]. \n",
      "Testing model: RandomForestRegressor. Average Root Mean Squared Error per output: [0.69311697 0.72700479]. \n",
      "Testing model: RandomForestRegressor. Average Root Mean Squared Error per output: [0.68102618 0.73281178]. \n",
      "Testing model: RandomForestRegressor. Average Root Mean Squared Error per output: [0.66643786 0.67419724]. \n",
      "Testing model: RandomForestRegressor. Average Root Mean Squared Error per output: [0.66583682 0.67499616]. \n",
      "Testing model: RandomForestRegressor. Average Root Mean Squared Error per output: [0.65537464 0.67236996]. \n",
      "Testing model: RandomForestRegressor. Average Root Mean Squared Error per output: [0.66162934 0.67417415]. \n"
     ]
    },
    {
     "name": "stderr",
     "output_type": "stream",
     "text": []
    },
    {
     "name": "stdout",
     "output_type": "stream",
     "text": [
      "Testing model: XGBRegressor with hyperparameters: {'n_estimators': 50, 'max_depth': 6} and aggregate: ['min']\n",
      "Testing model: XGBRegressor with hyperparameters: {'n_estimators': 50, 'max_depth': 10} and aggregate: ['min']\n",
      "Testing model: XGBRegressor with hyperparameters: {'n_estimators': 100, 'max_depth': 6} and aggregate: ['min']\n",
      "Testing model: XGBRegressor with hyperparameters: {'n_estimators': 100, 'max_depth': 10} and aggregate: ['min']\n",
      "Testing model: XGBRegressor. Average Root Mean Squared Error per output: [0.87169836 0.6063671 ]. \n",
      "Testing model: XGBRegressor. Average Root Mean Squared Error per output: [0.89314742 0.61692328]. \n",
      "Testing model: XGBRegressor. Average Root Mean Squared Error per output: [0.85252981 0.60365806]. \n",
      "Testing model: XGBRegressor. Average Root Mean Squared Error per output: [0.67404045 0.80655563]. \n",
      "Testing model: XGBRegressor. Average Root Mean Squared Error per output: [0.89263449 0.61850837]. \n",
      "Testing model: XGBRegressor. Average Root Mean Squared Error per output: [0.67096452 0.8013156 ]. \n",
      "Testing model: XGBRegressor. Average Root Mean Squared Error per output: [0.9621042  0.56116034]. \n",
      "Testing model: XGBRegressor. Average Root Mean Squared Error per output: [0.67141865 0.80957859]. \n",
      "Testing model: XGBRegressor. Average Root Mean Squared Error per output: [0.95875609 0.56260425]. \n",
      "Testing model: XGBRegressor. Average Root Mean Squared Error per output: [0.66987692 0.80223702]. \n",
      "Testing model: XGBRegressor. Average Root Mean Squared Error per output: [0.95893518 0.55897497]. \n",
      "Testing model: XGBRegressor. Average Root Mean Squared Error per output: [0.95840278 0.56311889]. \n"
     ]
    },
    {
     "name": "stderr",
     "output_type": "stream",
     "text": []
    },
    {
     "name": "stdout",
     "output_type": "stream",
     "text": [
      "Testing model: RandomForestRegressor with hyperparameters: {'n_estimators': 50, 'max_depth': 10, 'min_samples_split': 2} and aggregate: ['mean', 'std', 'max', 'min']\n",
      "Testing model: RandomForestRegressor with hyperparameters: {'n_estimators': 50, 'max_depth': 10, 'min_samples_split': 5} and aggregate: ['mean', 'std', 'max', 'min']\n",
      "Testing model: RandomForestRegressor with hyperparameters: {'n_estimators': 50, 'max_depth': None, 'min_samples_split': 2} and aggregate: ['mean', 'std', 'max', 'min']\n",
      "Testing model: RandomForestRegressor with hyperparameters: {'n_estimators': 50, 'max_depth': None, 'min_samples_split': 5} and aggregate: ['mean', 'std', 'max', 'min']\n",
      "Testing model: RandomForestRegressor with hyperparameters: {'n_estimators': 100, 'max_depth': 10, 'min_samples_split': 2} and aggregate: ['mean', 'std', 'max', 'min']\n",
      "Testing model: RandomForestRegressor with hyperparameters: {'n_estimators': 100, 'max_depth': 10, 'min_samples_split': 5} and aggregate: ['mean', 'std', 'max', 'min']\n",
      "Testing model: RandomForestRegressor with hyperparameters: {'n_estimators': 100, 'max_depth': None, 'min_samples_split': 2} and aggregate: ['mean', 'std', 'max', 'min']\n",
      "Testing model: RandomForestRegressor with hyperparameters: {'n_estimators': 100, 'max_depth': None, 'min_samples_split': 5} and aggregate: ['mean', 'std', 'max', 'min']\n",
      "Testing model: RandomForestRegressor. Average Root Mean Squared Error per output: [0.93784549 0.74111699]. \n",
      "Testing model: RandomForestRegressor. Average Root Mean Squared Error per output: [0.93633007 0.76248275]. \n",
      "Testing model: RandomForestRegressor. Average Root Mean Squared Error per output: [0.93026079 0.77026537]. \n",
      "Testing model: RandomForestRegressor. Average Root Mean Squared Error per output: [0.93096992 0.74453696]. \n",
      "Testing model: RandomForestRegressor. Average Root Mean Squared Error per output: [0.93379181 0.76576262]. \n",
      "Testing model: RandomForestRegressor. Average Root Mean Squared Error per output: [0.92748555 0.75590595]. \n",
      "Testing model: RandomForestRegressor. Average Root Mean Squared Error per output: [0.93408683 0.74351606]. \n",
      "Testing model: RandomForestRegressor. Average Root Mean Squared Error per output: [0.57195079 0.62343605]. \n",
      "Testing model: RandomForestRegressor. Average Root Mean Squared Error per output: [0.57835427 0.62822671]. \n",
      "Testing model: RandomForestRegressor. Average Root Mean Squared Error per output: [0.56125812 0.62637568]. \n",
      "Testing model: RandomForestRegressor. Average Root Mean Squared Error per output: [0.93748178 0.75451563]. \n",
      "Testing model: RandomForestRegressor. Average Root Mean Squared Error per output: [0.56879518 0.62733573]. \n",
      "Testing model: RandomForestRegressor. Average Root Mean Squared Error per output: [0.56727328 0.62597684]. \n",
      "Testing model: RandomForestRegressor. Average Root Mean Squared Error per output: [0.56935109 0.62488843]. \n",
      "Testing model: RandomForestRegressor. Average Root Mean Squared Error per output: [0.84019647 0.67151121]. \n",
      "Testing model: RandomForestRegressor. Average Root Mean Squared Error per output: [0.82740246 0.67150771]. \n",
      "Testing model: RandomForestRegressor. Average Root Mean Squared Error per output: [0.831939   0.67525593]. \n",
      "Testing model: RandomForestRegressor. Average Root Mean Squared Error per output: [0.81002098 0.67698901]. \n",
      "Testing model: RandomForestRegressor. Average Root Mean Squared Error per output: [0.56702173 0.62709711]. \n",
      "Testing model: RandomForestRegressor. Average Root Mean Squared Error per output: [0.81857054 0.67523789]. \n",
      "Testing model: RandomForestRegressor. Average Root Mean Squared Error per output: [0.7962527 0.6747186]. \n",
      "Testing model: RandomForestRegressor. Average Root Mean Squared Error per output: [0.56446032 0.62630226]. \n",
      "Testing model: RandomForestRegressor. Average Root Mean Squared Error per output: [0.81922959 0.67658653]. \n",
      "Testing model: RandomForestRegressor. Average Root Mean Squared Error per output: [0.8136852  0.67362153]. \n"
     ]
    },
    {
     "name": "stderr",
     "output_type": "stream",
     "text": []
    },
    {
     "name": "stdout",
     "output_type": "stream",
     "text": [
      "Testing model: XGBRegressor with hyperparameters: {'n_estimators': 50, 'max_depth': 6} and aggregate: ['mean', 'std', 'max', 'min']\n",
      "Testing model: XGBRegressor with hyperparameters: {'n_estimators': 50, 'max_depth': 10} and aggregate: ['mean', 'std', 'max', 'min']\n",
      "Testing model: XGBRegressor with hyperparameters: {'n_estimators': 100, 'max_depth': 6} and aggregate: ['mean', 'std', 'max', 'min']\n",
      "Testing model: XGBRegressor with hyperparameters: {'n_estimators': 100, 'max_depth': 10} and aggregate: ['mean', 'std', 'max', 'min']\n",
      "Testing model: XGBRegressor. Average Root Mean Squared Error per output: [1.00110619 0.86050482]. \n",
      "Testing model: XGBRegressor. Average Root Mean Squared Error per output: [0.97236187 0.76058933]. \n",
      "Testing model: XGBRegressor. Average Root Mean Squared Error per output: [1.00092475 0.86716524]. \n",
      "Testing model: XGBRegressor. Average Root Mean Squared Error per output: [0.97307916 0.76312875]. \n",
      "Testing model: XGBRegressor. Average Root Mean Squared Error per output: [0.59590472 0.62636122]. \n",
      "Testing model: XGBRegressor. Average Root Mean Squared Error per output: [0.59494215 0.64078971]. \n",
      "Testing model: XGBRegressor. Average Root Mean Squared Error per output: [0.58985655 0.62310618]. \n",
      "Testing model: XGBRegressor. Average Root Mean Squared Error per output: [0.65989938 0.70694454]. \n",
      "Testing model: XGBRegressor. Average Root Mean Squared Error per output: [0.59433203 0.63993618]. \n",
      "Testing model: XGBRegressor. Average Root Mean Squared Error per output: [0.86317508 0.70545515]. \n",
      "Testing model: XGBRegressor. Average Root Mean Squared Error per output: [0.65435192 0.70466608]. \n"
     ]
    },
    {
     "name": "stderr",
     "output_type": "stream",
     "text": [
      "Processing subject:  67%|\u001b[32m██████▋   \u001b[0m| 20/30 [11:39:51<5:51:43, 2110.38s/subject]"
     ]
    },
    {
     "name": "stdout",
     "output_type": "stream",
     "text": [
      "Testing model: XGBRegressor. Average Root Mean Squared Error per output: [0.86118065 0.70525839]. \n",
      "Processing video: 14\n"
     ]
    },
    {
     "name": "stderr",
     "output_type": "stream",
     "text": []
    },
    {
     "name": "stdout",
     "output_type": "stream",
     "text": [
      "Testing model: RandomForestRegressor with hyperparameters: {'n_estimators': 50, 'max_depth': 10, 'min_samples_split': 2} and aggregate: ['min']\n",
      "Testing model: RandomForestRegressor with hyperparameters: {'n_estimators': 50, 'max_depth': 10, 'min_samples_split': 5} and aggregate: ['min']\n",
      "Testing model: RandomForestRegressor with hyperparameters: {'n_estimators': 50, 'max_depth': None, 'min_samples_split': 2} and aggregate: ['min']\n",
      "Testing model: RandomForestRegressor with hyperparameters: {'n_estimators': 50, 'max_depth': None, 'min_samples_split': 5} and aggregate: ['min']\n",
      "Testing model: RandomForestRegressor with hyperparameters: {'n_estimators': 100, 'max_depth': 10, 'min_samples_split': 2} and aggregate: ['min']\n",
      "Testing model: RandomForestRegressor with hyperparameters: {'n_estimators': 100, 'max_depth': 10, 'min_samples_split': 5} and aggregate: ['min']\n",
      "Testing model: RandomForestRegressor with hyperparameters: {'n_estimators': 100, 'max_depth': None, 'min_samples_split': 2} and aggregate: ['min']\n"
     ]
    },
    {
     "name": "stderr",
     "output_type": "stream",
     "text": [
      "\n"
     ]
    },
    {
     "name": "stdout",
     "output_type": "stream",
     "text": [
      "Testing model: RandomForestRegressor with hyperparameters: {'n_estimators': 100, 'max_depth': None, 'min_samples_split': 5} and aggregate: ['min']\n"
     ]
    },
    {
     "name": "stderr",
     "output_type": "stream",
     "text": [
      "                                                                              \u001b[A"
     ]
    },
    {
     "name": "stdout",
     "output_type": "stream",
     "text": [
      "Testing model: RandomForestRegressor. Average Root Mean Squared Error per output: [0.91037342 1.36326158]. \n",
      "Testing model: RandomForestRegressor. Average Root Mean Squared Error per output: [0.90945857 1.33583566]. \n",
      "Testing model: RandomForestRegressor. Average Root Mean Squared Error per output: [0.91613867 1.3533279 ]. \n",
      "Testing model: RandomForestRegressor. Average Root Mean Squared Error per output: [0.90763548 1.3460494 ]. \n",
      "Testing model: RandomForestRegressor. Average Root Mean Squared Error per output: [0.92071243 1.32813128]. \n",
      "Testing model: RandomForestRegressor. Average Root Mean Squared Error per output: [0.90982866 1.35222971]. \n",
      "Testing model: RandomForestRegressor. Average Root Mean Squared Error per output: [1.15580404 1.60445889]. \n",
      "Testing model: RandomForestRegressor. Average Root Mean Squared Error per output: [1.14976096 1.58086005]. \n",
      "Testing model: RandomForestRegressor. Average Root Mean Squared Error per output: [0.91748238 1.35161744]. \n",
      "Testing model: RandomForestRegressor. Average Root Mean Squared Error per output: [1.13972163 1.60310197]. \n",
      "Testing model: RandomForestRegressor. Average Root Mean Squared Error per output: [0.93130056 1.32703015]. \n",
      "Testing model: RandomForestRegressor. Average Root Mean Squared Error per output: [1.15234395 1.61403859]. \n",
      "Testing model: RandomForestRegressor. Average Root Mean Squared Error per output: [0.50442689 2.0468066 ]. \n",
      "Testing model: RandomForestRegressor. Average Root Mean Squared Error per output: [0.50888529 2.0041102 ]. \n",
      "Testing model: RandomForestRegressor. Average Root Mean Squared Error per output: [0.49943757 2.03781121]. \n",
      "Testing model: RandomForestRegressor. Average Root Mean Squared Error per output: [0.50198089 2.04582321]. \n",
      "Testing model: RandomForestRegressor. Average Root Mean Squared Error per output: [1.14397897 1.58925362]. \n",
      "Testing model: RandomForestRegressor. Average Root Mean Squared Error per output: [1.15280727 1.59489922]. \n",
      "Testing model: RandomForestRegressor. Average Root Mean Squared Error per output: [1.14509954 1.60535436]. \n",
      "Testing model: RandomForestRegressor. Average Root Mean Squared Error per output: [1.14289689 1.60981497]. \n",
      "Testing model: RandomForestRegressor. Average Root Mean Squared Error per output: [0.50498471 2.04954061]. \n",
      "Testing model: RandomForestRegressor. Average Root Mean Squared Error per output: [0.50032906 2.05515806]. \n",
      "Testing model: RandomForestRegressor. Average Root Mean Squared Error per output: [0.50338788 2.05800504]. \n",
      "Testing model: RandomForestRegressor. Average Root Mean Squared Error per output: [0.5017319  2.06337388]. \n"
     ]
    },
    {
     "name": "stderr",
     "output_type": "stream",
     "text": []
    },
    {
     "name": "stdout",
     "output_type": "stream",
     "text": [
      "Testing model: XGBRegressor with hyperparameters: {'n_estimators': 50, 'max_depth': 6} and aggregate: ['min']\n",
      "Testing model: XGBRegressor with hyperparameters: {'n_estimators': 50, 'max_depth': 10} and aggregate: ['min']\n",
      "Testing model: XGBRegressor with hyperparameters: {'n_estimators': 100, 'max_depth': 6} and aggregate: ['min']\n",
      "Testing model: XGBRegressor with hyperparameters: {'n_estimators': 100, 'max_depth': 10} and aggregate: ['min']\n",
      "Testing model: XGBRegressor. Average Root Mean Squared Error per output: [0.62459219 1.07160066]. \n",
      "Testing model: XGBRegressor. Average Root Mean Squared Error per output: [0.50412552 1.40632276]. \n",
      "Testing model: XGBRegressor. Average Root Mean Squared Error per output: [0.63009437 1.07606508]. \n",
      "Testing model: XGBRegressor. Average Root Mean Squared Error per output: [1.20440341 1.77096855]. \n",
      "Testing model: XGBRegressor. Average Root Mean Squared Error per output: [0.50409389 1.41311638]. \n",
      "Testing model: XGBRegressor. Average Root Mean Squared Error per output: [1.20328752 1.65390885]. \n",
      "Testing model: XGBRegressor. Average Root Mean Squared Error per output: [0.48583544 2.55265066]. \n",
      "Testing model: XGBRegressor. Average Root Mean Squared Error per output: [1.20355821 1.76937403]. \n",
      "Testing model: XGBRegressor. Average Root Mean Squared Error per output: [0.50014331 2.59638118]. \n",
      "Testing model: XGBRegressor. Average Root Mean Squared Error per output: [1.20339738 1.65370078]. \n",
      "Testing model: XGBRegressor. Average Root Mean Squared Error per output: [0.48865592 2.55032665]. \n",
      "Testing model: XGBRegressor. Average Root Mean Squared Error per output: [0.50010609 2.59598837]. \n"
     ]
    },
    {
     "name": "stderr",
     "output_type": "stream",
     "text": []
    },
    {
     "name": "stdout",
     "output_type": "stream",
     "text": [
      "Testing model: RandomForestRegressor with hyperparameters: {'n_estimators': 50, 'max_depth': 10, 'min_samples_split': 2} and aggregate: ['mean', 'std', 'max', 'min']\n",
      "Testing model: RandomForestRegressor with hyperparameters: {'n_estimators': 50, 'max_depth': 10, 'min_samples_split': 5} and aggregate: ['mean', 'std', 'max', 'min']\n",
      "Testing model: RandomForestRegressor with hyperparameters: {'n_estimators': 50, 'max_depth': None, 'min_samples_split': 2} and aggregate: ['mean', 'std', 'max', 'min']\n",
      "Testing model: RandomForestRegressor with hyperparameters: {'n_estimators': 50, 'max_depth': None, 'min_samples_split': 5} and aggregate: ['mean', 'std', 'max', 'min']\n",
      "Testing model: RandomForestRegressor with hyperparameters: {'n_estimators': 100, 'max_depth': 10, 'min_samples_split': 2} and aggregate: ['mean', 'std', 'max', 'min']\n",
      "Testing model: RandomForestRegressor with hyperparameters: {'n_estimators': 100, 'max_depth': 10, 'min_samples_split': 5} and aggregate: ['mean', 'std', 'max', 'min']\n",
      "Testing model: RandomForestRegressor with hyperparameters: {'n_estimators': 100, 'max_depth': None, 'min_samples_split': 2} and aggregate: ['mean', 'std', 'max', 'min']\n"
     ]
    },
    {
     "name": "stderr",
     "output_type": "stream",
     "text": [
      "\n"
     ]
    },
    {
     "name": "stdout",
     "output_type": "stream",
     "text": [
      "Testing model: RandomForestRegressor with hyperparameters: {'n_estimators': 100, 'max_depth': None, 'min_samples_split': 5} and aggregate: ['mean', 'std', 'max', 'min']\n"
     ]
    },
    {
     "name": "stderr",
     "output_type": "stream",
     "text": [
      "                                                                              \u001b[A"
     ]
    },
    {
     "name": "stdout",
     "output_type": "stream",
     "text": [
      "Testing model: RandomForestRegressor. Average Root Mean Squared Error per output: [0.39328746 1.32119821]. \n",
      "Testing model: RandomForestRegressor. Average Root Mean Squared Error per output: [0.41912359 1.34550569]. \n",
      "Testing model: RandomForestRegressor. Average Root Mean Squared Error per output: [0.39930828 1.34868177]. \n",
      "Testing model: RandomForestRegressor. Average Root Mean Squared Error per output: [0.40175324 1.34075293]. \n",
      "Testing model: RandomForestRegressor. Average Root Mean Squared Error per output: [0.38905559 1.3585333 ]. \n",
      "Testing model: RandomForestRegressor. Average Root Mean Squared Error per output: [0.36859568 1.34978773]. \n",
      "Testing model: RandomForestRegressor. Average Root Mean Squared Error per output: [0.40619581 1.31611613]. \n",
      "Testing model: RandomForestRegressor. Average Root Mean Squared Error per output: [0.38791663 1.35160102]. \n",
      "Testing model: RandomForestRegressor. Average Root Mean Squared Error per output: [1.057655  0.9683078]. \n",
      "Testing model: RandomForestRegressor. Average Root Mean Squared Error per output: [1.03299187 0.95999374]. \n",
      "Testing model: RandomForestRegressor. Average Root Mean Squared Error per output: [1.04705482 0.96114633]. \n",
      "Testing model: RandomForestRegressor. Average Root Mean Squared Error per output: [1.05530508 0.97224125]. \n",
      "Testing model: RandomForestRegressor. Average Root Mean Squared Error per output: [0.49712181 2.66218635]. \n",
      "Testing model: RandomForestRegressor. Average Root Mean Squared Error per output: [1.05513788 0.97789518]. \n",
      "Testing model: RandomForestRegressor. Average Root Mean Squared Error per output: [1.05015397 0.95657311]. \n",
      "Testing model: RandomForestRegressor. Average Root Mean Squared Error per output: [0.49179455 2.65110395]. \n",
      "Testing model: RandomForestRegressor. Average Root Mean Squared Error per output: [0.49634408 2.62219765]. \n",
      "Testing model: RandomForestRegressor. Average Root Mean Squared Error per output: [0.49900232 2.62565669]. \n",
      "Testing model: RandomForestRegressor. Average Root Mean Squared Error per output: [1.05471851 0.95840577]. \n",
      "Testing model: RandomForestRegressor. Average Root Mean Squared Error per output: [1.05333933 0.96577745]. \n",
      "Testing model: RandomForestRegressor. Average Root Mean Squared Error per output: [0.49808007 2.63994699]. \n",
      "Testing model: RandomForestRegressor. Average Root Mean Squared Error per output: [0.49539681 2.65157038]. \n",
      "Testing model: RandomForestRegressor. Average Root Mean Squared Error per output: [0.4921911  2.61815272]. \n",
      "Testing model: RandomForestRegressor. Average Root Mean Squared Error per output: [0.49279129 2.60504991]. \n"
     ]
    },
    {
     "name": "stderr",
     "output_type": "stream",
     "text": []
    },
    {
     "name": "stdout",
     "output_type": "stream",
     "text": [
      "Testing model: XGBRegressor with hyperparameters: {'n_estimators': 50, 'max_depth': 6} and aggregate: ['mean', 'std', 'max', 'min']\n",
      "Testing model: XGBRegressor with hyperparameters: {'n_estimators': 50, 'max_depth': 10} and aggregate: ['mean', 'std', 'max', 'min']\n",
      "Testing model: XGBRegressor with hyperparameters: {'n_estimators': 100, 'max_depth': 6} and aggregate: ['mean', 'std', 'max', 'min']\n",
      "Testing model: XGBRegressor with hyperparameters: {'n_estimators': 100, 'max_depth': 10} and aggregate: ['mean', 'std', 'max', 'min']\n",
      "Testing model: XGBRegressor. Average Root Mean Squared Error per output: [0.39380643 1.92314533]. \n",
      "Testing model: XGBRegressor. Average Root Mean Squared Error per output: [0.40570615 1.91031815]. \n",
      "Testing model: XGBRegressor. Average Root Mean Squared Error per output: [0.40717177 1.88905837]. \n",
      "Testing model: XGBRegressor. Average Root Mean Squared Error per output: [0.40972427 1.89505164]. \n",
      "Testing model: XGBRegressor. Average Root Mean Squared Error per output: [1.08936726 0.88570452]. \n",
      "Testing model: XGBRegressor. Average Root Mean Squared Error per output: [1.09886004 0.85158276]. \n",
      "Testing model: XGBRegressor. Average Root Mean Squared Error per output: [1.08815485 0.88900379]. \n",
      "Testing model: XGBRegressor. Average Root Mean Squared Error per output: [1.09972441 0.8519758 ]. \n",
      "Testing model: XGBRegressor. Average Root Mean Squared Error per output: [0.45783305 2.63288941]. \n",
      "Testing model: XGBRegressor. Average Root Mean Squared Error per output: [0.46331908 2.60643441]. \n",
      "Testing model: XGBRegressor. Average Root Mean Squared Error per output: [0.45737671 2.62486771]. \n"
     ]
    },
    {
     "name": "stderr",
     "output_type": "stream",
     "text": [
      "Processing subject:  70%|\u001b[32m███████   \u001b[0m| 21/30 [12:14:41<5:15:36, 2104.10s/subject]"
     ]
    },
    {
     "name": "stdout",
     "output_type": "stream",
     "text": [
      "Testing model: XGBRegressor. Average Root Mean Squared Error per output: [0.46307259 2.6053434 ]. \n",
      "Processing video: 23\n"
     ]
    },
    {
     "name": "stderr",
     "output_type": "stream",
     "text": []
    },
    {
     "name": "stdout",
     "output_type": "stream",
     "text": [
      "Testing model: RandomForestRegressor with hyperparameters: {'n_estimators': 50, 'max_depth': 10, 'min_samples_split': 2} and aggregate: ['min']\n",
      "Testing model: RandomForestRegressor with hyperparameters: {'n_estimators': 50, 'max_depth': 10, 'min_samples_split': 5} and aggregate: ['min']\n",
      "Testing model: RandomForestRegressor with hyperparameters: {'n_estimators': 50, 'max_depth': None, 'min_samples_split': 2} and aggregate: ['min']\n",
      "Testing model: RandomForestRegressor with hyperparameters: {'n_estimators': 50, 'max_depth': None, 'min_samples_split': 5} and aggregate: ['min']\n",
      "Testing model: RandomForestRegressor with hyperparameters: {'n_estimators': 100, 'max_depth': 10, 'min_samples_split': 2} and aggregate: ['min']\n",
      "Testing model: RandomForestRegressor with hyperparameters: {'n_estimators': 100, 'max_depth': 10, 'min_samples_split': 5} and aggregate: ['min']\n",
      "Testing model: RandomForestRegressor with hyperparameters: {'n_estimators': 100, 'max_depth': None, 'min_samples_split': 2} and aggregate: ['min']\n",
      "Testing model: RandomForestRegressor with hyperparameters: {'n_estimators': 100, 'max_depth': None, 'min_samples_split': 5} and aggregate: ['min']\n",
      "Testing model: RandomForestRegressor. Average Root Mean Squared Error per output: [0.86688403 1.81188648]. \n",
      "Testing model: RandomForestRegressor. Average Root Mean Squared Error per output: [0.87803059 1.80715968]. \n",
      "Testing model: RandomForestRegressor. Average Root Mean Squared Error per output: [0.90586745 1.81640377]. \n",
      "Testing model: RandomForestRegressor. Average Root Mean Squared Error per output: [0.8889734  1.80656616]. \n",
      "Testing model: RandomForestRegressor. Average Root Mean Squared Error per output: [0.87224486 1.80497955]. \n",
      "Testing model: RandomForestRegressor. Average Root Mean Squared Error per output: [0.88826524 1.8216471 ]. \n",
      "Testing model: RandomForestRegressor. Average Root Mean Squared Error per output: [1.04446047 3.17198929]. Testing model: RandomForestRegressor. Average Root Mean Squared Error per output: [1.0045408  3.11132824]. \n",
      "\n",
      "Testing model: RandomForestRegressor. Average Root Mean Squared Error per output: [0.87926846 1.81187819]. \n",
      "Testing model: RandomForestRegressor. Average Root Mean Squared Error per output: [1.05006196 3.21301831]. \n",
      "Testing model: RandomForestRegressor. Average Root Mean Squared Error per output: [0.86246716 1.81309187]. \n",
      "Testing model: RandomForestRegressor. Average Root Mean Squared Error per output: [1.02496778 3.31027771]. \n",
      "Testing model: RandomForestRegressor. Average Root Mean Squared Error per output: [1.40024876 2.41956494]. \n",
      "Testing model: RandomForestRegressor. Average Root Mean Squared Error per output: [1.38558825 2.48424586]. \n",
      "Testing model: RandomForestRegressor. Average Root Mean Squared Error per output: [1.38381539 2.43332999]. \n",
      "Testing model: RandomForestRegressor. Average Root Mean Squared Error per output: [1.38599026 2.46293942]. \n",
      "Testing model: RandomForestRegressor. Average Root Mean Squared Error per output: [1.03359896 3.18316615]. \n",
      "Testing model: RandomForestRegressor. Average Root Mean Squared Error per output: [1.03440099 3.16921981]. \n",
      "Testing model: RandomForestRegressor. Average Root Mean Squared Error per output: [1.04148848 3.20579179]. \n",
      "Testing model: RandomForestRegressor. Average Root Mean Squared Error per output: [0.96968431 3.18746447]. \n",
      "Testing model: RandomForestRegressor. Average Root Mean Squared Error per output: [1.39380989 2.44382449]. \n",
      "Testing model: RandomForestRegressor. Average Root Mean Squared Error per output: [1.40072031 2.48502069]. \n",
      "Testing model: RandomForestRegressor. Average Root Mean Squared Error per output: [1.39389378 2.40679908]. \n",
      "Testing model: RandomForestRegressor. Average Root Mean Squared Error per output: [1.38734075 2.45810774]. \n"
     ]
    },
    {
     "name": "stderr",
     "output_type": "stream",
     "text": []
    },
    {
     "name": "stdout",
     "output_type": "stream",
     "text": [
      "Testing model: XGBRegressor with hyperparameters: {'n_estimators': 50, 'max_depth': 6} and aggregate: ['min']\n",
      "Testing model: XGBRegressor with hyperparameters: {'n_estimators': 50, 'max_depth': 10} and aggregate: ['min']\n",
      "Testing model: XGBRegressor with hyperparameters: {'n_estimators': 100, 'max_depth': 6} and aggregate: ['min']\n",
      "Testing model: XGBRegressor with hyperparameters: {'n_estimators': 100, 'max_depth': 10} and aggregate: ['min']\n",
      "Testing model: XGBRegressor. Average Root Mean Squared Error per output: [1.07042944 1.8459642 ]. \n",
      "Testing model: XGBRegressor. Average Root Mean Squared Error per output: [1.09519438 1.86191364]. \n",
      "Testing model: XGBRegressor. Average Root Mean Squared Error per output: [1.07595282 1.84037396]. \n",
      "Testing model: XGBRegressor. Average Root Mean Squared Error per output: [1.23793882 3.63494802]. \n",
      "Testing model: XGBRegressor. Average Root Mean Squared Error per output: [1.09827989 1.856728  ]. \n",
      "Testing model: XGBRegressor. Average Root Mean Squared Error per output: [1.23115951 3.7558871 ]. \n",
      "Testing model: XGBRegressor. Average Root Mean Squared Error per output: [1.32113017 2.93119299]. \n",
      "Testing model: XGBRegressor. Average Root Mean Squared Error per output: [1.2526355 3.6298381]. \n",
      "Testing model: XGBRegressor. Average Root Mean Squared Error per output: [1.32118559 2.93911803]. \n",
      "Testing model: XGBRegressor. Average Root Mean Squared Error per output: [1.22898948 3.75768821]. \n",
      "Testing model: XGBRegressor. Average Root Mean Squared Error per output: [1.32276797 2.9322719 ]. \n",
      "Testing model: XGBRegressor. Average Root Mean Squared Error per output: [1.32106304 2.93736   ]. \n"
     ]
    },
    {
     "name": "stderr",
     "output_type": "stream",
     "text": []
    },
    {
     "name": "stdout",
     "output_type": "stream",
     "text": [
      "Testing model: RandomForestRegressor with hyperparameters: {'n_estimators': 50, 'max_depth': 10, 'min_samples_split': 2} and aggregate: ['mean', 'std', 'max', 'min']\n",
      "Testing model: RandomForestRegressor with hyperparameters: {'n_estimators': 50, 'max_depth': 10, 'min_samples_split': 5} and aggregate: ['mean', 'std', 'max', 'min']\n",
      "Testing model: RandomForestRegressor with hyperparameters: {'n_estimators': 50, 'max_depth': None, 'min_samples_split': 2} and aggregate: ['mean', 'std', 'max', 'min']\n",
      "Testing model: RandomForestRegressor with hyperparameters: {'n_estimators': 50, 'max_depth': None, 'min_samples_split': 5} and aggregate: ['mean', 'std', 'max', 'min']\n",
      "Testing model: RandomForestRegressor with hyperparameters: {'n_estimators': 100, 'max_depth': 10, 'min_samples_split': 2} and aggregate: ['mean', 'std', 'max', 'min']\n",
      "Testing model: RandomForestRegressor with hyperparameters: {'n_estimators': 100, 'max_depth': 10, 'min_samples_split': 5} and aggregate: ['mean', 'std', 'max', 'min']\n",
      "Testing model: RandomForestRegressor with hyperparameters: {'n_estimators': 100, 'max_depth': None, 'min_samples_split': 2} and aggregate: ['mean', 'std', 'max', 'min']\n",
      "Testing model: RandomForestRegressor with hyperparameters: {'n_estimators': 100, 'max_depth': None, 'min_samples_split': 5} and aggregate: ['mean', 'std', 'max', 'min']\n",
      "Testing model: RandomForestRegressor. Average Root Mean Squared Error per output: [1.22888398 0.91426469]. \n",
      "Testing model: RandomForestRegressor. Average Root Mean Squared Error per output: [1.26467066 0.9185613 ]. \n",
      "Testing model: RandomForestRegressor. Average Root Mean Squared Error per output: [1.24638358 0.93700557]. \n",
      "Testing model: RandomForestRegressor. Average Root Mean Squared Error per output: [1.26043518 0.92581033]. \n",
      "Testing model: RandomForestRegressor. Average Root Mean Squared Error per output: [1.24045855 0.91555224]. \n",
      "Testing model: RandomForestRegressor. Average Root Mean Squared Error per output: [1.25808848 0.90813395]. \n",
      "Testing model: RandomForestRegressor. Average Root Mean Squared Error per output: [1.22833715 0.91490566]. \n",
      "Testing model: RandomForestRegressor. Average Root Mean Squared Error per output: [1.24041618 0.9094146 ]. \n",
      "Testing model: RandomForestRegressor. Average Root Mean Squared Error per output: [1.08567423 2.90168794]. \n",
      "Testing model: RandomForestRegressor. Average Root Mean Squared Error per output: [1.06806498 2.88938541]. \n",
      "Testing model: RandomForestRegressor. Average Root Mean Squared Error per output: [1.08403411 2.88828841]. \n",
      "Testing model: RandomForestRegressor. Average Root Mean Squared Error per output: [1.08288507 2.86097346]. \n",
      "Testing model: RandomForestRegressor. Average Root Mean Squared Error per output: [1.52365566 2.30645781]. \n",
      "Testing model: RandomForestRegressor. Average Root Mean Squared Error per output: [1.54143315 2.35882928]. \n",
      "Testing model: RandomForestRegressor. Average Root Mean Squared Error per output: [1.05894519 2.89913453]. \n",
      "Testing model: RandomForestRegressor. Average Root Mean Squared Error per output: [1.10858752 2.84782394]. \n",
      "Testing model: RandomForestRegressor. Average Root Mean Squared Error per output: [1.13742911 2.82674808]. \n",
      "Testing model: RandomForestRegressor. Average Root Mean Squared Error per output: [1.54806844 2.36088883]. \n",
      "Testing model: RandomForestRegressor. Average Root Mean Squared Error per output: [1.53400323 2.31596365]. \n",
      "Testing model: RandomForestRegressor. Average Root Mean Squared Error per output: [1.13779272 2.86730712]. \n",
      "Testing model: RandomForestRegressor. Average Root Mean Squared Error per output: [1.55497318 2.3355422 ]. \n",
      "Testing model: RandomForestRegressor. Average Root Mean Squared Error per output: [1.52233642 2.36757928]. \n",
      "Testing model: RandomForestRegressor. Average Root Mean Squared Error per output: [1.54562487 2.38129978]. \n",
      "Testing model: RandomForestRegressor. Average Root Mean Squared Error per output: [1.53861977 2.36032112]. \n"
     ]
    },
    {
     "name": "stderr",
     "output_type": "stream",
     "text": []
    },
    {
     "name": "stdout",
     "output_type": "stream",
     "text": [
      "Testing model: XGBRegressor with hyperparameters: {'n_estimators': 50, 'max_depth': 6} and aggregate: ['mean', 'std', 'max', 'min']\n",
      "Testing model: XGBRegressor with hyperparameters: {'n_estimators': 50, 'max_depth': 10} and aggregate: ['mean', 'std', 'max', 'min']\n",
      "Testing model: XGBRegressor with hyperparameters: {'n_estimators': 100, 'max_depth': 6} and aggregate: ['mean', 'std', 'max', 'min']\n",
      "Testing model: XGBRegressor with hyperparameters: {'n_estimators': 100, 'max_depth': 10} and aggregate: ['mean', 'std', 'max', 'min']\n",
      "Testing model: XGBRegressor. Average Root Mean Squared Error per output: [0.96792038 1.93924888]. \n",
      "Testing model: XGBRegressor. Average Root Mean Squared Error per output: [0.95542299 1.98588229]. \n",
      "Testing model: XGBRegressor. Average Root Mean Squared Error per output: [0.9896963  1.93736217]. \n",
      "Testing model: XGBRegressor. Average Root Mean Squared Error per output: [0.95264702 1.9859922 ]. \n",
      "Testing model: XGBRegressor. Average Root Mean Squared Error per output: [1.3065389  3.96271739]. \n",
      "Testing model: XGBRegressor. Average Root Mean Squared Error per output: [1.31935106 3.95932871]. \n",
      "Testing model: XGBRegressor. Average Root Mean Squared Error per output: [1.31068944 3.96811544]. \n",
      "Testing model: XGBRegressor. Average Root Mean Squared Error per output: [1.86905969 2.90139894]. \n",
      "Testing model: XGBRegressor. Average Root Mean Squared Error per output: [1.32083211 3.96188074]. \n",
      "Testing model: XGBRegressor. Average Root Mean Squared Error per output: [1.9188878  2.85929385]. \n",
      "Testing model: XGBRegressor. Average Root Mean Squared Error per output: [1.87211603 2.899647  ]. \n"
     ]
    },
    {
     "name": "stderr",
     "output_type": "stream",
     "text": [
      "Processing subject:  73%|\u001b[32m███████▎  \u001b[0m| 22/30 [12:49:58<4:41:03, 2107.94s/subject]"
     ]
    },
    {
     "name": "stdout",
     "output_type": "stream",
     "text": [
      "Testing model: XGBRegressor. Average Root Mean Squared Error per output: [1.91795205 2.85948152]. \n",
      "Processing video: 10\n"
     ]
    },
    {
     "name": "stderr",
     "output_type": "stream",
     "text": []
    },
    {
     "name": "stdout",
     "output_type": "stream",
     "text": [
      "Testing model: RandomForestRegressor with hyperparameters: {'n_estimators': 50, 'max_depth': 10, 'min_samples_split': 2} and aggregate: ['min']\n",
      "Testing model: RandomForestRegressor with hyperparameters: {'n_estimators': 50, 'max_depth': 10, 'min_samples_split': 5} and aggregate: ['min']\n",
      "Testing model: RandomForestRegressor with hyperparameters: {'n_estimators': 50, 'max_depth': None, 'min_samples_split': 2} and aggregate: ['min']\n",
      "Testing model: RandomForestRegressor with hyperparameters: {'n_estimators': 50, 'max_depth': None, 'min_samples_split': 5} and aggregate: ['min']\n",
      "Testing model: RandomForestRegressor with hyperparameters: {'n_estimators': 100, 'max_depth': 10, 'min_samples_split': 2} and aggregate: ['min']\n",
      "Testing model: RandomForestRegressor with hyperparameters: {'n_estimators': 100, 'max_depth': 10, 'min_samples_split': 5} and aggregate: ['min']\n",
      "Testing model: RandomForestRegressor with hyperparameters: {'n_estimators': 100, 'max_depth': None, 'min_samples_split': 2} and aggregate: ['min']\n",
      "Testing model: RandomForestRegressor with hyperparameters: {'n_estimators': 100, 'max_depth': None, 'min_samples_split': 5} and aggregate: ['min']\n"
     ]
    },
    {
     "name": "stderr",
     "output_type": "stream",
     "text": []
    },
    {
     "name": "stdout",
     "output_type": "stream",
     "text": [
      "Testing model: RandomForestRegressor. Average Root Mean Squared Error per output: [0.50019103 1.3685062 ]. \n",
      "Testing model: RandomForestRegressor. Average Root Mean Squared Error per output: [0.49293229 1.34319943]. \n",
      "Testing model: RandomForestRegressor. Average Root Mean Squared Error per output: [0.50680868 1.34880843]. \n",
      "Testing model: RandomForestRegressor. Average Root Mean Squared Error per output: [0.49840136 1.35092505]. \n",
      "Testing model: RandomForestRegressor. Average Root Mean Squared Error per output: [0.51101395 1.32817552]. \n",
      "Testing model: RandomForestRegressor. Average Root Mean Squared Error per output: [0.49914943 1.31093163]. \n",
      "Testing model: RandomForestRegressor. Average Root Mean Squared Error per output: [0.62556939 1.7578615 ]. \n",
      "Testing model: RandomForestRegressor. Average Root Mean Squared Error per output: [0.618515   1.75721684]. \n",
      "Testing model: RandomForestRegressor. Average Root Mean Squared Error per output: [0.62053477 1.75831814]. \n",
      "Testing model: RandomForestRegressor. Average Root Mean Squared Error per output: [0.50237807 1.31858048]. \n",
      "Testing model: RandomForestRegressor. Average Root Mean Squared Error per output: [0.61928223 1.75714116]. \n",
      "Testing model: RandomForestRegressor. Average Root Mean Squared Error per output: [0.50307077 1.33500605]. \n",
      "Testing model: RandomForestRegressor. Average Root Mean Squared Error per output: [0.62906835 2.80883683]. \n",
      "Testing model: RandomForestRegressor. Average Root Mean Squared Error per output: [0.62152221 2.83604198]. \n",
      "Testing model: RandomForestRegressor. Average Root Mean Squared Error per output: [0.60133529 2.8247482 ]. \n",
      "Testing model: RandomForestRegressor. Average Root Mean Squared Error per output: [0.62681938 2.80935226]. \n",
      "Testing model: RandomForestRegressor. Average Root Mean Squared Error per output: [0.6172367  1.75620456]. \n",
      "Testing model: RandomForestRegressor. Average Root Mean Squared Error per output: [0.63036716 1.75609968]. \n",
      "Testing model: RandomForestRegressor. Average Root Mean Squared Error per output: [0.62426498 1.75654512]. \n",
      "Testing model: RandomForestRegressor. Average Root Mean Squared Error per output: [0.61445688 1.7562702 ]. \n",
      "Testing model: RandomForestRegressor. Average Root Mean Squared Error per output: [0.62094538 2.83018629]. \n",
      "Testing model: RandomForestRegressor. Average Root Mean Squared Error per output: [0.61554247 2.82769303]. \n",
      "Testing model: RandomForestRegressor. Average Root Mean Squared Error per output: [0.62094282 2.79935887]. \n",
      "Testing model: RandomForestRegressor. Average Root Mean Squared Error per output: [0.63777398 2.84173283]. \n"
     ]
    },
    {
     "name": "stderr",
     "output_type": "stream",
     "text": []
    },
    {
     "name": "stdout",
     "output_type": "stream",
     "text": [
      "Testing model: XGBRegressor with hyperparameters: {'n_estimators': 50, 'max_depth': 6} and aggregate: ['min']\n",
      "Testing model: XGBRegressor with hyperparameters: {'n_estimators': 50, 'max_depth': 10} and aggregate: ['min']\n",
      "Testing model: XGBRegressor with hyperparameters: {'n_estimators': 100, 'max_depth': 6} and aggregate: ['min']\n",
      "Testing model: XGBRegressor with hyperparameters: {'n_estimators': 100, 'max_depth': 10} and aggregate: ['min']\n",
      "Testing model: XGBRegressor. Average Root Mean Squared Error per output: [0.54045061 1.75420969]. \n",
      "Testing model: XGBRegressor. Average Root Mean Squared Error per output: [0.59858338 1.90039835]. \n",
      "Testing model: XGBRegressor. Average Root Mean Squared Error per output: [0.53741646 1.74740947]. \n",
      "Testing model: XGBRegressor. Average Root Mean Squared Error per output: [0.64206856 1.78329425]. \n",
      "Testing model: XGBRegressor. Average Root Mean Squared Error per output: [0.59917293 1.90270936]. \n",
      "Testing model: XGBRegressor. Average Root Mean Squared Error per output: [0.59292931 1.77151724]. \n",
      "Testing model: XGBRegressor. Average Root Mean Squared Error per output: [0.67679423 2.46522064]. \n",
      "Testing model: XGBRegressor. Average Root Mean Squared Error per output: [0.64943657 1.77784789]. \n",
      "Testing model: XGBRegressor. Average Root Mean Squared Error per output: [0.6973606  2.50794427]. \n",
      "Testing model: XGBRegressor. Average Root Mean Squared Error per output: [0.69347964 2.45960203]. \n",
      "Testing model: XGBRegressor. Average Root Mean Squared Error per output: [0.59481623 1.77189621]. \n",
      "Testing model: XGBRegressor. Average Root Mean Squared Error per output: [0.69586771 2.49528855]. \n"
     ]
    },
    {
     "name": "stderr",
     "output_type": "stream",
     "text": []
    },
    {
     "name": "stdout",
     "output_type": "stream",
     "text": [
      "Testing model: RandomForestRegressor with hyperparameters: {'n_estimators': 50, 'max_depth': 10, 'min_samples_split': 2} and aggregate: ['mean', 'std', 'max', 'min']\n",
      "Testing model: RandomForestRegressor with hyperparameters: {'n_estimators': 50, 'max_depth': 10, 'min_samples_split': 5} and aggregate: ['mean', 'std', 'max', 'min']\n",
      "Testing model: RandomForestRegressor with hyperparameters: {'n_estimators': 50, 'max_depth': None, 'min_samples_split': 2} and aggregate: ['mean', 'std', 'max', 'min']\n",
      "Testing model: RandomForestRegressor with hyperparameters: {'n_estimators': 50, 'max_depth': None, 'min_samples_split': 5} and aggregate: ['mean', 'std', 'max', 'min']\n",
      "Testing model: RandomForestRegressor with hyperparameters: {'n_estimators': 100, 'max_depth': 10, 'min_samples_split': 2} and aggregate: ['mean', 'std', 'max', 'min']\n",
      "Testing model: RandomForestRegressor with hyperparameters: {'n_estimators': 100, 'max_depth': 10, 'min_samples_split': 5} and aggregate: ['mean', 'std', 'max', 'min']\n",
      "Testing model: RandomForestRegressor with hyperparameters: {'n_estimators': 100, 'max_depth': None, 'min_samples_split': 2} and aggregate: ['mean', 'std', 'max', 'min']\n",
      "Testing model: RandomForestRegressor with hyperparameters: {'n_estimators': 100, 'max_depth': None, 'min_samples_split': 5} and aggregate: ['mean', 'std', 'max', 'min']\n",
      "Testing model: RandomForestRegressor. Average Root Mean Squared Error per output: [0.45328123 1.59820898]. \n",
      "Testing model: RandomForestRegressor. Average Root Mean Squared Error per output: [0.44108389 1.52769294]. \n",
      "Testing model: RandomForestRegressor. Average Root Mean Squared Error per output: [0.44125596 1.51142491]. \n",
      "Testing model: RandomForestRegressor. Average Root Mean Squared Error per output: [0.44981469 1.55255517]. \n",
      "Testing model: RandomForestRegressor. Average Root Mean Squared Error per output: [0.44075128 1.56244415]. \n",
      "Testing model: RandomForestRegressor. Average Root Mean Squared Error per output: [0.44109085 1.52490357]. \n",
      "Testing model: RandomForestRegressor. Average Root Mean Squared Error per output: [0.44893143 1.62543651]. \n",
      "Testing model: RandomForestRegressor. Average Root Mean Squared Error per output: [0.63439027 1.71596057]. \n",
      "Testing model: RandomForestRegressor. Average Root Mean Squared Error per output: [0.63904306 1.71763676]. \n",
      "Testing model: RandomForestRegressor. Average Root Mean Squared Error per output: [0.45456965 1.55669582]. \n",
      "Testing model: RandomForestRegressor. Average Root Mean Squared Error per output: [0.63655015 1.71847598]. \n",
      "Testing model: RandomForestRegressor. Average Root Mean Squared Error per output: [0.63355231 1.71458011]. \n",
      "Testing model: RandomForestRegressor. Average Root Mean Squared Error per output: [0.6436918 1.71476  ]. \n",
      "Testing model: RandomForestRegressor. Average Root Mean Squared Error per output: [0.57208076 3.39038709]. \n",
      "Testing model: RandomForestRegressor. Average Root Mean Squared Error per output: [0.57227383 3.35999616]. \n",
      "Testing model: RandomForestRegressor. Average Root Mean Squared Error per output: [0.57169375 3.37502806]. \n",
      "Testing model: RandomForestRegressor. Average Root Mean Squared Error per output: [0.5705696  3.37117862]. \n",
      "Testing model: RandomForestRegressor. Average Root Mean Squared Error per output: [0.6326854  1.71671679]. \n",
      "Testing model: RandomForestRegressor. Average Root Mean Squared Error per output: [0.62186428 1.71662659]. \n",
      "Testing model: RandomForestRegressor. Average Root Mean Squared Error per output: [0.57208337 3.41242419]. \n",
      "Testing model: RandomForestRegressor. Average Root Mean Squared Error per output: [0.63988149 1.71501484]. \n",
      "Testing model: RandomForestRegressor. Average Root Mean Squared Error per output: [0.57414146 3.39224649]. \n",
      "Testing model: RandomForestRegressor. Average Root Mean Squared Error per output: [0.57676651 3.41109742]. \n",
      "Testing model: RandomForestRegressor. Average Root Mean Squared Error per output: [0.57434746 3.37740268]. \n"
     ]
    },
    {
     "name": "stderr",
     "output_type": "stream",
     "text": []
    },
    {
     "name": "stdout",
     "output_type": "stream",
     "text": [
      "Testing model: XGBRegressor with hyperparameters: {'n_estimators': 50, 'max_depth': 6} and aggregate: ['mean', 'std', 'max', 'min']\n",
      "Testing model: XGBRegressor with hyperparameters: {'n_estimators': 50, 'max_depth': 10} and aggregate: ['mean', 'std', 'max', 'min']\n",
      "Testing model: XGBRegressor with hyperparameters: {'n_estimators': 100, 'max_depth': 6} and aggregate: ['mean', 'std', 'max', 'min']\n",
      "Testing model: XGBRegressor with hyperparameters: {'n_estimators': 100, 'max_depth': 10} and aggregate: ['mean', 'std', 'max', 'min']\n",
      "Testing model: XGBRegressor. Average Root Mean Squared Error per output: [0.72711054 1.36897521]. \n",
      "Testing model: XGBRegressor. Average Root Mean Squared Error per output: [0.81576193 1.26548584]. \n",
      "Testing model: XGBRegressor. Average Root Mean Squared Error per output: [0.72749964 1.37131694]. \n",
      "Testing model: XGBRegressor. Average Root Mean Squared Error per output: [0.80831402 1.26473552]. \n",
      "Testing model: XGBRegressor. Average Root Mean Squared Error per output: [0.7082455  1.79401841]. \n",
      "Testing model: XGBRegressor. Average Root Mean Squared Error per output: [0.64271029 1.78877049]. \n",
      "Testing model: XGBRegressor. Average Root Mean Squared Error per output: [0.6963409  1.79045594]. \n",
      "Testing model: XGBRegressor. Average Root Mean Squared Error per output: [0.64466306 1.78834361]. \n",
      "Testing model: XGBRegressor. Average Root Mean Squared Error per output: [0.57559034 2.98467258]. \n",
      "Testing model: XGBRegressor. Average Root Mean Squared Error per output: [0.58776579 2.94112205]. \n",
      "Testing model: XGBRegressor. Average Root Mean Squared Error per output: [0.57622299 2.98340405]. \n"
     ]
    },
    {
     "name": "stderr",
     "output_type": "stream",
     "text": [
      "Processing subject:  77%|\u001b[32m███████▋  \u001b[0m| 23/30 [13:25:53<4:07:35, 2122.27s/subject]"
     ]
    },
    {
     "name": "stdout",
     "output_type": "stream",
     "text": [
      "Testing model: XGBRegressor. Average Root Mean Squared Error per output: [0.58596387 2.9385085 ]. \n",
      "Processing video: 39\n"
     ]
    },
    {
     "name": "stderr",
     "output_type": "stream",
     "text": []
    },
    {
     "name": "stdout",
     "output_type": "stream",
     "text": [
      "Testing model: RandomForestRegressor with hyperparameters: {'n_estimators': 50, 'max_depth': 10, 'min_samples_split': 2} and aggregate: ['min']\n",
      "Testing model: RandomForestRegressor with hyperparameters: {'n_estimators': 50, 'max_depth': 10, 'min_samples_split': 5} and aggregate: ['min']\n",
      "Testing model: RandomForestRegressor with hyperparameters: {'n_estimators': 50, 'max_depth': None, 'min_samples_split': 2} and aggregate: ['min']\n",
      "Testing model: RandomForestRegressor with hyperparameters: {'n_estimators': 50, 'max_depth': None, 'min_samples_split': 5} and aggregate: ['min']\n",
      "Testing model: RandomForestRegressor with hyperparameters: {'n_estimators': 100, 'max_depth': 10, 'min_samples_split': 2} and aggregate: ['min']\n",
      "Testing model: RandomForestRegressor with hyperparameters: {'n_estimators': 100, 'max_depth': 10, 'min_samples_split': 5} and aggregate: ['min']\n"
     ]
    },
    {
     "name": "stderr",
     "output_type": "stream",
     "text": []
    },
    {
     "name": "stdout",
     "output_type": "stream",
     "text": [
      "Testing model: RandomForestRegressor with hyperparameters: {'n_estimators': 100, 'max_depth': None, 'min_samples_split': 2} and aggregate: ['min']\n",
      "Testing model: RandomForestRegressor with hyperparameters: {'n_estimators': 100, 'max_depth': None, 'min_samples_split': 5} and aggregate: ['min']\n",
      "Testing model: RandomForestRegressor. Average Root Mean Squared Error per output: [0.63886834 0.57913872]. \n",
      "Testing model: RandomForestRegressor. Average Root Mean Squared Error per output: [0.64619431 0.5661873 ]. \n",
      "Testing model: RandomForestRegressor. Average Root Mean Squared Error per output: [0.65204134 0.58686765]. \n",
      "Testing model: RandomForestRegressor. Average Root Mean Squared Error per output: [0.64739562 0.57681134]. \n",
      "Testing model: RandomForestRegressor. Average Root Mean Squared Error per output: [0.64311576 0.57518039]. \n",
      "Testing model: RandomForestRegressor. Average Root Mean Squared Error per output: [0.64597454 0.57703297]. \n",
      "Testing model: RandomForestRegressor. Average Root Mean Squared Error per output: [1.04200268 1.05804775]. \n",
      "Testing model: RandomForestRegressor. Average Root Mean Squared Error per output: [1.06892203 1.07361478]. \n",
      "Testing model: RandomForestRegressor. Average Root Mean Squared Error per output: [1.06074887 1.05604396]. \n",
      "Testing model: RandomForestRegressor. Average Root Mean Squared Error per output: [0.64362287 0.56985656]. \n",
      "Testing model: RandomForestRegressor. Average Root Mean Squared Error per output: [0.64387026 0.57822108]. \n",
      "Testing model: RandomForestRegressor. Average Root Mean Squared Error per output: [1.06062355 1.06159605]. \n",
      "Testing model: RandomForestRegressor. Average Root Mean Squared Error per output: [0.9365856  0.92539603]. \n",
      "Testing model: RandomForestRegressor. Average Root Mean Squared Error per output: [0.9170492  0.92581024]. \n",
      "Testing model: RandomForestRegressor. Average Root Mean Squared Error per output: [0.92004356 0.93766718]. \n",
      "Testing model: RandomForestRegressor. Average Root Mean Squared Error per output: [0.91917483 0.93140836]. \n",
      "Testing model: RandomForestRegressor. Average Root Mean Squared Error per output: [1.06117105 1.0570352 ]. \n",
      "Testing model: RandomForestRegressor. Average Root Mean Squared Error per output: [1.06017413 1.06397286]. \n",
      "Testing model: RandomForestRegressor. Average Root Mean Squared Error per output: [1.05439867 1.06638964]. \n",
      "Testing model: RandomForestRegressor. Average Root Mean Squared Error per output: [1.04713086 1.06341339]. \n",
      "Testing model: RandomForestRegressor. Average Root Mean Squared Error per output: [0.92959884 0.92013295]. \n",
      "Testing model: RandomForestRegressor. Average Root Mean Squared Error per output: [0.92073074 0.92766704]. \n",
      "Testing model: RandomForestRegressor. Average Root Mean Squared Error per output: [0.92681555 0.92416511]. \n",
      "Testing model: RandomForestRegressor. Average Root Mean Squared Error per output: [0.91866253 0.92281886]. \n"
     ]
    },
    {
     "name": "stderr",
     "output_type": "stream",
     "text": []
    },
    {
     "name": "stdout",
     "output_type": "stream",
     "text": [
      "Testing model: XGBRegressor with hyperparameters: {'n_estimators': 50, 'max_depth': 6} and aggregate: ['min']\n",
      "Testing model: XGBRegressor with hyperparameters: {'n_estimators': 50, 'max_depth': 10} and aggregate: ['min']\n",
      "Testing model: XGBRegressor with hyperparameters: {'n_estimators': 100, 'max_depth': 6} and aggregate: ['min']\n",
      "Testing model: XGBRegressor with hyperparameters: {'n_estimators': 100, 'max_depth': 10} and aggregate: ['min']\n",
      "Testing model: XGBRegressor. Average Root Mean Squared Error per output: [0.66915749 0.80147028]. \n",
      "Testing model: XGBRegressor. Average Root Mean Squared Error per output: [0.68402476 0.78593918]. \n",
      "Testing model: XGBRegressor. Average Root Mean Squared Error per output: [0.66391713 0.80033234]. \n",
      "Testing model: XGBRegressor. Average Root Mean Squared Error per output: [0.68126914 0.78564688]. \n",
      "Testing model: XGBRegressor. Average Root Mean Squared Error per output: [1.01588627 1.17573369]. \n",
      "Testing model: XGBRegressor. Average Root Mean Squared Error per output: [1.07047894 1.20675274]. \n",
      "Testing model: XGBRegressor. Average Root Mean Squared Error per output: [0.85192403 0.84663961]. \n",
      "Testing model: XGBRegressor. Average Root Mean Squared Error per output: [1.0068874  1.16647858]. \n",
      "Testing model: XGBRegressor. Average Root Mean Squared Error per output: [0.86090804 0.8598031 ]. \n",
      "Testing model: XGBRegressor. Average Root Mean Squared Error per output: [1.07201562 1.2046121 ]. \n",
      "Testing model: XGBRegressor. Average Root Mean Squared Error per output: [0.85161987 0.84772576]. \n",
      "Testing model: XGBRegressor. Average Root Mean Squared Error per output: [0.8605126  0.85862847]. \n"
     ]
    },
    {
     "name": "stderr",
     "output_type": "stream",
     "text": []
    },
    {
     "name": "stdout",
     "output_type": "stream",
     "text": [
      "Testing model: RandomForestRegressor with hyperparameters: {'n_estimators': 50, 'max_depth': 10, 'min_samples_split': 2} and aggregate: ['mean', 'std', 'max', 'min']\n",
      "Testing model: RandomForestRegressor with hyperparameters: {'n_estimators': 50, 'max_depth': 10, 'min_samples_split': 5} and aggregate: ['mean', 'std', 'max', 'min']\n",
      "Testing model: RandomForestRegressor with hyperparameters: {'n_estimators': 50, 'max_depth': None, 'min_samples_split': 2} and aggregate: ['mean', 'std', 'max', 'min']\n",
      "Testing model: RandomForestRegressor with hyperparameters: {'n_estimators': 50, 'max_depth': None, 'min_samples_split': 5} and aggregate: ['mean', 'std', 'max', 'min']\n",
      "Testing model: RandomForestRegressor with hyperparameters: {'n_estimators': 100, 'max_depth': 10, 'min_samples_split': 2} and aggregate: ['mean', 'std', 'max', 'min']\n",
      "Testing model: RandomForestRegressor with hyperparameters: {'n_estimators': 100, 'max_depth': 10, 'min_samples_split': 5} and aggregate: ['mean', 'std', 'max', 'min']\n",
      "Testing model: RandomForestRegressor with hyperparameters: {'n_estimators': 100, 'max_depth': None, 'min_samples_split': 2} and aggregate: ['mean', 'std', 'max', 'min']\n",
      "Testing model: RandomForestRegressor with hyperparameters: {'n_estimators': 100, 'max_depth': None, 'min_samples_split': 5} and aggregate: ['mean', 'std', 'max', 'min']\n",
      "Testing model: RandomForestRegressor. Average Root Mean Squared Error per output: [0.6463558  1.37081712]. \n",
      "Testing model: RandomForestRegressor. Average Root Mean Squared Error per output: [0.64502594 1.30226016]. \n",
      "Testing model: RandomForestRegressor. Average Root Mean Squared Error per output: [0.64479406 1.33082461]. \n",
      "Testing model: RandomForestRegressor. Average Root Mean Squared Error per output: [0.64478583 1.33764845]. \n",
      "Testing model: RandomForestRegressor. Average Root Mean Squared Error per output: [0.64370785 1.34019514]. \n",
      "Testing model: RandomForestRegressor. Average Root Mean Squared Error per output: [0.64599328 1.35072316]. \n",
      "Testing model: RandomForestRegressor. Average Root Mean Squared Error per output: [0.64529633 1.32520449]. \n",
      "Testing model: RandomForestRegressor. Average Root Mean Squared Error per output: [1.05917149 1.17103785]. \n",
      "Testing model: RandomForestRegressor. Average Root Mean Squared Error per output: [0.64618187 1.3456367 ]. \n",
      "Testing model: RandomForestRegressor. Average Root Mean Squared Error per output: [1.04324774 1.1784257 ]. \n",
      "Testing model: RandomForestRegressor. Average Root Mean Squared Error per output: [1.03169234 1.16694293]. \n",
      "Testing model: RandomForestRegressor. Average Root Mean Squared Error per output: [1.06574049 1.16973961]. \n",
      "Testing model: RandomForestRegressor. Average Root Mean Squared Error per output: [1.03821663 1.16868223]. \n",
      "Testing model: RandomForestRegressor. Average Root Mean Squared Error per output: [1.04269549 1.11474311]. \n",
      "Testing model: RandomForestRegressor. Average Root Mean Squared Error per output: [1.03233006 1.16965776]. \n",
      "Testing model: RandomForestRegressor. Average Root Mean Squared Error per output: [1.0525909  1.11784625]. \n",
      "Testing model: RandomForestRegressor. Average Root Mean Squared Error per output: [1.03775585 1.11399862]. \n",
      "Testing model: RandomForestRegressor. Average Root Mean Squared Error per output: [1.03355264 1.12041161]. \n",
      "Testing model: RandomForestRegressor. Average Root Mean Squared Error per output: [1.04954356 1.17092402]. \n",
      "Testing model: RandomForestRegressor. Average Root Mean Squared Error per output: [1.06981835 1.18054542]. \n",
      "Testing model: RandomForestRegressor. Average Root Mean Squared Error per output: [1.03740478 1.11762128]. \n",
      "Testing model: RandomForestRegressor. Average Root Mean Squared Error per output: [1.04103199 1.11931158]. \n",
      "Testing model: RandomForestRegressor. Average Root Mean Squared Error per output: [1.04118477 1.12018281]. \n",
      "Testing model: RandomForestRegressor. Average Root Mean Squared Error per output: [1.03432393 1.12148219]. \n"
     ]
    },
    {
     "name": "stderr",
     "output_type": "stream",
     "text": []
    },
    {
     "name": "stdout",
     "output_type": "stream",
     "text": [
      "Testing model: XGBRegressor with hyperparameters: {'n_estimators': 50, 'max_depth': 6} and aggregate: ['mean', 'std', 'max', 'min']\n",
      "Testing model: XGBRegressor with hyperparameters: {'n_estimators': 50, 'max_depth': 10} and aggregate: ['mean', 'std', 'max', 'min']\n",
      "Testing model: XGBRegressor with hyperparameters: {'n_estimators': 100, 'max_depth': 6} and aggregate: ['mean', 'std', 'max', 'min']\n",
      "Testing model: XGBRegressor with hyperparameters: {'n_estimators': 100, 'max_depth': 10} and aggregate: ['mean', 'std', 'max', 'min']\n",
      "Testing model: XGBRegressor. Average Root Mean Squared Error per output: [0.63628565 1.31685186]. \n",
      "Testing model: XGBRegressor. Average Root Mean Squared Error per output: [0.63487516 1.31897122]. \n",
      "Testing model: XGBRegressor. Average Root Mean Squared Error per output: [0.64454846 1.32600872]. \n",
      "Testing model: XGBRegressor. Average Root Mean Squared Error per output: [0.64576686 1.32481487]. \n",
      "Testing model: XGBRegressor. Average Root Mean Squared Error per output: [0.7649919  1.17259743]. \n",
      "Testing model: XGBRegressor. Average Root Mean Squared Error per output: [0.87124606 1.26552917]. \n",
      "Testing model: XGBRegressor. Average Root Mean Squared Error per output: [0.74337099 1.17964033]. \n",
      "Testing model: XGBRegressor. Average Root Mean Squared Error per output: [0.873825   1.26687662]. \n",
      "Testing model: XGBRegressor. Average Root Mean Squared Error per output: [1.18263688 1.08282746]. \n",
      "Testing model: XGBRegressor. Average Root Mean Squared Error per output: [1.18284838 1.16015321]. \n",
      "Testing model: XGBRegressor. Average Root Mean Squared Error per output: [1.17601103 1.08089117]. \n"
     ]
    },
    {
     "name": "stderr",
     "output_type": "stream",
     "text": [
      "Processing subject:  80%|\u001b[32m████████  \u001b[0m| 24/30 [14:01:44<3:33:04, 2130.75s/subject]"
     ]
    },
    {
     "name": "stdout",
     "output_type": "stream",
     "text": [
      "Testing model: XGBRegressor. Average Root Mean Squared Error per output: [1.18069748 1.16202611]. \n",
      "Processing video: 44\n"
     ]
    },
    {
     "name": "stderr",
     "output_type": "stream",
     "text": []
    },
    {
     "name": "stdout",
     "output_type": "stream",
     "text": [
      "Testing model: RandomForestRegressor with hyperparameters: {'n_estimators': 50, 'max_depth': 10, 'min_samples_split': 2} and aggregate: ['min']\n",
      "Testing model: RandomForestRegressor with hyperparameters: {'n_estimators': 50, 'max_depth': 10, 'min_samples_split': 5} and aggregate: ['min']\n",
      "Testing model: RandomForestRegressor with hyperparameters: {'n_estimators': 50, 'max_depth': None, 'min_samples_split': 2} and aggregate: ['min']\n",
      "Testing model: RandomForestRegressor with hyperparameters: {'n_estimators': 50, 'max_depth': None, 'min_samples_split': 5} and aggregate: ['min']\n",
      "Testing model: RandomForestRegressor with hyperparameters: {'n_estimators': 100, 'max_depth': 10, 'min_samples_split': 2} and aggregate: ['min']\n"
     ]
    },
    {
     "name": "stderr",
     "output_type": "stream",
     "text": [
      "\n"
     ]
    },
    {
     "name": "stdout",
     "output_type": "stream",
     "text": [
      "Testing model: RandomForestRegressor with hyperparameters: {'n_estimators': 100, 'max_depth': 10, 'min_samples_split': 5} and aggregate: ['min']\n",
      "Testing model: RandomForestRegressor with hyperparameters: {'n_estimators': 100, 'max_depth': None, 'min_samples_split': 2} and aggregate: ['min']\n",
      "Testing model: RandomForestRegressor with hyperparameters: {'n_estimators': 100, 'max_depth': None, 'min_samples_split': 5} and aggregate: ['min']\n"
     ]
    },
    {
     "name": "stderr",
     "output_type": "stream",
     "text": [
      "                                                                              \u001b[A"
     ]
    },
    {
     "name": "stdout",
     "output_type": "stream",
     "text": [
      "Testing model: RandomForestRegressor. Average Root Mean Squared Error per output: [0.26964752 0.93584268]. \n",
      "Testing model: RandomForestRegressor. Average Root Mean Squared Error per output: [0.26755659 0.94164325]. \n",
      "Testing model: RandomForestRegressor. Average Root Mean Squared Error per output: [0.27677699 0.94050722]. \n",
      "Testing model: RandomForestRegressor. Average Root Mean Squared Error per output: [0.27113963 0.94248543]. \n",
      "Testing model: RandomForestRegressor. Average Root Mean Squared Error per output: [0.59697961 1.13653413]. \n",
      "Testing model: RandomForestRegressor. Average Root Mean Squared Error per output: [0.59930033 1.09348447]. \n",
      "Testing model: RandomForestRegressor. Average Root Mean Squared Error per output: [0.26204929 0.94058016]. \n",
      "Testing model: RandomForestRegressor. Average Root Mean Squared Error per output: [0.26472898 0.94081429]. \n",
      "Testing model: RandomForestRegressor. Average Root Mean Squared Error per output: [0.26562112 0.95042995]. \n",
      "Testing model: RandomForestRegressor. Average Root Mean Squared Error per output: [0.59795181 1.12283499]. \n",
      "Testing model: RandomForestRegressor. Average Root Mean Squared Error per output: [0.60530464 1.11615246]. \n",
      "Testing model: RandomForestRegressor. Average Root Mean Squared Error per output: [0.26656278 0.94216531]. \n",
      "Testing model: RandomForestRegressor. Average Root Mean Squared Error per output: [1.19654989 0.69842426]. \n",
      "Testing model: RandomForestRegressor. Average Root Mean Squared Error per output: [1.1877903  0.71848395]. \n",
      "Testing model: RandomForestRegressor. Average Root Mean Squared Error per output: [1.1824386  0.70455031]. \n",
      "Testing model: RandomForestRegressor. Average Root Mean Squared Error per output: [1.19890981 0.70016471]. \n",
      "Testing model: RandomForestRegressor. Average Root Mean Squared Error per output: [0.60141597 1.10843037]. \n",
      "Testing model: RandomForestRegressor. Average Root Mean Squared Error per output: [0.59932444 1.1052122 ]. \n",
      "Testing model: RandomForestRegressor. Average Root Mean Squared Error per output: [0.5973376  1.10944546]. \n",
      "Testing model: RandomForestRegressor. Average Root Mean Squared Error per output: [0.59939108 1.11482498]. \n",
      "Testing model: RandomForestRegressor. Average Root Mean Squared Error per output: [1.18084247 0.70889543]. \n",
      "Testing model: RandomForestRegressor. Average Root Mean Squared Error per output: [1.19225675 0.71240927]. \n",
      "Testing model: RandomForestRegressor. Average Root Mean Squared Error per output: [1.19470409 0.70843122]. \n",
      "Testing model: RandomForestRegressor. Average Root Mean Squared Error per output: [1.18559739 0.72285731]. \n"
     ]
    },
    {
     "name": "stderr",
     "output_type": "stream",
     "text": []
    },
    {
     "name": "stdout",
     "output_type": "stream",
     "text": [
      "Testing model: XGBRegressor with hyperparameters: {'n_estimators': 50, 'max_depth': 6} and aggregate: ['min']\n",
      "Testing model: XGBRegressor with hyperparameters: {'n_estimators': 50, 'max_depth': 10} and aggregate: ['min']\n",
      "Testing model: XGBRegressor with hyperparameters: {'n_estimators': 100, 'max_depth': 6} and aggregate: ['min']\n",
      "Testing model: XGBRegressor with hyperparameters: {'n_estimators': 100, 'max_depth': 10} and aggregate: ['min']\n",
      "Testing model: XGBRegressor. Average Root Mean Squared Error per output: [0.42853361 0.97712337]. \n",
      "Testing model: XGBRegressor. Average Root Mean Squared Error per output: [0.38309371 0.96911179]. \n",
      "Testing model: XGBRegressor. Average Root Mean Squared Error per output: [0.41554072 0.98617671]. \n",
      "Testing model: XGBRegressor. Average Root Mean Squared Error per output: [0.59774302 1.04221466]. \n",
      "Testing model: XGBRegressor. Average Root Mean Squared Error per output: [0.38356854 0.97003056]. \n",
      "Testing model: XGBRegressor. Average Root Mean Squared Error per output: [0.59582611 1.12085678]. \n",
      "Testing model: XGBRegressor. Average Root Mean Squared Error per output: [1.29400051 0.8623839 ]. \n",
      "Testing model: XGBRegressor. Average Root Mean Squared Error per output: [0.6011909  1.02214592]. \n",
      "Testing model: XGBRegressor. Average Root Mean Squared Error per output: [1.28399665 0.861698  ]. \n",
      "Testing model: XGBRegressor. Average Root Mean Squared Error per output: [0.59558721 1.11330258]. \n",
      "Testing model: XGBRegressor. Average Root Mean Squared Error per output: [1.29591293 0.87298745]. \n",
      "Testing model: XGBRegressor. Average Root Mean Squared Error per output: [1.28452583 0.86169793]. \n"
     ]
    },
    {
     "name": "stderr",
     "output_type": "stream",
     "text": []
    },
    {
     "name": "stdout",
     "output_type": "stream",
     "text": [
      "Testing model: RandomForestRegressor with hyperparameters: {'n_estimators': 50, 'max_depth': 10, 'min_samples_split': 2} and aggregate: ['mean', 'std', 'max', 'min']\n",
      "Testing model: RandomForestRegressor with hyperparameters: {'n_estimators': 50, 'max_depth': 10, 'min_samples_split': 5} and aggregate: ['mean', 'std', 'max', 'min']\n",
      "Testing model: RandomForestRegressor with hyperparameters: {'n_estimators': 50, 'max_depth': None, 'min_samples_split': 2} and aggregate: ['mean', 'std', 'max', 'min']\n",
      "Testing model: RandomForestRegressor with hyperparameters: {'n_estimators': 50, 'max_depth': None, 'min_samples_split': 5} and aggregate: ['mean', 'std', 'max', 'min']\n",
      "Testing model: RandomForestRegressor with hyperparameters: {'n_estimators': 100, 'max_depth': 10, 'min_samples_split': 2} and aggregate: ['mean', 'std', 'max', 'min']\n"
     ]
    },
    {
     "name": "stderr",
     "output_type": "stream",
     "text": [
      "\n"
     ]
    },
    {
     "name": "stdout",
     "output_type": "stream",
     "text": [
      "Testing model: RandomForestRegressor with hyperparameters: {'n_estimators': 100, 'max_depth': 10, 'min_samples_split': 5} and aggregate: ['mean', 'std', 'max', 'min']\n",
      "Testing model: RandomForestRegressor with hyperparameters: {'n_estimators': 100, 'max_depth': None, 'min_samples_split': 2} and aggregate: ['mean', 'std', 'max', 'min']\n",
      "Testing model: RandomForestRegressor with hyperparameters: {'n_estimators': 100, 'max_depth': None, 'min_samples_split': 5} and aggregate: ['mean', 'std', 'max', 'min']\n"
     ]
    },
    {
     "name": "stderr",
     "output_type": "stream",
     "text": [
      "                                                                              \u001b[A"
     ]
    },
    {
     "name": "stdout",
     "output_type": "stream",
     "text": [
      "Testing model: RandomForestRegressor. Average Root Mean Squared Error per output: [0.52552949 0.95577756]. \n",
      "Testing model: RandomForestRegressor. Average Root Mean Squared Error per output: [0.47406098 0.95310776]. \n",
      "Testing model: RandomForestRegressor. Average Root Mean Squared Error per output: [0.5105556  0.96341179]. \n",
      "Testing model: RandomForestRegressor. Average Root Mean Squared Error per output: [0.49748967 0.95882819]. \n",
      "Testing model: RandomForestRegressor. Average Root Mean Squared Error per output: [0.50181865 0.95530813]. \n",
      "Testing model: RandomForestRegressor. Average Root Mean Squared Error per output: [0.50929641 0.95656171]. \n",
      "Testing model: RandomForestRegressor. Average Root Mean Squared Error per output: [0.49605549 0.95561473]. \n",
      "Testing model: RandomForestRegressor. Average Root Mean Squared Error per output: [0.50850233 0.95621452]. \n",
      "Testing model: RandomForestRegressor. Average Root Mean Squared Error per output: [0.5915894  1.01035827]. \n",
      "Testing model: RandomForestRegressor. Average Root Mean Squared Error per output: [0.59169843 1.0013792 ]. \n",
      "Testing model: RandomForestRegressor. Average Root Mean Squared Error per output: [0.59229335 0.99802006]. \n",
      "Testing model: RandomForestRegressor. Average Root Mean Squared Error per output: [0.59253833 1.00873894]. \n",
      "Testing model: RandomForestRegressor. Average Root Mean Squared Error per output: [1.27044069 0.72699713]. \n",
      "Testing model: RandomForestRegressor. Average Root Mean Squared Error per output: [1.29075684 0.72211523]. \n",
      "Testing model: RandomForestRegressor. Average Root Mean Squared Error per output: [0.58979812 1.00526649]. \n",
      "Testing model: RandomForestRegressor. Average Root Mean Squared Error per output: [0.58977243 0.99690797]. \n",
      "Testing model: RandomForestRegressor. Average Root Mean Squared Error per output: [0.58953419 0.99478047]. \n",
      "Testing model: RandomForestRegressor. Average Root Mean Squared Error per output: [1.28534514 0.71752026]. \n",
      "Testing model: RandomForestRegressor. Average Root Mean Squared Error per output: [1.29234354 0.7108993 ]. \n",
      "Testing model: RandomForestRegressor. Average Root Mean Squared Error per output: [0.59170654 1.00385135]. \n",
      "Testing model: RandomForestRegressor. Average Root Mean Squared Error per output: [1.26573453 0.71664434]. \n",
      "Testing model: RandomForestRegressor. Average Root Mean Squared Error per output: [1.25123426 0.72132961]. \n",
      "Testing model: RandomForestRegressor. Average Root Mean Squared Error per output: [1.24192749 0.71913507]. \n",
      "Testing model: RandomForestRegressor. Average Root Mean Squared Error per output: [1.28407879 0.71850981]. \n"
     ]
    },
    {
     "name": "stderr",
     "output_type": "stream",
     "text": []
    },
    {
     "name": "stdout",
     "output_type": "stream",
     "text": [
      "Testing model: XGBRegressor with hyperparameters: {'n_estimators': 50, 'max_depth': 6} and aggregate: ['mean', 'std', 'max', 'min']\n",
      "Testing model: XGBRegressor with hyperparameters: {'n_estimators': 50, 'max_depth': 10} and aggregate: ['mean', 'std', 'max', 'min']\n",
      "Testing model: XGBRegressor with hyperparameters: {'n_estimators': 100, 'max_depth': 6} and aggregate: ['mean', 'std', 'max', 'min']\n",
      "Testing model: XGBRegressor with hyperparameters: {'n_estimators': 100, 'max_depth': 10} and aggregate: ['mean', 'std', 'max', 'min']\n",
      "Testing model: XGBRegressor. Average Root Mean Squared Error per output: [0.62372027 0.88138507]. \n",
      "Testing model: XGBRegressor. Average Root Mean Squared Error per output: [0.61658243 0.87633571]. \n",
      "Testing model: XGBRegressor. Average Root Mean Squared Error per output: [0.64931841 0.89873878]. \n",
      "Testing model: XGBRegressor. Average Root Mean Squared Error per output: [0.64764429 0.89706636]. \n",
      "Testing model: XGBRegressor. Average Root Mean Squared Error per output: [0.59462152 0.99652383]. \n",
      "Testing model: XGBRegressor. Average Root Mean Squared Error per output: [0.60871514 1.07688434]. \n",
      "Testing model: XGBRegressor. Average Root Mean Squared Error per output: [0.59117612 0.99765525]. \n",
      "Testing model: XGBRegressor. Average Root Mean Squared Error per output: [1.41841614 0.87857978]. \n",
      "Testing model: XGBRegressor. Average Root Mean Squared Error per output: [0.60790074 1.07769792]. \n",
      "Testing model: XGBRegressor. Average Root Mean Squared Error per output: [1.33972027 0.867873  ]. \n",
      "Testing model: XGBRegressor. Average Root Mean Squared Error per output: [1.41594355 0.8797254 ]. \n"
     ]
    },
    {
     "name": "stderr",
     "output_type": "stream",
     "text": [
      "Processing subject:  83%|\u001b[32m████████▎ \u001b[0m| 25/30 [14:37:40<2:58:12, 2138.45s/subject]"
     ]
    },
    {
     "name": "stdout",
     "output_type": "stream",
     "text": [
      "Testing model: XGBRegressor. Average Root Mean Squared Error per output: [1.33968251 0.86822338]. \n",
      "Processing video: 11\n"
     ]
    },
    {
     "name": "stderr",
     "output_type": "stream",
     "text": [
      "\n"
     ]
    },
    {
     "name": "stdout",
     "output_type": "stream",
     "text": [
      "Testing model: RandomForestRegressor with hyperparameters: {'n_estimators': 50, 'max_depth': 10, 'min_samples_split': 2} and aggregate: ['min']\n",
      "Testing model: RandomForestRegressor with hyperparameters: {'n_estimators': 50, 'max_depth': 10, 'min_samples_split': 5} and aggregate: ['min']\n",
      "Testing model: RandomForestRegressor with hyperparameters: {'n_estimators': 50, 'max_depth': None, 'min_samples_split': 2} and aggregate: ['min']\n",
      "Testing model: RandomForestRegressor with hyperparameters: {'n_estimators': 50, 'max_depth': None, 'min_samples_split': 5} and aggregate: ['min']\n",
      "Testing model: RandomForestRegressor with hyperparameters: {'n_estimators': 100, 'max_depth': 10, 'min_samples_split': 2} and aggregate: ['min']\n",
      "Testing model: RandomForestRegressor with hyperparameters: {'n_estimators': 100, 'max_depth': 10, 'min_samples_split': 5} and aggregate: ['min']\n",
      "Testing model: RandomForestRegressor with hyperparameters: {'n_estimators': 100, 'max_depth': None, 'min_samples_split': 2} and aggregate: ['min']\n",
      "Testing model: RandomForestRegressor with hyperparameters: {'n_estimators': 100, 'max_depth': None, 'min_samples_split': 5} and aggregate: ['min']\n"
     ]
    },
    {
     "name": "stderr",
     "output_type": "stream",
     "text": [
      "                                                                              \u001b[A"
     ]
    },
    {
     "name": "stdout",
     "output_type": "stream",
     "text": [
      "Testing model: RandomForestRegressor. Average Root Mean Squared Error per output: [0.31544122 2.10441861]. \n",
      "Testing model: RandomForestRegressor. Average Root Mean Squared Error per output: [0.31065444 2.11734926]. \n",
      "Testing model: RandomForestRegressor. Average Root Mean Squared Error per output: [0.31829901 2.10703966]. \n",
      "Testing model: RandomForestRegressor. Average Root Mean Squared Error per output: [0.31614404 2.09775562]. \n",
      "Testing model: RandomForestRegressor. Average Root Mean Squared Error per output: [0.319931  2.1158315]. \n",
      "Testing model: RandomForestRegressor. Average Root Mean Squared Error per output: [0.70178333 2.9272717 ]. \n",
      "Testing model: RandomForestRegressor. Average Root Mean Squared Error per output: [0.70972911 2.93361077]. \n",
      "Testing model: RandomForestRegressor. Average Root Mean Squared Error per output: [0.31728433 2.10800458]. \n",
      "Testing model: RandomForestRegressor. Average Root Mean Squared Error per output: [0.31703901 2.11746262]. \n",
      "Testing model: RandomForestRegressor. Average Root Mean Squared Error per output: [0.31601187 2.11551865]. \n",
      "Testing model: RandomForestRegressor. Average Root Mean Squared Error per output: [0.69855786 2.91374121]. \n",
      "Testing model: RandomForestRegressor. Average Root Mean Squared Error per output: [0.68943482 2.90648515]. \n",
      "Testing model: RandomForestRegressor. Average Root Mean Squared Error per output: [0.37832481 2.39109566]. \n",
      "Testing model: RandomForestRegressor. Average Root Mean Squared Error per output: [0.37621822 2.38815824]. \n",
      "Testing model: RandomForestRegressor. Average Root Mean Squared Error per output: [0.37188785 2.39500748]. \n",
      "Testing model: RandomForestRegressor. Average Root Mean Squared Error per output: [0.37217931 2.39477313]. \n",
      "Testing model: RandomForestRegressor. Average Root Mean Squared Error per output: [0.6986456  2.91960316]. \n",
      "Testing model: RandomForestRegressor. Average Root Mean Squared Error per output: [0.7022234 2.9177746]. \n",
      "Testing model: RandomForestRegressor. Average Root Mean Squared Error per output: [0.69785596 2.91913269]. \n",
      "Testing model: RandomForestRegressor. Average Root Mean Squared Error per output: [0.6977785 2.9239672]. \n",
      "Testing model: RandomForestRegressor. Average Root Mean Squared Error per output: [0.36866729 2.38766169]. \n",
      "Testing model: RandomForestRegressor. Average Root Mean Squared Error per output: [0.36803741 2.38960539]. \n",
      "Testing model: RandomForestRegressor. Average Root Mean Squared Error per output: [0.37032496 2.39513058]. \n",
      "Testing model: RandomForestRegressor. Average Root Mean Squared Error per output: [0.36990966 2.38643685]. \n"
     ]
    },
    {
     "name": "stderr",
     "output_type": "stream",
     "text": []
    },
    {
     "name": "stdout",
     "output_type": "stream",
     "text": [
      "Testing model: XGBRegressor with hyperparameters: {'n_estimators': 50, 'max_depth': 6} and aggregate: ['min']\n",
      "Testing model: XGBRegressor with hyperparameters: {'n_estimators': 50, 'max_depth': 10} and aggregate: ['min']\n",
      "Testing model: XGBRegressor with hyperparameters: {'n_estimators': 100, 'max_depth': 6} and aggregate: ['min']\n",
      "Testing model: XGBRegressor with hyperparameters: {'n_estimators': 100, 'max_depth': 10} and aggregate: ['min']\n",
      "Testing model: XGBRegressor. Average Root Mean Squared Error per output: [0.40395993 0.64336716]. \n",
      "Testing model: XGBRegressor. Average Root Mean Squared Error per output: [0.34928154 0.63592544]. \n",
      "Testing model: XGBRegressor. Average Root Mean Squared Error per output: [0.34945252 0.6358962 ]. \n",
      "Testing model: XGBRegressor. Average Root Mean Squared Error per output: [0.4040911 0.6426386]. \n",
      "Testing model: XGBRegressor. Average Root Mean Squared Error per output: [0.71536527 0.51647403]. \n",
      "Testing model: XGBRegressor. Average Root Mean Squared Error per output: [0.71809394 0.52764022]. \n",
      "Testing model: XGBRegressor. Average Root Mean Squared Error per output: [0.42340262 2.43294261]. \n",
      "Testing model: XGBRegressor. Average Root Mean Squared Error per output: [0.72189589 0.51357529]. \n",
      "Testing model: XGBRegressor. Average Root Mean Squared Error per output: [0.71904578 0.52771114]. \n",
      "Testing model: XGBRegressor. Average Root Mean Squared Error per output: [0.41951074 2.43065482]. \n",
      "Testing model: XGBRegressor. Average Root Mean Squared Error per output: [0.41951074 2.43065482]. \n",
      "Testing model: XGBRegressor. Average Root Mean Squared Error per output: [0.42290079 2.43395505]. \n"
     ]
    },
    {
     "name": "stderr",
     "output_type": "stream",
     "text": []
    },
    {
     "name": "stdout",
     "output_type": "stream",
     "text": [
      "Testing model: RandomForestRegressor with hyperparameters: {'n_estimators': 50, 'max_depth': 10, 'min_samples_split': 2} and aggregate: ['mean', 'std', 'max', 'min']\n",
      "Testing model: RandomForestRegressor with hyperparameters: {'n_estimators': 50, 'max_depth': 10, 'min_samples_split': 5} and aggregate: ['mean', 'std', 'max', 'min']\n",
      "Testing model: RandomForestRegressor with hyperparameters: {'n_estimators': 50, 'max_depth': None, 'min_samples_split': 2} and aggregate: ['mean', 'std', 'max', 'min']\n",
      "Testing model: RandomForestRegressor with hyperparameters: {'n_estimators': 50, 'max_depth': None, 'min_samples_split': 5} and aggregate: ['mean', 'std', 'max', 'min']\n",
      "Testing model: RandomForestRegressor with hyperparameters: {'n_estimators': 100, 'max_depth': 10, 'min_samples_split': 2} and aggregate: ['mean', 'std', 'max', 'min']\n",
      "Testing model: RandomForestRegressor with hyperparameters: {'n_estimators': 100, 'max_depth': 10, 'min_samples_split': 5} and aggregate: ['mean', 'std', 'max', 'min']\n",
      "Testing model: RandomForestRegressor with hyperparameters: {'n_estimators': 100, 'max_depth': None, 'min_samples_split': 2} and aggregate: ['mean', 'std', 'max', 'min']\n",
      "Testing model: RandomForestRegressor with hyperparameters: {'n_estimators': 100, 'max_depth': None, 'min_samples_split': 5} and aggregate: ['mean', 'std', 'max', 'min']\n",
      "Testing model: RandomForestRegressor. Average Root Mean Squared Error per output: [0.80495185 1.57198161]. \n",
      "Testing model: RandomForestRegressor. Average Root Mean Squared Error per output: [0.78480284 1.5861871 ]. \n",
      "Testing model: RandomForestRegressor. Average Root Mean Squared Error per output: [0.74324744 1.51570749]. \n",
      "Testing model: RandomForestRegressor. Average Root Mean Squared Error per output: [0.80891367 1.50483559]. \n",
      "Testing model: RandomForestRegressor. Average Root Mean Squared Error per output: [0.76490182 1.53973596]. \n",
      "Testing model: RandomForestRegressor. Average Root Mean Squared Error per output: [0.75410393 1.52889549]. \n",
      "Testing model: RandomForestRegressor. Average Root Mean Squared Error per output: [0.79944469 1.56922165]. \n",
      "Testing model: RandomForestRegressor. Average Root Mean Squared Error per output: [0.7780771  1.61452529]. \n",
      "Testing model: RandomForestRegressor. Average Root Mean Squared Error per output: [0.71967376 3.03993979]. \n",
      "Testing model: RandomForestRegressor. Average Root Mean Squared Error per output: [0.71301501 3.0782106 ]. \n",
      "Testing model: RandomForestRegressor. Average Root Mean Squared Error per output: [0.72029326 3.04289134]. \n",
      "Testing model: RandomForestRegressor. Average Root Mean Squared Error per output: [0.7247279  3.01488788]. \n",
      "Testing model: RandomForestRegressor. Average Root Mean Squared Error per output: [0.55052551 2.25068921]. \n",
      "Testing model: RandomForestRegressor. Average Root Mean Squared Error per output: [0.54903214 2.25380445]. \n",
      "Testing model: RandomForestRegressor. Average Root Mean Squared Error per output: [0.71394523 3.02770931]. \n",
      "Testing model: RandomForestRegressor. Average Root Mean Squared Error per output: [0.71944729 3.01458677]. \n",
      "Testing model: RandomForestRegressor. Average Root Mean Squared Error per output: [0.54594127 2.25795728]. \n",
      "Testing model: RandomForestRegressor. Average Root Mean Squared Error per output: [0.54868962 2.25626297]. \n",
      "Testing model: RandomForestRegressor. Average Root Mean Squared Error per output: [0.73071566 3.03868416]. \n",
      "Testing model: RandomForestRegressor. Average Root Mean Squared Error per output: [0.72954797 3.03726896]. \n",
      "Testing model: RandomForestRegressor. Average Root Mean Squared Error per output: [0.55041487 2.25535493]. \n",
      "Testing model: RandomForestRegressor. Average Root Mean Squared Error per output: [0.5520844  2.24783512]. \n",
      "Testing model: RandomForestRegressor. Average Root Mean Squared Error per output: [0.55166844 2.25988604]. \n",
      "Testing model: RandomForestRegressor. Average Root Mean Squared Error per output: [0.55037395 2.25468471]. \n"
     ]
    },
    {
     "name": "stderr",
     "output_type": "stream",
     "text": []
    },
    {
     "name": "stdout",
     "output_type": "stream",
     "text": [
      "Testing model: XGBRegressor with hyperparameters: {'n_estimators': 50, 'max_depth': 6} and aggregate: ['mean', 'std', 'max', 'min']\n",
      "Testing model: XGBRegressor with hyperparameters: {'n_estimators': 50, 'max_depth': 10} and aggregate: ['mean', 'std', 'max', 'min']\n",
      "Testing model: XGBRegressor with hyperparameters: {'n_estimators': 100, 'max_depth': 6} and aggregate: ['mean', 'std', 'max', 'min']\n",
      "Testing model: XGBRegressor with hyperparameters: {'n_estimators': 100, 'max_depth': 10} and aggregate: ['mean', 'std', 'max', 'min']\n",
      "Testing model: XGBRegressor. Average Root Mean Squared Error per output: [1.14669741 1.95799181]. \n",
      "Testing model: XGBRegressor. Average Root Mean Squared Error per output: [1.14376297 1.95891164]. \n",
      "Testing model: XGBRegressor. Average Root Mean Squared Error per output: [1.14371655 1.95891164]. \n",
      "Testing model: XGBRegressor. Average Root Mean Squared Error per output: [1.14955561 1.95778448]. \n",
      "Testing model: XGBRegressor. Average Root Mean Squared Error per output: [0.87776865 0.90669257]. \n",
      "Testing model: XGBRegressor. Average Root Mean Squared Error per output: [0.86397796 0.9529436 ]. \n",
      "Testing model: XGBRegressor. Average Root Mean Squared Error per output: [0.52316995 2.27997997]. \n",
      "Testing model: XGBRegressor. Average Root Mean Squared Error per output: [0.86374101 0.95313846]. \n",
      "Testing model: XGBRegressor. Average Root Mean Squared Error per output: [0.87564555 0.90565753]. \n",
      "Testing model: XGBRegressor. Average Root Mean Squared Error per output: [0.52078273 2.28094827]. \n",
      "Testing model: XGBRegressor. Average Root Mean Squared Error per output: [0.52078273 2.28094784]. \n"
     ]
    },
    {
     "name": "stderr",
     "output_type": "stream",
     "text": [
      "Processing subject:  87%|\u001b[32m████████▋ \u001b[0m| 26/30 [15:12:45<2:21:53, 2128.32s/subject]"
     ]
    },
    {
     "name": "stdout",
     "output_type": "stream",
     "text": [
      "Testing model: XGBRegressor. Average Root Mean Squared Error per output: [0.52335816 2.27730983]. \n",
      "Processing video: 18\n"
     ]
    },
    {
     "name": "stderr",
     "output_type": "stream",
     "text": []
    },
    {
     "name": "stdout",
     "output_type": "stream",
     "text": [
      "Testing model: RandomForestRegressor with hyperparameters: {'n_estimators': 50, 'max_depth': 10, 'min_samples_split': 2} and aggregate: ['min']\n",
      "Testing model: RandomForestRegressor with hyperparameters: {'n_estimators': 50, 'max_depth': 10, 'min_samples_split': 5} and aggregate: ['min']\n",
      "Testing model: RandomForestRegressor with hyperparameters: {'n_estimators': 50, 'max_depth': None, 'min_samples_split': 2} and aggregate: ['min']\n",
      "Testing model: RandomForestRegressor with hyperparameters: {'n_estimators': 50, 'max_depth': None, 'min_samples_split': 5} and aggregate: ['min']\n",
      "Testing model: RandomForestRegressor with hyperparameters: {'n_estimators': 100, 'max_depth': 10, 'min_samples_split': 2} and aggregate: ['min']\n"
     ]
    },
    {
     "name": "stderr",
     "output_type": "stream",
     "text": [
      "\n"
     ]
    },
    {
     "name": "stdout",
     "output_type": "stream",
     "text": [
      "Testing model: RandomForestRegressor with hyperparameters: {'n_estimators': 100, 'max_depth': 10, 'min_samples_split': 5} and aggregate: ['min']\n",
      "Testing model: RandomForestRegressor with hyperparameters: {'n_estimators': 100, 'max_depth': None, 'min_samples_split': 2} and aggregate: ['min']\n",
      "Testing model: RandomForestRegressor with hyperparameters: {'n_estimators': 100, 'max_depth': None, 'min_samples_split': 5} and aggregate: ['min']\n"
     ]
    },
    {
     "name": "stderr",
     "output_type": "stream",
     "text": [
      "                                                                              \u001b[A"
     ]
    },
    {
     "name": "stdout",
     "output_type": "stream",
     "text": [
      "Testing model: RandomForestRegressor. Average Root Mean Squared Error per output: [1.89759108 0.54607254]. \n",
      "Testing model: RandomForestRegressor. Average Root Mean Squared Error per output: [1.88883785 0.54746473]. \n",
      "Testing model: RandomForestRegressor. Average Root Mean Squared Error per output: [1.9060289  0.54484412]. \n",
      "Testing model: RandomForestRegressor. Average Root Mean Squared Error per output: [1.8403521  0.54668955]. \n",
      "Testing model: RandomForestRegressor. Average Root Mean Squared Error per output: [1.86206458 0.54763795]. \n",
      "Testing model: RandomForestRegressor. Average Root Mean Squared Error per output: [0.57667094 0.81418524]. \n",
      "Testing model: RandomForestRegressor. Average Root Mean Squared Error per output: [0.58077424 0.81528198]. \n"
     ]
    }
   ],
   "source": [
    "from concurrent.futures import ProcessPoolExecutor, as_completed, ThreadPoolExecutor\n",
    "import threading\n",
    "import multiprocessing\n",
    "from tqdm import tqdm\n",
    "import itertools\n",
    "\n",
    "\n",
    "num_cpu_cores = multiprocessing.cpu_count()\n",
    "\n",
    "# Define aggregate metric combinations\n",
    "aggregate_combinations = [\n",
    "    # ['enlarged'],\n",
    "    # ['mean'],\n",
    "    # ['std'],\n",
    "    # ['max'],\n",
    "    ['min'],\n",
    "    # ['mean', 'std'],\n",
    "    # ['mean', 'max'],\n",
    "    # ['mean', 'min'],\n",
    "    # ['std', 'max'],\n",
    "    # ['std', 'min'],\n",
    "    # ['max', 'min'],\n",
    "    ['mean', 'std', 'max', 'min']\n",
    "]\n",
    "\n",
    "# Define models and hyperparameters\n",
    "models_hyperparameters = [\n",
    "    # (LinearRegression, {}),\n",
    "    # (SVR, {\n",
    "    #     'kernel': ['linear', 'rbf'],\n",
    "    #     'C': [0.1, 1, 10],\n",
    "    #     'epsilon': [0.1, 1],\n",
    "    #     'gamma': ['scale', 'auto'],  # Only used for 'rbf' kernel\n",
    "    # }),\n",
    "    (RandomForestRegressor, {\n",
    "        'n_estimators': [50, 100],\n",
    "        'max_depth': [10, None],\n",
    "        'min_samples_split': [2, 5],\n",
    "        # 'min_samples_leaf': [1, 2],\n",
    "        # 'max_features': ['auto', 'sqrt'],\n",
    "    }),\n",
    "    (XGBRegressor, {\n",
    "        'n_estimators': [50, 100],\n",
    "        'max_depth': [6, 10],\n",
    "    #     'learning_rate': [0.01, 0.1],\n",
    "    #     'subsample': [0.5, 0.8],\n",
    "        # 'colsample_bytree': [0.5, 0.8],\n",
    "        # 'reg_alpha': [0, 0.1],\n",
    "        # 'reg_lambda': [0.1, 1],\n",
    "    }),\n",
    "]\n",
    "\n",
    "# Define a function to process a single hyperparameter set\n",
    "def process_hp_set(hp_set, model, hyperparameters, iter_aggregate, splits, df_physiology_video, df_annotations_video):\n",
    "    hp_dict = dict(zip(hyperparameters.keys(), hp_set))\n",
    "    model_name = model.__name__\n",
    "\n",
    "    print(f\"Testing model: {model_name} with hyperparameters: {hp_dict} and aggregate: {iter_aggregate}\")\n",
    "\n",
    "    rmses = []\n",
    "    for split in splits:\n",
    "        # print(split)\n",
    "\n",
    "        X_train, X_test, y_train, y_test, numeric_column_indices, categorical_column_indices = preprocess(\n",
    "            df_physiology_video.copy(), df_annotations_video.copy(), split=split, predictions_cols=['arousal', 'valence'], aggregate=iter_aggregate,\n",
    "            window_duration=10000, resample_rate=100)\n",
    "\n",
    "        rmse = time_series_cross_validation_with_hyperparameters(\n",
    "            X_train, X_test, y_train, y_test, model, hp_dict, n_jobs=1,\n",
    "            numeric_column_indices=numeric_column_indices,\n",
    "            categorical_column_indices=categorical_column_indices)\n",
    "\n",
    "        rmses.append(rmse)\n",
    "\n",
    "    average_rmse = np.mean(rmses, axis=0)\n",
    "\n",
    "    if y_train.ndim > 1 and y_train.shape[1] > 1:\n",
    "        # Unpack the average_rmse array into separate keys in the result dictionary\n",
    "        result = {\n",
    "            'model': model_name,\n",
    "            'hyperparameters': hp_dict,\n",
    "            'aggregate': iter_aggregate,\n",
    "            'average_rmse_arousal': average_rmse[0],\n",
    "            'average_rmse_valence': average_rmse[1],\n",
    "        }\n",
    "    else:\n",
    "        result = {\n",
    "            'model': model_name,\n",
    "            'hyperparameters': hp_dict,\n",
    "            'aggregate': iter_aggregate,\n",
    "            'average_rmse': average_rmse\n",
    "        }\n",
    "\n",
    "    return result\n",
    "\n",
    "# Initialize an empty DataFrame for the best results and a dictionary for all results\n",
    "best_results_df = pd.DataFrame()\n",
    "all_results = {}\n",
    "\n",
    "# Wrap the outer loop with tqdm\n",
    "for subject in tqdm(subjects, desc=\"Processing subject\", unit=\"subject\", bar_format=\"{l_bar}%s{bar}%s{r_bar}\" % ('\\033[32m', '\\033[0m')):\n",
    "    print(f\"Processing subject: {subject}\")\n",
    "\n",
    "    df_physiology_subject = df_physiology.loc[df_physiology.subject == subject]\n",
    "    df_annotations_subject = df_annotations.loc[df_annotations.subject == subject]\n",
    "\n",
    "    results = []\n",
    "\n",
    "    for iter_aggregate in aggregate_combinations:\n",
    "        # Preprocess data\n",
    "\n",
    "        for model, hyperparameters in models_hyperparameters:\n",
    "\n",
    "            # Use ProcessPoolExecutor to parallelize the loop\n",
    "            with ThreadPoolExecutor(max_workers=num_cpu_cores-1) as executor:\n",
    "                # Prepare the list of arguments for each task\n",
    "                tasks = [\n",
    "                    (hp_set, model, hyperparameters, iter_aggregate, splits, df_physiology_subject, df_annotations_subject)\n",
    "                    for hp_set in itertools.product(*hyperparameters.values())\n",
    "                ]\n",
    "                \n",
    "                # Create a progress bar for ThreadPoolExecutor\n",
    "                progress = tqdm(total=len(tasks), desc=f\"Processing hyperparameters (threads: {threading.active_count()})\", unit=\"hp\", leave=False)\n",
    "\n",
    "                def callback(future):\n",
    "                    progress.update(1)\n",
    "                    result = future.result()\n",
    "                    results.append(result)\n",
    "\n",
    "                    # Update the all_results dictionary\n",
    "                    all_results[f\"{subject}\"] = results\n",
    "\n",
    "                    # Save all_results as JSON\n",
    "                    with open('../results/scenario_3/clean_all_results_shallow_models.json', 'w') as f:\n",
    "                        json.dump(all_results, f, default=str, indent=4)\n",
    "\n",
    "\n",
    "                # Submit the tasks to the executor and add the callback\n",
    "                futures = [executor.submit(process_hp_set, *task_args) for task_args in tasks]\n",
    "                for future in futures:\n",
    "                    future.add_done_callback(callback)\n",
    "                # Close the progress bar\n",
    "                progress.close()\n",
    "                    \n",
    "\n",
    "    results_df = pd.DataFrame(results)\n",
    "\n",
    "    # if y_train.ndim > 1 and y_train.shape[1] > 1:\n",
    "    # Find the best result for each output variable\n",
    "    best_result_output_1 = results_df.loc[results_df['average_rmse_arousal'].idxmin()]\n",
    "    best_result_output_2 = results_df.loc[results_df['average_rmse_valence'].idxmin()]\n",
    "\n",
    "    # Concatenate the best results for each output variable to the best_results_df\n",
    "    best_results_df =pd.concat([best_results_df, best_result_output_1.to_frame().T, best_result_output_2.to_frame().T], ignore_index=True)\n",
    "    # else:\n",
    "    #     best_result = results_df.loc[results_df['average_rmse'].idxmin()]\n",
    "\n",
    "    #     best_results_df = best_results_df.append(best_result, ignore_index=True)\n",
    "\n",
    "\n",
    "    # Save best_results_df as CSV\n",
    "    best_results_df.to_csv('../results/scenario_3/clean_shallow_models_best_result.csv', index=False)\n",
    "\n",
    "print(\"\\nThe best combination of features and hyperparameters for each file pair is:\")\n",
    "print(best_results_df)\n",
    "\n"
   ]
  },
  {
   "cell_type": "markdown",
   "metadata": {},
   "source": []
  }
 ],
 "metadata": {
  "kernelspec": {
   "display_name": "mne",
   "language": "python",
   "name": "python3"
  },
  "language_info": {
   "codemirror_mode": {
    "name": "ipython",
    "version": 3
   },
   "file_extension": ".py",
   "mimetype": "text/x-python",
   "name": "python",
   "nbconvert_exporter": "python",
   "pygments_lexer": "ipython3",
   "version": "3.10.9"
  },
  "orig_nbformat": 4
 },
 "nbformat": 4,
 "nbformat_minor": 2
}
