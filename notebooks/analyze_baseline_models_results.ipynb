{
 "cells": [
  {
   "cell_type": "code",
   "execution_count": 8,
   "metadata": {},
   "outputs": [],
   "source": [
    "import json\n",
    "import pandas as pd\n",
    "import seaborn as sns\n",
    "import ast"
   ]
  },
  {
   "cell_type": "code",
   "execution_count": 2,
   "metadata": {},
   "outputs": [],
   "source": [
    "df = pd.read_csv(r\"..\\results\\shallow_models_best_result.csv\")"
   ]
  },
  {
   "cell_type": "code",
   "execution_count": 3,
   "metadata": {},
   "outputs": [
    {
     "data": {
      "text/html": [
       "<div>\n",
       "<style scoped>\n",
       "    .dataframe tbody tr th:only-of-type {\n",
       "        vertical-align: middle;\n",
       "    }\n",
       "\n",
       "    .dataframe tbody tr th {\n",
       "        vertical-align: top;\n",
       "    }\n",
       "\n",
       "    .dataframe thead th {\n",
       "        text-align: right;\n",
       "    }\n",
       "</style>\n",
       "<table border=\"1\" class=\"dataframe\">\n",
       "  <thead>\n",
       "    <tr style=\"text-align: right;\">\n",
       "      <th></th>\n",
       "      <th>model</th>\n",
       "      <th>hyperparameters</th>\n",
       "      <th>aggregate</th>\n",
       "      <th>average_rmse</th>\n",
       "    </tr>\n",
       "  </thead>\n",
       "  <tbody>\n",
       "    <tr>\n",
       "      <th>0</th>\n",
       "      <td>RandomForestRegressor</td>\n",
       "      <td>{'n_estimators': 50, 'max_depth': 10, 'min_sam...</td>\n",
       "      <td>['min']</td>\n",
       "      <td>0.050655</td>\n",
       "    </tr>\n",
       "    <tr>\n",
       "      <th>1</th>\n",
       "      <td>RandomForestRegressor</td>\n",
       "      <td>{'n_estimators': 50, 'max_depth': 10, 'min_sam...</td>\n",
       "      <td>['min']</td>\n",
       "      <td>0.102212</td>\n",
       "    </tr>\n",
       "    <tr>\n",
       "      <th>2</th>\n",
       "      <td>XGBRegressor</td>\n",
       "      <td>{'n_estimators': 100, 'max_depth': 6, 'learnin...</td>\n",
       "      <td>['mean']</td>\n",
       "      <td>0.198401</td>\n",
       "    </tr>\n",
       "    <tr>\n",
       "      <th>3</th>\n",
       "      <td>RandomForestRegressor</td>\n",
       "      <td>{'n_estimators': 50, 'max_depth': None, 'min_s...</td>\n",
       "      <td>['max']</td>\n",
       "      <td>0.396927</td>\n",
       "    </tr>\n",
       "    <tr>\n",
       "      <th>4</th>\n",
       "      <td>XGBRegressor</td>\n",
       "      <td>{'n_estimators': 100, 'max_depth': 10, 'learni...</td>\n",
       "      <td>['max']</td>\n",
       "      <td>0.522759</td>\n",
       "    </tr>\n",
       "  </tbody>\n",
       "</table>\n",
       "</div>"
      ],
      "text/plain": [
       "                   model                                    hyperparameters   \n",
       "0  RandomForestRegressor  {'n_estimators': 50, 'max_depth': 10, 'min_sam...  \\\n",
       "1  RandomForestRegressor  {'n_estimators': 50, 'max_depth': 10, 'min_sam...   \n",
       "2           XGBRegressor  {'n_estimators': 100, 'max_depth': 6, 'learnin...   \n",
       "3  RandomForestRegressor  {'n_estimators': 50, 'max_depth': None, 'min_s...   \n",
       "4           XGBRegressor  {'n_estimators': 100, 'max_depth': 10, 'learni...   \n",
       "\n",
       "  aggregate  average_rmse  \n",
       "0   ['min']      0.050655  \n",
       "1   ['min']      0.102212  \n",
       "2  ['mean']      0.198401  \n",
       "3   ['max']      0.396927  \n",
       "4   ['max']      0.522759  "
      ]
     },
     "execution_count": 3,
     "metadata": {},
     "output_type": "execute_result"
    }
   ],
   "source": [
    "df.head(\n",
    "\n",
    ")"
   ]
  },
  {
   "cell_type": "code",
   "execution_count": 21,
   "metadata": {},
   "outputs": [
    {
     "data": {
      "text/plain": [
       "<seaborn.axisgrid.FacetGrid at 0x16d201218e0>"
      ]
     },
     "execution_count": 21,
     "metadata": {},
     "output_type": "execute_result"
    },
    {
     "data": {
      "image/png": "[encoded data removed]",
      "text/plain": [
       "<Figure size 719.125x500 with 1 Axes>"
      ]
     },
     "metadata": {},
     "output_type": "display_data"
    }
   ],
   "source": [
    "sns.displot(df, x=\"average_rmse\", hue=\"model\",fill=True)"
   ]
  },
  {
   "cell_type": "code",
   "execution_count": 9,
   "metadata": {},
   "outputs": [
    {
     "data": {
      "text/plain": [
       "{'n_estimators': 50,\n",
       " 'max_depth': 10,\n",
       " 'min_samples_split': 5,\n",
       " 'min_samples_leaf': 2,\n",
       " 'max_features': 'sqrt'}"
      ]
     },
     "execution_count": 9,
     "metadata": {},
     "output_type": "execute_result"
    }
   ],
   "source": [
    "ast.literal_eval(df['hyperparameters'][0])"
   ]
  },
  {
   "cell_type": "code",
   "execution_count": 19,
   "metadata": {},
   "outputs": [],
   "source": [
    "df['hyperparameters'] = df['hyperparameters'].apply(ast.literal_eval)"
   ]
  },
  {
   "cell_type": "code",
   "execution_count": 20,
   "metadata": {},
   "outputs": [],
   "source": [
    "# Assuming your dataframe is named 'df'\n",
    "\n",
    "# Normalize the dictionaries in the 'hyperparameters' column\n",
    "expanded_hyperparameters = pd.json_normalize(df['hyperparameters'])\n",
    "\n",
    "# Concatenate the original dataframe with the expanded hyperparameters dataframe\n",
    "result_df = pd.concat([df.drop('hyperparameters', axis=1), expanded_hyperparameters], axis=1)\n"
   ]
  },
  {
   "cell_type": "code",
   "execution_count": null,
   "metadata": {},
   "outputs": [],
   "source": []
  }
 ],
 "metadata": {
  "kernelspec": {
   "display_name": "base",
   "language": "python",
   "name": "python3"
  },
  "language_info": {
   "codemirror_mode": {
    "name": "ipython",
    "version": 3
   },
   "file_extension": ".py",
   "mimetype": "text/x-python",
   "name": "python",
   "nbconvert_exporter": "python",
   "pygments_lexer": "ipython3",
   "version": "3.9.7"
  },
  "orig_nbformat": 4
 },
 "nbformat": 4,
 "nbformat_minor": 2
}
